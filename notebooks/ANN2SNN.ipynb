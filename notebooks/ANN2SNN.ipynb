{
 "cells": [
  {
   "attachments": {},
   "cell_type": "markdown",
   "metadata": {},
   "source": [
    "# ANN-to-SNN conversion\n",
    "\n",
    "[![Download JupyterNotebook](https://img.shields.io/badge/Download-Notebook-orange?style=for-the-badge&logo=Jupyter)](https://raw.githubusercontent.com/ANNarchy/ANNarchy.github.io/master/notebooks/ANN2SNN.ipynb) [![Download JupyterNotebook](https://img.shields.io/badge/Open_in-Colab-blue?style=for-the-badge&logo=Jupyter)](https://colab.research.google.com/github/ANNarchy/ANNarchy.github.io/blob/master/notebooks/ANN2SNN.ipynb)"
   ]
  },
  {
   "attachments": {},
   "cell_type": "markdown",
   "metadata": {},
   "source": [
    "This notebook demonstrates how to transform a neural network trained using tensorflow/keras into an SNN network usable in ANNarchy.\n",
    "\n",
    "The models are adapted from the original models used in:\n",
    "\n",
    "> Diehl et al. (2015) \"Fast-classifying, high-accuracy spiking deep networks through weight and threshold balancing\" Proceedings of IJCNN. doi: 10.1109/IJCNN.2015.7280696"
   ]
  },
  {
   "cell_type": "code",
   "execution_count": 1,
   "metadata": {},
   "outputs": [],
   "source": [
    "#!pip install ANNarchy"
   ]
  },
  {
   "cell_type": "code",
   "execution_count": 1,
   "metadata": {},
   "outputs": [],
   "source": [
    "import numpy as np\n",
    "import matplotlib.pyplot as plt\n",
    "import tensorflow as tf"
   ]
  },
  {
   "attachments": {},
   "cell_type": "markdown",
   "metadata": {},
   "source": [
    "First we need to download and process the MNIST dataset provided by tensorflow."
   ]
  },
  {
   "cell_type": "code",
   "execution_count": 2,
   "metadata": {},
   "outputs": [],
   "source": [
    "# Download data\n",
    "(X_train, t_train), (X_test, t_test) = tf.keras.datasets.mnist.load_data()\n",
    "\n",
    "# Normalize inputs\n",
    "X_train = X_train.reshape(X_train.shape[0], 784).astype('float32') / 255.\n",
    "X_test = X_test.reshape(X_test.shape[0], 784).astype('float32') / 255.\n",
    "\n",
    "# One-hot output vectors\n",
    "T_train = tf.keras.utils.to_categorical(t_train, 10)\n",
    "T_test = tf.keras.utils.to_categorical(t_test, 10)"
   ]
  },
  {
   "attachments": {},
   "cell_type": "markdown",
   "metadata": {},
   "source": [
    "## Training an ANN in tensorflow/keras\n",
    "\n",
    "The `tensorflow` networks are build using the functional API. \n",
    "\n",
    "The fully-connected network has two fully connected layers with ReLU, **no bias**, dropout at 0.5, and a softmax output layer with 10 neurons. We use the standard SGD optimizer and the categorical crossentropy loss for classification."
   ]
  },
  {
   "cell_type": "code",
   "execution_count": 3,
   "metadata": {},
   "outputs": [],
   "source": [
    "def create_mlp():\n",
    "    # Model\n",
    "    inputs = tf.keras.layers.Input(shape=(784,))\n",
    "    x= tf.keras.layers.Dense(128, use_bias=False, activation='relu')(inputs)\n",
    "    x = tf.keras.layers.Dropout(0.5)(x)\n",
    "    x= tf.keras.layers.Dense(128, use_bias=False, activation='relu')(x)\n",
    "    x = tf.keras.layers.Dropout(0.5)(x)\n",
    "    x=tf.keras.layers.Dense(10, use_bias=False, activation='softmax')(x)\n",
    "\n",
    "    model= tf.keras.Model(inputs, x)\n",
    "\n",
    "    # Optimizer\n",
    "    optimizer = tf.keras.optimizers.SGD(learning_rate=0.05)\n",
    "\n",
    "    # Loss function\n",
    "    model.compile(\n",
    "        loss='categorical_crossentropy', # loss function\n",
    "        optimizer=optimizer, # learning rule\n",
    "        metrics=['accuracy'] # show accuracy\n",
    "    )\n",
    "    print(model.summary())\n",
    "\n",
    "    return model"
   ]
  },
  {
   "attachments": {},
   "cell_type": "markdown",
   "metadata": {},
   "source": [
    "We can now train the network and save the weights in the HDF5 format."
   ]
  },
  {
   "cell_type": "code",
   "execution_count": 4,
   "metadata": {},
   "outputs": [
    {
     "name": "stderr",
     "output_type": "stream",
     "text": [
      "2024-04-18 11:51:43.012838: I metal_plugin/src/device/metal_device.cc:1154] Metal device set to: Apple M1 Pro\n",
      "2024-04-18 11:51:43.012879: I metal_plugin/src/device/metal_device.cc:296] systemMemory: 16.00 GB\n",
      "2024-04-18 11:51:43.012885: I metal_plugin/src/device/metal_device.cc:313] maxCacheSize: 5.33 GB\n",
      "2024-04-18 11:51:43.012962: I tensorflow/core/common_runtime/pluggable_device/pluggable_device_factory.cc:306] Could not identify NUMA node of platform GPU ID 0, defaulting to 0. Your kernel may not have been built with NUMA support.\n",
      "2024-04-18 11:51:43.013007: I tensorflow/core/common_runtime/pluggable_device/pluggable_device_factory.cc:272] Created TensorFlow device (/job:localhost/replica:0/task:0/device:GPU:0 with 0 MB memory) -> physical PluggableDevice (device: 0, name: METAL, pci bus id: <undefined>)\n",
      "WARNING:absl:At this time, the v2.11+ optimizer `tf.keras.optimizers.SGD` runs slowly on M1/M2 Macs, please use the legacy Keras optimizer instead, located at `tf.keras.optimizers.legacy.SGD`.\n"
     ]
    },
    {
     "name": "stdout",
     "output_type": "stream",
     "text": [
      "Model: \"model\"\n",
      "_________________________________________________________________\n",
      " Layer (type)                Output Shape              Param #   \n",
      "=================================================================\n",
      " input_1 (InputLayer)        [(None, 784)]             0         \n",
      "                                                                 \n",
      " dense (Dense)               (None, 128)               100352    \n",
      "                                                                 \n",
      " dropout (Dropout)           (None, 128)               0         \n",
      "                                                                 \n",
      " dense_1 (Dense)             (None, 128)               16384     \n",
      "                                                                 \n",
      " dropout_1 (Dropout)         (None, 128)               0         \n",
      "                                                                 \n",
      " dense_2 (Dense)             (None, 10)                1280      \n",
      "                                                                 \n",
      "=================================================================\n",
      "Total params: 118016 (461.00 KB)\n",
      "Trainable params: 118016 (461.00 KB)\n",
      "Non-trainable params: 0 (0.00 Byte)\n",
      "_________________________________________________________________\n",
      "None\n",
      "Epoch 1/20\n"
     ]
    },
    {
     "name": "stderr",
     "output_type": "stream",
     "text": [
      "2024-04-18 11:51:43.898726: I tensorflow/core/grappler/optimizers/custom_graph_optimizer_registry.cc:117] Plugin optimizer for device_type GPU is enabled.\n",
      "2024-04-18 11:51:43.916026: E tensorflow/core/grappler/optimizers/meta_optimizer.cc:961] model_pruner failed: INVALID_ARGUMENT: Graph does not contain terminal node SGD/AssignVariableOp.\n"
     ]
    },
    {
     "name": "stdout",
     "output_type": "stream",
     "text": [
      "422/422 [==============================] - 7s 11ms/step - loss: 1.0195 - accuracy: 0.6695 - val_loss: 0.3294 - val_accuracy: 0.9118\n",
      "Epoch 2/20\n",
      "422/422 [==============================] - 4s 10ms/step - loss: 0.4740 - accuracy: 0.8596 - val_loss: 0.2327 - val_accuracy: 0.9330\n",
      "Epoch 3/20\n",
      "422/422 [==============================] - 4s 10ms/step - loss: 0.3772 - accuracy: 0.8910 - val_loss: 0.1968 - val_accuracy: 0.9430\n",
      "Epoch 4/20\n",
      "422/422 [==============================] - 4s 10ms/step - loss: 0.3273 - accuracy: 0.9053 - val_loss: 0.1740 - val_accuracy: 0.9490\n",
      "Epoch 5/20\n",
      "422/422 [==============================] - 4s 10ms/step - loss: 0.2935 - accuracy: 0.9153 - val_loss: 0.1564 - val_accuracy: 0.9545\n",
      "Epoch 6/20\n",
      "422/422 [==============================] - 4s 10ms/step - loss: 0.2692 - accuracy: 0.9230 - val_loss: 0.1460 - val_accuracy: 0.9583\n",
      "Epoch 7/20\n",
      "422/422 [==============================] - 4s 10ms/step - loss: 0.2512 - accuracy: 0.9260 - val_loss: 0.1330 - val_accuracy: 0.9605\n",
      "Epoch 8/20\n",
      "422/422 [==============================] - 4s 10ms/step - loss: 0.2352 - accuracy: 0.9317 - val_loss: 0.1270 - val_accuracy: 0.9628\n",
      "Epoch 9/20\n",
      "422/422 [==============================] - 4s 10ms/step - loss: 0.2211 - accuracy: 0.9356 - val_loss: 0.1204 - val_accuracy: 0.9650\n",
      "Epoch 10/20\n",
      "422/422 [==============================] - 4s 10ms/step - loss: 0.2122 - accuracy: 0.9376 - val_loss: 0.1107 - val_accuracy: 0.9682\n",
      "Epoch 11/20\n",
      "422/422 [==============================] - 4s 10ms/step - loss: 0.2041 - accuracy: 0.9413 - val_loss: 0.1108 - val_accuracy: 0.9693\n",
      "Epoch 12/20\n",
      "422/422 [==============================] - 4s 10ms/step - loss: 0.1921 - accuracy: 0.9435 - val_loss: 0.1046 - val_accuracy: 0.9688\n",
      "Epoch 13/20\n",
      "422/422 [==============================] - 4s 9ms/step - loss: 0.1839 - accuracy: 0.9468 - val_loss: 0.0992 - val_accuracy: 0.9700\n",
      "Epoch 14/20\n",
      "422/422 [==============================] - 4s 10ms/step - loss: 0.1802 - accuracy: 0.9468 - val_loss: 0.0981 - val_accuracy: 0.9708\n",
      "Epoch 15/20\n",
      "422/422 [==============================] - 4s 10ms/step - loss: 0.1738 - accuracy: 0.9494 - val_loss: 0.0968 - val_accuracy: 0.9718\n",
      "Epoch 16/20\n",
      "422/422 [==============================] - 4s 10ms/step - loss: 0.1674 - accuracy: 0.9511 - val_loss: 0.0928 - val_accuracy: 0.9730\n",
      "Epoch 17/20\n",
      "422/422 [==============================] - 4s 9ms/step - loss: 0.1605 - accuracy: 0.9540 - val_loss: 0.0945 - val_accuracy: 0.9730\n",
      "Epoch 18/20\n",
      "422/422 [==============================] - 4s 9ms/step - loss: 0.1549 - accuracy: 0.9549 - val_loss: 0.0927 - val_accuracy: 0.9733\n",
      "Epoch 19/20\n",
      "422/422 [==============================] - 4s 9ms/step - loss: 0.1523 - accuracy: 0.9550 - val_loss: 0.0884 - val_accuracy: 0.9725\n",
      "Epoch 20/20\n",
      "422/422 [==============================] - 4s 9ms/step - loss: 0.1472 - accuracy: 0.9565 - val_loss: 0.0868 - val_accuracy: 0.9743\n"
     ]
    },
    {
     "name": "stderr",
     "output_type": "stream",
     "text": [
      "/Users/vitay/.virtualenvs/ANNarchy/lib/python3.11/site-packages/keras/src/engine/training.py:3103: UserWarning: You are saving your model as an HDF5 file via `model.save()`. This file format is considered legacy. We recommend using instead the native Keras format, e.g. `model.save('my_model.keras')`.\n",
      "  saving_api.save_model(\n"
     ]
    },
    {
     "name": "stdout",
     "output_type": "stream",
     "text": [
      "Test accuracy: 0.9696000218391418\n"
     ]
    },
    {
     "data": {
      "image/png": "[encoded data removed]",
      "text/plain": [
       "<Figure size 640x480 with 2 Axes>"
      ]
     },
     "metadata": {},
     "output_type": "display_data"
    }
   ],
   "source": [
    "# Create model\n",
    "model = create_mlp()\n",
    "\n",
    "# Train model\n",
    "history = model.fit(\n",
    "    X_train, T_train,       # training data\n",
    "    batch_size=128,          # batch size\n",
    "    epochs=20,              # Maximum number of epochs\n",
    "    validation_split=0.1,   # Percentage of training data used for validation\n",
    ")\n",
    "model.save(\"runs/mlp.h5\")\n",
    "\n",
    "# Test model\n",
    "predictions_keras = model.predict(X_test, verbose=0)\n",
    "test_loss, test_accuracy = model.evaluate(X_test, T_test, verbose=0)\n",
    "print(f\"Test accuracy: {test_accuracy}\")\n",
    "\n",
    "plt.figure()\n",
    "plt.subplot(121)\n",
    "plt.plot(history.history['loss'], '-r', label=\"Training\")\n",
    "plt.plot(history.history['val_loss'], '-b', label=\"Validation\")\n",
    "plt.xlabel('Epoch #')\n",
    "plt.ylabel('Loss')\n",
    "plt.legend()\n",
    "\n",
    "plt.subplot(122)\n",
    "plt.plot(history.history['accuracy'], '-r', label=\"Training\")\n",
    "plt.plot(history.history['val_accuracy'], '-b', label=\"Validation\")\n",
    "plt.xlabel('Epoch #')\n",
    "plt.ylabel('Accuracy')\n",
    "plt.legend()\n",
    "plt.show()"
   ]
  },
  {
   "attachments": {},
   "cell_type": "markdown",
   "metadata": {},
   "source": [
    "## Initialize the ANN-to-SNN converter\n",
    "\n",
    "We first create an instance of the ANN-to-SNN conversion object. The function receives the *input_encoding* parameter, which is the type of input encoding we want to use. \n",
    "\n",
    "By default, there are *intrinsically bursting* (`IB`), *phase shift oscillation* (`PSO`) and *Poisson* (`poisson`) available."
   ]
  },
  {
   "cell_type": "code",
   "execution_count": 5,
   "metadata": {},
   "outputs": [
    {
     "name": "stdout",
     "output_type": "stream",
     "text": [
      "ANNarchy 4.8 (4.8.0) on darwin (posix).\n"
     ]
    }
   ],
   "source": [
    "from ANNarchy.extensions.ann_to_snn_conversion import ANNtoSNNConverter\n",
    "\n",
    "snn_converter = ANNtoSNNConverter(\n",
    "    input_encoding='IB',\n",
    "    hidden_neuron='IaF', \n",
    "    read_out='spike_count',\n",
    ")"
   ]
  },
  {
   "attachments": {},
   "cell_type": "markdown",
   "metadata": {},
   "source": [
    "After that, we provide the TensorFlow model stored as h5py file to the conversion tool. The print-out of the network structure of the imported network is suppressed when *show_info*=False is provided to *init_from_keras_model*."
   ]
  },
  {
   "cell_type": "code",
   "execution_count": 7,
   "metadata": {},
   "outputs": [
    {
     "name": "stdout",
     "output_type": "stream",
     "text": [
      "WARNING: Dense representation is an experimental feature for spiking models, we greatly appreciate bug reports. \n",
      "Compiling network 1...  OK \n",
      "Parameters\n",
      "----------------------\n",
      "* input encoding: IB\n",
      "* hidden neuron: IaF neuron\n",
      "* read-out method: spike_count\n",
      "\n",
      "Layers\n",
      "----------------------\n",
      "* name=dense, dense layer, geometry=128\n",
      "* name=dense_1, dense layer, geometry=128\n",
      "* name=dense_2, dense layer, geometry=10\n",
      "\n",
      "Projections\n",
      "----------------------\n",
      "* input_1 (784,) -> dense (128,)\n",
      "    weight matrix size (128, 784)\n",
      "    mean -0.002207014709711075, std 0.05199548974633217\n",
      "    min -0.35995912551879883, max 0.20337390899658203\n",
      "* dense (128,) -> dense_1 (128,)\n",
      "    weight matrix size (128, 128)\n",
      "    mean 0.005490789655596018, std 0.10046137124300003\n",
      "    min -0.36605578660964966, max 0.47181716561317444\n",
      "* dense_1 (128,) -> dense_2 (10,)\n",
      "    weight matrix size (10, 128)\n",
      "    mean 0.002933102659881115, std 0.20365405082702637\n",
      "    min -0.5556147694587708, max 0.5943390130996704\n",
      "\n"
     ]
    }
   ],
   "source": [
    "net = snn_converter.init_from_keras_model(\"runs/mlp.h5\")"
   ]
  },
  {
   "attachments": {},
   "cell_type": "markdown",
   "metadata": {},
   "source": [
    "When the network has been built successfully, we can perform a test using all MNIST training samples. Using `duration_per_sample`, the number of steps simulated for each image can be specified."
   ]
  },
  {
   "cell_type": "code",
   "execution_count": 8,
   "metadata": {},
   "outputs": [
    {
     "name": "stdout",
     "output_type": "stream",
     "text": [
      "9900/10000\r"
     ]
    }
   ],
   "source": [
    "predictions_snn = snn_converter.predict(X_test, duration_per_sample=100)"
   ]
  },
  {
   "attachments": {},
   "cell_type": "markdown",
   "metadata": {},
   "source": [
    "Depending on the selected read-out method, it can happen that multiple neurons/classes are selected as a winner for an example. For example, if `duration_per_sample` is too low, several output neurons might output the same number of spikes. \n",
    "\n",
    "In the following cell, we force the predictions to keep only one of the winning neurons by using `np.random.choice`."
   ]
  },
  {
   "cell_type": "code",
   "execution_count": 9,
   "metadata": {},
   "outputs": [],
   "source": [
    "predictions_snn = [ [np.random.choice(p)] for p in predictions_snn ]"
   ]
  },
  {
   "attachments": {},
   "cell_type": "markdown",
   "metadata": {},
   "source": [
    "Using the recorded predictions, we can now compute the accuracy using scikit-learn for all presented samples."
   ]
  },
  {
   "cell_type": "code",
   "execution_count": 10,
   "metadata": {},
   "outputs": [
    {
     "name": "stdout",
     "output_type": "stream",
     "text": [
      "              precision    recall  f1-score   support\n",
      "\n",
      "           0       0.96      0.99      0.97       980\n",
      "           1       0.99      0.99      0.99      1135\n",
      "           2       0.96      0.96      0.96      1032\n",
      "           3       0.91      0.97      0.94      1010\n",
      "           4       0.96      0.94      0.95       982\n",
      "           5       0.96      0.93      0.95       892\n",
      "           6       0.95      0.97      0.96       958\n",
      "           7       0.98      0.95      0.96      1028\n",
      "           8       0.97      0.92      0.94       974\n",
      "           9       0.93      0.95      0.94      1009\n",
      "\n",
      "    accuracy                           0.96     10000\n",
      "   macro avg       0.96      0.96      0.96     10000\n",
      "weighted avg       0.96      0.96      0.96     10000\n",
      "\n",
      "Test accuracy of the SNN: 0.9568\n"
     ]
    }
   ],
   "source": [
    "from sklearn.metrics import classification_report, accuracy_score\n",
    "\n",
    "print(classification_report(t_test, predictions_snn))\n",
    "print(\"Test accuracy of the SNN:\", accuracy_score(t_test, predictions_snn))"
   ]
  },
  {
   "attachments": {},
   "cell_type": "markdown",
   "metadata": {},
   "source": [
    "For comparison, here is the performance of the original SNN:"
   ]
  },
  {
   "cell_type": "code",
   "execution_count": 11,
   "metadata": {},
   "outputs": [
    {
     "name": "stdout",
     "output_type": "stream",
     "text": [
      "              precision    recall  f1-score   support\n",
      "\n",
      "           0       0.97      0.99      0.98       980\n",
      "           1       0.98      0.99      0.98      1135\n",
      "           2       0.96      0.97      0.97      1032\n",
      "           3       0.94      0.98      0.96      1010\n",
      "           4       0.97      0.97      0.97       982\n",
      "           5       0.97      0.96      0.97       892\n",
      "           6       0.97      0.97      0.97       958\n",
      "           7       0.98      0.96      0.97      1028\n",
      "           8       0.98      0.95      0.96       974\n",
      "           9       0.97      0.96      0.96      1009\n",
      "\n",
      "    accuracy                           0.97     10000\n",
      "   macro avg       0.97      0.97      0.97     10000\n",
      "weighted avg       0.97      0.97      0.97     10000\n",
      "\n",
      "Test accuracy of the ANN: 0.9696\n"
     ]
    }
   ],
   "source": [
    "print(classification_report(t_test, predictions_keras.argmax(axis=1)))\n",
    "print(\"Test accuracy of the ANN:\", accuracy_score(t_test, predictions_keras.argmax(axis=1)))"
   ]
  },
  {
   "attachments": {},
   "cell_type": "markdown",
   "metadata": {},
   "source": [
    "A comparison of the predictions made by the ANN and the SNN on each class may reveal different behavior:"
   ]
  },
  {
   "cell_type": "code",
   "execution_count": 12,
   "metadata": {},
   "outputs": [
    {
     "name": "stdout",
     "output_type": "stream",
     "text": [
      "              precision    recall  f1-score   support\n",
      "\n",
      "           0       0.99      0.99      0.99      1001\n",
      "           1       1.00      0.99      0.99      1142\n",
      "           2       0.98      0.97      0.97      1037\n",
      "           3       0.95      0.98      0.96      1049\n",
      "           4       0.97      0.96      0.97       983\n",
      "           5       0.97      0.96      0.97       879\n",
      "           6       0.97      0.98      0.97       957\n",
      "           7       0.99      0.97      0.98      1007\n",
      "           8       0.98      0.95      0.97       948\n",
      "           9       0.95      0.98      0.96       997\n",
      "\n",
      "    accuracy                           0.97     10000\n",
      "   macro avg       0.97      0.97      0.97     10000\n",
      "weighted avg       0.97      0.97      0.97     10000\n",
      "\n"
     ]
    }
   ],
   "source": [
    "print(classification_report(predictions_keras.argmax(axis=1), predictions_snn))"
   ]
  },
  {
   "cell_type": "code",
   "execution_count": null,
   "metadata": {},
   "outputs": [],
   "source": []
  }
 ],
 "metadata": {
  "interpreter": {
   "hash": "3d24234067c217f49dc985cbc60012ce72928059d528f330ba9cb23ce737906d"
  },
  "kernelspec": {
   "display_name": "Python 3 (ipykernel)",
   "language": "python",
   "name": "python3"
  },
  "language_info": {
   "codemirror_mode": {
    "name": "ipython",
    "version": 3
   },
   "file_extension": ".py",
   "mimetype": "text/x-python",
   "name": "python",
   "nbconvert_exporter": "python",
   "pygments_lexer": "ipython3",
   "version": "3.11.9"
  }
 },
 "nbformat": 4,
 "nbformat_minor": 4
}
