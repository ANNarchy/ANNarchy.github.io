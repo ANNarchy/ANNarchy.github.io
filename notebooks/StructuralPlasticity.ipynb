{
 "cells": [
  {
   "cell_type": "markdown",
   "metadata": {},
   "source": [
    "# Structural plasticity\n",
    "\n",
    "[![Download JupyterNotebook](https://img.shields.io/badge/Download-Notebook-orange?style=for-the-badge&logo=Jupyter)](https://raw.githubusercontent.com/ANNarchy/ANNarchy.github.io/master/notebooks/StructuralPlasticity.ipynb) [![Download JupyterNotebook](https://img.shields.io/badge/Open_in-Colab-blue?style=for-the-badge&logo=Jupyter)](https://colab.research.google.com/github/ANNarchy/ANNarchy.github.io/blob/master/notebooks/StructuralPlasticity.ipynb)"
   ]
  },
  {
   "cell_type": "code",
   "execution_count": 1,
   "metadata": {},
   "outputs": [],
   "source": [
    "#!pip install ANNarchy"
   ]
  },
  {
   "cell_type": "markdown",
   "metadata": {},
   "source": [
    "As simple example showing how to use structural plasticity (creation/pruning of synapses) in a rate-coded network (spiking networks work similarly)."
   ]
  },
  {
   "cell_type": "code",
   "execution_count": 2,
   "metadata": {
    "collapsed": false,
    "jupyter": {
     "outputs_hidden": false
    }
   },
   "outputs": [
    {
     "name": "stdout",
     "output_type": "stream",
     "text": [
      "ANNarchy 5.0 (5.0.0) on darwin (posix).\n"
     ]
    }
   ],
   "source": [
    "import numpy as np\n",
    "import matplotlib.pyplot as plt\n",
    "\n",
    "import ANNarchy as ann"
   ]
  },
  {
   "cell_type": "markdown",
   "metadata": {},
   "source": [
    "We define a leaky integrator rate-coded neuron and a small population: "
   ]
  },
  {
   "cell_type": "code",
   "execution_count": 3,
   "metadata": {},
   "outputs": [],
   "source": [
    "LeakyIntegratorNeuron = ann.Neuron(\n",
    "    parameters = dict(\n",
    "        tau = 10.0 ,\n",
    "        baseline = ann.Parameter(0.0, 'local'),\n",
    "    ),\n",
    "    equations = [\n",
    "        ann.Variable(\"tau * dr/dt + r = baseline\", min=0.0),\n",
    "    ]\n",
    ")\n",
    "\n",
    "net = ann.Network()\n",
    "\n",
    "pop = net.create(50, LeakyIntegratorNeuron)"
   ]
  },
  {
   "cell_type": "markdown",
   "metadata": {},
   "source": [
    "Structural plasticity has two components: creation of synapses and pruning (removal) under certain conditions. These conditions are defined in the synapse type itself in the `pruning` and `creating` arguments: "
   ]
  },
  {
   "cell_type": "code",
   "execution_count": 4,
   "metadata": {
    "collapsed": false,
    "jupyter": {
     "outputs_hidden": false
    }
   },
   "outputs": [
    {
     "data": {
      "text/plain": [
       "<ANNarchy.core.Projection.Projection at 0x12f4fb710>"
      ]
     },
     "execution_count": 4,
     "metadata": {},
     "output_type": "execute_result"
    }
   ],
   "source": [
    "StructuralPlasticSynapse = ann.Synapse(\n",
    "    parameters = dict(T = ann.Parameter(10000, 'local', 'int')),\n",
    "    \n",
    "    equations = ann.Variable(\n",
    "        \"age = if pre.r * post.r > 1.0 : 0 else : age + 1\", \n",
    "        init = 0, \n",
    "        type=int\n",
    "    ),\n",
    "    \n",
    "    pruning = ann.Pruning(\"age > T\", proba = 0.1),\n",
    "    \n",
    "    creating = ann.Creating(\"pre.r * post.r > 1.0\", proba = 0.5, w = 0.01),\n",
    ")\n",
    "\n",
    "proj = net.connect(pop, pop, 'exc', StructuralPlasticSynapse)\n",
    "proj.connect_fixed_probability(weights = 0.01, probability=0.1)"
   ]
  },
  {
   "cell_type": "markdown",
   "metadata": {},
   "source": [
    "These conditions must be boolean values, which when `True` may trigger the creation/pruning of a synapse. The flag `proba` gives the probability by which the synapse will actually be created/pruned.\n",
    "\n",
    "* When `creating` is `True`, a synapse that did not exist will be created with the provided probability. Its weight will take the value provided by the flag `w` (0.01), the other variables take their default value.\n",
    "* When `pruning` is `True`, a synapse that exists will be deleted with the given probability.\n",
    "\n",
    "The `pruning` condition can depend on any pre-synaptic, post-synaptic or synaptic variable. The `creating` condition can only depend on pre- or post-synaptic conditions, as the synapse does not exist yet.\n",
    "\n",
    "Apart from these two fields, the synapse is a regular synapse, one could also define synaptic plasticity mechanisms and so on.\n",
    "\n",
    "We finally create a sparse projection within the population, with 10% connectivity."
   ]
  },
  {
   "cell_type": "code",
   "execution_count": 5,
   "metadata": {},
   "outputs": [
    {
     "name": "stdout",
     "output_type": "stream",
     "text": [
      "Compiling network 1...  OK \n"
     ]
    }
   ],
   "source": [
    "net.compile()"
   ]
  },
  {
   "cell_type": "markdown",
   "metadata": {},
   "source": [
    "The creation and pruning have to be explicitly started before a simulation, as they are very expensive computationally. The `period` argument states how often the conditions will be checked (avoid using `dt`):"
   ]
  },
  {
   "cell_type": "code",
   "execution_count": 6,
   "metadata": {},
   "outputs": [],
   "source": [
    "# Start structural plasticity\n",
    "proj.start_creating(period=100.0)\n",
    "proj.start_pruning(period=100.0)\n",
    "\n",
    "# Save the initial connectivity matrix\n",
    "initial_weights = proj.connectivity_matrix()"
   ]
  },
  {
   "cell_type": "markdown",
   "metadata": {},
   "source": [
    "To see the effect of structural plasticity, one alternatively activates one half of the population by setting a high baseline (mimicking corrrelated inputs). As neurons in one half will be activated at the same time, they will create synapses between each other. Between the two halves, the neurons are never co-activated, so the existing synapses will slowly die out.  "
   ]
  },
  {
   "cell_type": "code",
   "execution_count": 7,
   "metadata": {},
   "outputs": [],
   "source": [
    "# Let structural plasticity over several trials\n",
    "for trial in range(20):\n",
    "    \n",
    "    # Activate the first subpopulation\n",
    "    pop[:25].baseline = ann.Uniform(0.5, 1.5)\n",
    "    \n",
    "    # Simulate for 1s\n",
    "    net.simulate(1000.)\n",
    "    \n",
    "    # Reset the population\n",
    "    pop.baseline = 0.0\n",
    "    net.simulate(100.)\n",
    "    \n",
    "    # Activate the second subpopulation\n",
    "    pop[25:].baseline = ann.Uniform(0.5, 1.5) \n",
    "    \n",
    "    # Simulate for 1s\n",
    "    net.simulate(1000.)\n",
    "    \n",
    "    # Reset the population\n",
    "    pop.baseline = 0.0\n",
    "    net.simulate(100.)\n",
    "\n",
    "# Inspect the final connectivity matrix\n",
    "final_weights = proj.connectivity_matrix()"
   ]
  },
  {
   "cell_type": "markdown",
   "metadata": {},
   "source": [
    "We can check the effect of structural plasticity by looking at the connectivity matrix before and after the stimulation:"
   ]
  },
  {
   "cell_type": "code",
   "execution_count": 8,
   "metadata": {
    "collapsed": false,
    "jupyter": {
     "outputs_hidden": false
    }
   },
   "outputs": [
    {
     "data": {
      "image/png": "[encoded data removed]",
      "text/plain": [
       "<Figure size 1200x800 with 2 Axes>"
      ]
     },
     "metadata": {},
     "output_type": "display_data"
    }
   ],
   "source": [
    "plt.figure(figsize=(12, 8))\n",
    "plt.subplot(121)\n",
    "plt.imshow(initial_weights)\n",
    "plt.title('Connectivity matrix before')\n",
    "plt.subplot(122)\n",
    "plt.imshow(final_weights)\n",
    "plt.title('Connectivity matrix after')\n",
    "plt.show()"
   ]
  },
  {
   "cell_type": "markdown",
   "metadata": {},
   "source": [
    "Synapses can be also created/pruned externally from python, using `Dendrite.create_synapse()` and `Dendrite.prune_synapse()`. \n",
    "\n",
    "Here we add a single synapse in a quadrant of the connectivity matrix where no synapses existed:"
   ]
  },
  {
   "cell_type": "code",
   "execution_count": 9,
   "metadata": {},
   "outputs": [
    {
     "data": {
      "image/png": "[encoded data removed]",
      "text/plain": [
       "<Figure size 1200x800 with 2 Axes>"
      ]
     },
     "metadata": {},
     "output_type": "display_data"
    }
   ],
   "source": [
    "# Add a synapse\n",
    "proj.dendrite(10).create_synapse(rank=30, w=0.01)\n",
    "\n",
    "# Inspect the final connectivity matrix\n",
    "weights_after_insertion = proj.connectivity_matrix()\n",
    "\n",
    "plt.figure(figsize=(12, 8))\n",
    "plt.subplot(121)\n",
    "plt.imshow(final_weights)\n",
    "plt.title('Connectivity matrix before')\n",
    "plt.subplot(122)\n",
    "plt.imshow(weights_after_insertion)\n",
    "plt.title('Connectivity matrix after')\n",
    "plt.show()"
   ]
  },
  {
   "cell_type": "code",
   "execution_count": 10,
   "metadata": {},
   "outputs": [
    {
     "data": {
      "image/png": "[encoded data removed]",
      "text/plain": [
       "<Figure size 1200x800 with 2 Axes>"
      ]
     },
     "metadata": {},
     "output_type": "display_data"
    }
   ],
   "source": [
    "# Remove the synapse\n",
    "proj.dendrite(10).prune_synapse(rank=30)\n",
    "\n",
    "# Inspect the final connectivity matrix\n",
    "weights_after_deletion = proj.connectivity_matrix()\n",
    "\n",
    "plt.figure(figsize=(12, 8))\n",
    "plt.subplot(121)\n",
    "plt.imshow(weights_after_insertion)\n",
    "plt.title('Connectivity matrix before')\n",
    "plt.subplot(122)\n",
    "plt.imshow(weights_after_deletion)\n",
    "plt.title('Connectivity matrix after')\n",
    "plt.show()"
   ]
  },
  {
   "cell_type": "code",
   "execution_count": null,
   "metadata": {},
   "outputs": [],
   "source": []
  }
 ],
 "metadata": {
  "kernelspec": {
   "display_name": ".venv",
   "language": "python",
   "name": "python3"
  },
  "language_info": {
   "codemirror_mode": {
    "name": "ipython",
    "version": 3
   },
   "file_extension": ".py",
   "mimetype": "text/x-python",
   "name": "python",
   "nbconvert_exporter": "python",
   "pygments_lexer": "ipython3",
   "version": "3.12.8"
  }
 },
 "nbformat": 4,
 "nbformat_minor": 4
}
