{
 "cells": [
  {
   "cell_type": "markdown",
   "metadata": {},
   "source": [
    "# Parallel simulations\n",
    "\n",
    "[![Download JupyterNotebook](https://img.shields.io/badge/Download-Notebook-orange?style=for-the-badge&logo=Jupyter)](https://raw.githubusercontent.com/ANNarchy/ANNarchy.github.io/master/notebooks/MultipleNetworks.ipynb) [![Download JupyterNotebook](https://img.shields.io/badge/Open_in-Colab-blue?style=for-the-badge&logo=Jupyter)](https://colab.research.google.com/github/ANNarchy/ANNarchy.github.io/blob/master/notebooks/MultipleNetworks.ipynb)"
   ]
  },
  {
   "cell_type": "code",
   "execution_count": 1,
   "metadata": {},
   "outputs": [],
   "source": [
    "#!pip install ANNarchy"
   ]
  },
  {
   "cell_type": "markdown",
   "metadata": {},
   "source": [
    "This example demonstrates the use of `parallel_run()` to simulate the same network multiple times in parallel. "
   ]
  },
  {
   "cell_type": "markdown",
   "metadata": {},
   "source": [
    "We start by creating the Izhikevich pulse-coupled network defined in [Izhikevich.ipynb](https://raw.githubusercontent.com/ANNarchy/ANNarchy.github.io/master/notebooks/Izhikevich.ipynb)."
   ]
  },
  {
   "cell_type": "code",
   "execution_count": 1,
   "metadata": {
    "collapsed": false,
    "jupyter": {
     "outputs_hidden": false
    }
   },
   "outputs": [
    {
     "name": "stdout",
     "output_type": "stream",
     "text": [
      "ANNarchy 4.8 (4.8.3) on darwin (posix).\n"
     ]
    }
   ],
   "source": [
    "import numpy as np\n",
    "import ANNarchy as ann\n",
    "ann.clear()"
   ]
  },
  {
   "cell_type": "code",
   "execution_count": 2,
   "metadata": {},
   "outputs": [
    {
     "name": "stdout",
     "output_type": "stream",
     "text": [
      "Compiling ...  OK \n"
     ]
    }
   ],
   "source": [
    "# Create the whole population\n",
    "P = ann.Population(geometry=1000, neuron=ann.Izhikevich)\n",
    "\n",
    "# Create the excitatory population\n",
    "Exc = P[:800]\n",
    "re = np.random.random(800)\n",
    "Exc.noise = 5.0\n",
    "Exc.a = 0.02\n",
    "Exc.b = 0.2\n",
    "Exc.c = -65.0 + 15.0 * re**2\n",
    "Exc.d = 8.0 - 6.0 * re**2\n",
    "Exc.v = -65.0\n",
    "Exc.u = Exc.v * Exc.b\n",
    "\n",
    "# Create the Inh population\n",
    "Inh = P[800:]\n",
    "ri = np.random.random(200)\n",
    "Inh.noise = 2.0\n",
    "Inh.a = 0.02 + 0.08 * ri\n",
    "Inh.b = 0.25 - 0.05 * ri\n",
    "Inh.c = -65.0\n",
    "Inh.d = 2.0\n",
    "Inh.v = -65.0\n",
    "Inh.u = Inh.v * Inh.b\n",
    "\n",
    "# Create the projections\n",
    "proj_exc = ann.Projection(Exc, P, 'exc')\n",
    "proj_inh = ann.Projection(Inh, P, 'inh')\n",
    "\n",
    "proj_exc.connect_all_to_all(weights=ann.Uniform(0.0, 0.5))\n",
    "proj_inh.connect_all_to_all(weights=ann.Uniform(0.0, 1.0))\n",
    "\n",
    "# Create a spike monitor\n",
    "M = ann.Monitor(P, 'spike')\n",
    "\n",
    "ann.compile()\n"
   ]
  },
  {
   "cell_type": "markdown",
   "metadata": {},
   "source": [
    "We define a simulation method that re-initializes the network, runs a simulation and returns a raster plot. \n",
    "\n",
    "The simulation method must take an index as first argument and a ``Network`` instance as second one."
   ]
  },
  {
   "cell_type": "code",
   "execution_count": 3,
   "metadata": {},
   "outputs": [],
   "source": [
    "def run_network(idx, net):\n",
    "\n",
    "    # Retrieve subpopulations\n",
    "    P_local = net.get(P)\n",
    "    Exc = P_local[:800]\n",
    "    Inh = P_local[800:]\n",
    "    \n",
    "    # Randomize initialization\n",
    "    re = np.random.random(800)\n",
    "    Exc.c = -65.0 + 15.0 * re**2\n",
    "    Exc.d = 8.0 - 6.0 * re**2\n",
    "    ri = np.random.random(200)\n",
    "    Inh.noise = 2.0\n",
    "    Inh.a = 0.02 + 0.08 * ri\n",
    "    Inh.b = 0.25 - 0.05 * ri\n",
    "    Inh.u = Inh.v * Inh.b\n",
    "    \n",
    "    # Simulate\n",
    "    net.simulate(1000.)\n",
    "    \n",
    "    # Recordings\n",
    "    t, n = net.get(M).raster_plot()\n",
    "    return t, n"
   ]
  },
  {
   "cell_type": "markdown",
   "metadata": {},
   "source": [
    "``parallel_run()`` uses the ``multiprocessing`` module to start parallel processes. On Linux, it should work directly, but there is an issue on OSX. Since Python 3.8, the 'spawn' method is the default way to start processes, but it does not work on MacOS. The following cell should fix the issue, but it should only be ran once."
   ]
  },
  {
   "cell_type": "code",
   "execution_count": 4,
   "metadata": {},
   "outputs": [],
   "source": [
    "import platform\n",
    "if platform.system() == \"Darwin\":\n",
    "    import multiprocessing as mp\n",
    "    mp.set_start_method('fork')"
   ]
  },
  {
   "cell_type": "markdown",
   "metadata": {},
   "source": [
    "We can now call ``parallel_run()`` to simulate 8 identical but differently initialized networks. The first call runs the simulations sequentially, while the second is in parallel.\n",
    "\n",
    "We finally plot the raster plots of the two first simulations."
   ]
  },
  {
   "cell_type": "code",
   "execution_count": 5,
   "metadata": {},
   "outputs": [
    {
     "ename": "AttributeError",
     "evalue": "module 'ANNarchy' has no attribute 'parallel_run'",
     "output_type": "error",
     "traceback": [
      "\u001b[0;31m---------------------------------------------------------------------------\u001b[0m",
      "\u001b[0;31mAttributeError\u001b[0m                            Traceback (most recent call last)",
      "Cell \u001b[0;32mIn[5], line 2\u001b[0m\n\u001b[1;32m      1\u001b[0m \u001b[38;5;66;03m# Run four identical simulations sequentially\u001b[39;00m\n\u001b[0;32m----> 2\u001b[0m vals \u001b[38;5;241m=\u001b[39m \u001b[43mann\u001b[49m\u001b[38;5;241;43m.\u001b[39;49m\u001b[43mparallel_run\u001b[49m(method\u001b[38;5;241m=\u001b[39mrun_network, number\u001b[38;5;241m=\u001b[39m\u001b[38;5;241m8\u001b[39m, measure_time\u001b[38;5;241m=\u001b[39m\u001b[38;5;28;01mTrue\u001b[39;00m, sequential\u001b[38;5;241m=\u001b[39m\u001b[38;5;28;01mTrue\u001b[39;00m)\n\u001b[1;32m      4\u001b[0m \u001b[38;5;66;03m# Run four identical simulations in parallel\u001b[39;00m\n\u001b[1;32m      5\u001b[0m vals \u001b[38;5;241m=\u001b[39m ann\u001b[38;5;241m.\u001b[39mparallel_run(method\u001b[38;5;241m=\u001b[39mrun_network, number\u001b[38;5;241m=\u001b[39m\u001b[38;5;241m8\u001b[39m, measure_time\u001b[38;5;241m=\u001b[39m\u001b[38;5;28;01mTrue\u001b[39;00m)\n",
      "\u001b[0;31mAttributeError\u001b[0m: module 'ANNarchy' has no attribute 'parallel_run'"
     ]
    }
   ],
   "source": [
    "# Run four identical simulations sequentially\n",
    "vals = ann.parallel_run(method=run_network, number=8, measure_time=True, sequential=True)\n",
    "\n",
    "# Run four identical simulations in parallel\n",
    "vals = ann.parallel_run(method=run_network, number=8, measure_time=True)\n",
    "\n",
    "# Data analysis\n",
    "t1, n1 = vals[0]\n",
    "t2, n2 = vals[1]\n",
    "\n",
    "import matplotlib.pyplot as plt\n",
    "plt.figure(figsize=(15, 8))\n",
    "plt.subplot(121)\n",
    "plt.plot(t1, n1, '.')\n",
    "plt.subplot(122)\n",
    "plt.plot(t2, n2, '.')\n",
    "plt.show()"
   ]
  },
  {
   "cell_type": "code",
   "execution_count": null,
   "metadata": {},
   "outputs": [],
   "source": []
  }
 ],
 "metadata": {
  "kernelspec": {
   "display_name": ".venv",
   "language": "python",
   "name": "python3"
  },
  "language_info": {
   "codemirror_mode": {
    "name": "ipython",
    "version": 3
   },
   "file_extension": ".py",
   "mimetype": "text/x-python",
   "name": "python",
   "nbconvert_exporter": "python",
   "pygments_lexer": "ipython3",
   "version": "3.12.8"
  }
 },
 "nbformat": 4,
 "nbformat_minor": 4
}
