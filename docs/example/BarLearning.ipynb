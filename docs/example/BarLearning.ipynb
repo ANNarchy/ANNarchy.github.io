{
 "cells": [
  {
   "cell_type": "markdown",
   "metadata": {},
   "source": [
    "# Bar Learning problem\n",
    "\n",
    "Download the Jupyter notebook : [BarLearning.ipynb](https://raw.githubusercontent.com/ANNarchy/ANNarchy.github.io/master/docs/example/BarLearning.ipynb)"
   ]
  },
  {
   "cell_type": "markdown",
   "metadata": {},
   "source": [
    "The bar learning problem describes the process of learning receptive fields on an artificial input pattern.\n",
    "Images consisting of independent bars are used. Those images are generated as following: an 8\\*8 image can filled randomly by eight horizontal or vertical bars, with a probability of 1/8 for each.\n",
    "\n",
    "These input images are fed into a neural population, whose neurons should learn to extract the independent components of the input distribution, namely single horizontal or vertical bars.\n"
   ]
  },
  {
   "cell_type": "markdown",
   "metadata": {},
   "source": [
    "## Model overview"
   ]
  },
  {
   "cell_type": "markdown",
   "metadata": {},
   "source": [
    "The model consists of two populations `Input` and `Feature`. The size of\n",
    "`Input` should be chosen to fit the input image size (here 8\\*8). The\n",
    "number of neurons in the `Feature` population should be higher than the\n",
    "total number of independent bars (16, we choose here 32 neurons). The\n",
    "`Feature` population gets excitory connections from `Input` through an\n",
    "all-to-all connection pattern. The same pattern is used for the\n",
    "inhibitory connections within `Feature`."
   ]
  },
  {
   "cell_type": "markdown",
   "metadata": {},
   "source": [
    "## Defining the neurons and populations"
   ]
  },
  {
   "cell_type": "code",
   "execution_count": 1,
   "metadata": {
    "collapsed": false,
    "jupyter": {
     "outputs_hidden": false
    }
   },
   "outputs": [
    {
     "output_type": "stream",
     "name": "stdout",
     "text": [
      "ANNarchy 4.7 (4.7.0) on linux (posix).\n"
     ]
    }
   ],
   "source": [
    "from ANNarchy import *\n",
    "clear()"
   ]
  },
  {
   "cell_type": "markdown",
   "metadata": {},
   "source": [
    "**Input population:**\n",
    "\n",
    "The input pattern will be clamped into this population by the main\n",
    "loop for every trial, so we need just an empty neuron at this\n",
    "point:"
   ]
  },
  {
   "cell_type": "code",
   "execution_count": 2,
   "metadata": {
    "collapsed": false,
    "jupyter": {
     "outputs_hidden": false
    }
   },
   "outputs": [],
   "source": [
    "InputNeuron = Neuron(parameters=\"r = 0.0\")"
   ]
  },
  {
   "cell_type": "markdown",
   "metadata": {},
   "source": [
    "The trick here is to declare `r` as a parameter, not a variable: its\n",
    "value will not be computed by the simulator, but only set by external\n",
    "inputs. The `Input` population can then be created:"
   ]
  },
  {
   "cell_type": "code",
   "execution_count": 3,
   "metadata": {
    "collapsed": false,
    "jupyter": {
     "outputs_hidden": false
    }
   },
   "outputs": [],
   "source": [
    "Input = Population(geometry=(8, 8), neuron=InputNeuron)"
   ]
  },
  {
   "cell_type": "markdown",
   "metadata": {},
   "source": [
    "**Feature population:**\n",
    "\n",
    "The neuron type composing this population sums up all the excitory\n",
    "inputs gain from `Input` and the lateral inhibition within `Feature`.\n",
    "\n",
    "$$\\tau \\frac {dr_{j}^{\\text{Feature}}}{dt} + r_{j}^{Feature} = \\sum_{i} w_{ij} \\cdot r_{i}^{\\text{Input}}  - \\sum_{k, k \\ne j} w_{kj} * r_{k}^{Feature}$$\n",
    "\n",
    "could be implemented as the following:\n"
   ]
  },
  {
   "cell_type": "code",
   "execution_count": 4,
   "metadata": {
    "collapsed": false,
    "jupyter": {
     "outputs_hidden": false
    }
   },
   "outputs": [],
   "source": [
    "LeakyNeuron = Neuron(\n",
    "    parameters=\"\"\" \n",
    "        tau = 10.0 : population\n",
    "    \"\"\",\n",
    "    equations=\"\"\"\n",
    "        tau * dr/dt + r = sum(exc) - sum(inh) : min=0.0\n",
    "    \"\"\"\n",
    ")"
   ]
  },
  {
   "cell_type": "markdown",
   "metadata": {},
   "source": [
    "The firing rate is restricted to positive values with the `min=0.0`\n",
    "flag. The population is created in the following way:"
   ]
  },
  {
   "cell_type": "code",
   "execution_count": 5,
   "metadata": {
    "collapsed": false,
    "jupyter": {
     "outputs_hidden": false
    }
   },
   "outputs": [],
   "source": [
    "Feature = Population(geometry=(8, 4), neuron=LeakyNeuron)"
   ]
  },
  {
   "cell_type": "markdown",
   "metadata": {},
   "source": [
    "We give it a (8, 4) geometry for visualization only, it does not\n",
    "influence computations at all."
   ]
  },
  {
   "cell_type": "markdown",
   "metadata": {},
   "source": [
    "## Defining the synapse and projections"
   ]
  },
  {
   "cell_type": "markdown",
   "metadata": {},
   "source": [
    "Both feedforward (`Input` $\\rightarrow$ `Feature`) and lateral\n",
    "(`Feature` $\\rightarrow$ `Feature`) projections are learned using the\n",
    "Oja learning rule (a regularized Hebbian learning rule ensuring the sum\n",
    "of all weights coming to a neuron is constant). Only some parameters will\n",
    "differ between the projections.\n",
    "\n",
    "$$\\tau \\frac{dw_{ij}}{dt} = r_{i} * r_{j} - \\alpha * r_{j}^{2} * w_{ij}$$\n",
    "\n",
    "where $\\alpha$ is a parameter defining the strength of the\n",
    "regularization, $r_i$ is the pre-synaptic firing rate and $r_j$ the\n",
    "post-synaptic one. The implementation of this synapse type is\n",
    "straightforward:"
   ]
  },
  {
   "cell_type": "code",
   "execution_count": 6,
   "metadata": {
    "collapsed": false,
    "jupyter": {
     "outputs_hidden": false
    }
   },
   "outputs": [],
   "source": [
    "Oja = Synapse(\n",
    "    parameters=\"\"\" \n",
    "        tau = 2000.0 : postsynaptic\n",
    "        alpha = 8.0 : postsynaptic\n",
    "        min_w = 0.0 : postsynaptic\n",
    "    \"\"\",\n",
    "    equations=\"\"\"\n",
    "        tau * dw/dt = pre.r * post.r - alpha * post.r^2 * w : min=min_w\n",
    "    \"\"\"\n",
    ")  "
   ]
  },
  {
   "cell_type": "markdown",
   "metadata": {},
   "source": [
    "For this network we need to create two projections, one excitory between\n",
    "the populations `Input` and `Feature` and one inhibitory within the\n",
    "`Feature` population itself:"
   ]
  },
  {
   "cell_type": "code",
   "execution_count": 7,
   "metadata": {
    "collapsed": false,
    "jupyter": {
     "outputs_hidden": false
    }
   },
   "outputs": [
    {
     "output_type": "execute_result",
     "data": {
      "text/plain": [
       "<ANNarchy.core.Projection.Projection at 0x7f54eeb16730>"
      ]
     },
     "metadata": {},
     "execution_count": 7
    }
   ],
   "source": [
    "ff = Projection(\n",
    "    pre=Input, \n",
    "    post=Feature, \n",
    "    target='exc', \n",
    "    synapse = Oja    \n",
    ")\n",
    "ff.connect_all_to_all(weights = Uniform(-0.5, 0.5))\n",
    "                     \n",
    "lat = Projection(\n",
    "    pre=Feature, \n",
    "    post=Feature, \n",
    "    target='inh', \n",
    "    synapse = Oja\n",
    ")\n",
    "lat.connect_all_to_all(weights = Uniform(0.0, 1.0))"
   ]
  },
  {
   "cell_type": "markdown",
   "metadata": {},
   "source": [
    "The two projections are all-to-all and use the `Oja` synapse type. They\n",
    "only differ by the parameter `alpha` (lower in `lat`) and\n",
    "the fact that the weights of `ff` are allowed to be negative\n",
    "(so we set the minimum value to -10.0):"
   ]
  },
  {
   "cell_type": "code",
   "execution_count": 8,
   "metadata": {
    "collapsed": false,
    "jupyter": {
     "outputs_hidden": false
    }
   },
   "outputs": [],
   "source": [
    "ff.min_w = -10.0\n",
    "lat.alpha = 0.3"
   ]
  },
  {
   "cell_type": "markdown",
   "metadata": {},
   "source": [
    "## Setting inputs"
   ]
  },
  {
   "cell_type": "markdown",
   "metadata": {},
   "source": [
    "Once the network is defined, one has to specify how inputs are fed into\n",
    "the `Input` population. A simple solution is to define a method that\n",
    "sets the firing rate of `Input` according to the specified probabilities\n",
    "every time it is called, and runs the simulation for 50 ms:"
   ]
  },
  {
   "cell_type": "code",
   "execution_count": 9,
   "metadata": {
    "collapsed": false,
    "jupyter": {
     "outputs_hidden": false
    }
   },
   "outputs": [],
   "source": [
    "def trial():\n",
    "    # Reset the firing rate for all neurons\n",
    "    Input.r = 0.0\n",
    "    # Clamp horizontal bars randomly\n",
    "    for h in range(Input.geometry[0]):\n",
    "        if np.random.random() < 1.0/ float(Input.geometry[0]):\n",
    "            Input[h, :].r = 1.0\n",
    "    # Clamp vertical bars randomly\n",
    "    for w in range(Input.geometry[1]):\n",
    "        if np.random.random() < 1.0/ float(Input.geometry[1]):\n",
    "            Input[:, w].r = 1.0\n",
    "    # Simulate for 50ms\n",
    "    simulate(50.)\n",
    "    # Return firing rates and receptive fields for visualization\n",
    "    return Input.r, Feature.r, ff.receptive_fields()"
   ]
  },
  {
   "cell_type": "markdown",
   "metadata": {},
   "source": [
    "One can use here a single value or a Numpy array (e.g.\n",
    "`np.zeros(Input.geometry))`) to reset activity in Input, it does not matter.\n",
    "\n",
    "For all possible horizontal bars, a decision is then made whether the\n",
    "bar should appear or not, in which case the firing rate of the\n",
    "correspondng neurons is set to 1.0:\n",
    "\n",
    "```python\n",
    "for h in range(Input.geometry[0]):\n",
    "    if np.random.random() < 1.0/ float(Input.geometry[0]):\n",
    "        Input[h, :].r = 1.0\n",
    "```\n",
    "\n",
    "`Input[h, :]` is a PopulationView, i.e. a group of neurons defined by\n",
    "the sub-indices (here the row of index `h`). Their attributes, such as\n",
    "`r`, can be accessed as if it were a regular population. The same is\n",
    "done for vertical bars."
   ]
  },
  {
   "cell_type": "markdown",
   "metadata": {},
   "source": [
    "## Running the simulation"
   ]
  },
  {
   "cell_type": "markdown",
   "metadata": {},
   "source": [
    "Once the method for setting inputs is defined, the simulation can be\n",
    "started. A basic approach would be to define a `for` loop where the\n",
    "`trial()` method is called repetitively:"
   ]
  },
  {
   "cell_type": "code",
   "execution_count": 10,
   "metadata": {
    "collapsed": false,
    "jupyter": {
     "outputs_hidden": false
    }
   },
   "outputs": [
    {
     "output_type": "stream",
     "name": "stdout",
     "text": [
      "Compiling ...  OK \n"
     ]
    }
   ],
   "source": [
    "compile()\n",
    "\n",
    "for t in range(1000):\n",
    "    input_r, feature_r, weights = trial()"
   ]
  },
  {
   "cell_type": "code",
   "execution_count": 11,
   "metadata": {
    "collapsed": false,
    "jupyter": {
     "outputs_hidden": false
    }
   },
   "outputs": [
    {
     "output_type": "display_data",
     "data": {
      "text/plain": "<Figure size 1080x720 with 3 Axes>",
      "image/svg+xml": "<?xml version=\"1.0\" encoding=\"utf-8\" standalone=\"no\"?>\n<!DOCTYPE svg PUBLIC \"-//W3C//DTD SVG 1.1//EN\"\n  \"http://www.w3.org/Graphics/SVG/1.1/DTD/svg11.dtd\">\n<svg height=\"292.372721pt\" version=\"1.1\" viewBox=\"0 0 864.7625 292.372721\" width=\"864.7625pt\" xmlns=\"http://www.w3.org/2000/svg\" xmlns:xlink=\"http://www.w3.org/1999/xlink\">\n <metadata>\n  <rdf:RDF xmlns:cc=\"http://creativecommons.org/ns#\" xmlns:dc=\"http://purl.org/dc/elements/1.1/\" xmlns:rdf=\"http://www.w3.org/1999/02/22-rdf-syntax-ns#\">\n   <cc:Work>\n    <dc:type rdf:resource=\"http://purl.org/dc/dcmitype/StillImage\"/>\n    <dc:date>2021-10-02T10:47:34.771658</dc:date>\n    <dc:format>image/svg+xml</dc:format>\n    <dc:creator>\n     <cc:Agent>\n      <dc:title>Matplotlib v3.4.3, https://matplotlib.org/</dc:title>\n     </cc:Agent>\n    </dc:creator>\n   </cc:Work>\n  </rdf:RDF>\n </metadata>\n <defs>\n  <style type=\"text/css\">*{stroke-linecap:butt;stroke-linejoin:round;}</style>\n </defs>\n <g id=\"figure_1\">\n  <g id=\"patch_1\">\n   <path d=\"M 0 292.372721 \nL 864.7625 292.372721 \nL 864.7625 -0 \nL 0 -0 \nz\n\" style=\"fill:none;\"/>\n  </g>\n  <g id=\"axes_1\">\n   <g id=\"patch_2\">\n    <path d=\"M 20.5625 268.494596 \nL 266.738971 268.494596 \nL 266.738971 22.318125 \nL 20.5625 22.318125 \nz\n\" style=\"fill:#ffffff;\"/>\n   </g>\n   <g clip-path=\"url(#p01bcc91209)\">\n    <image height=\"247\" id=\"image4a1623d176\" transform=\"scale(1 -1)translate(0 -247)\" width=\"247\" x=\"20.5625\" xlink:href=\"data:image/png;base64,\niVBORw0KGgoAAAANSUhEUgAAAPcAAAD3CAYAAADBjMJTAAAC/0lEQVR4nO3dwQnEQAwEwdPh/FOWozCCpiqB2U+j587u7u/IzFxNQ97/+gHAN8QNUeKGKHFDlLghStwQJW6IEjdEiRuixA1R4oYocUOUuCFK3BAlbogSN0SJG6LEDVHihihxQ5S4IUrcECVuiBI3RIkbosQNUeKGKHFDlLghStwQJW6IEjdEiRuixA1R4oYocUOUuCFK3BAlbogSN0SJG6LEDVHihihxQ5S4IUrcECVuiBI3RIkbosQNUeKGKHFDlLghStwQJW6IEjdEiRuixA1R4oYocUOUuCHquRzf3ct5SHO5IUrcECVuiBI3RIkbosQNUeKGKHFDlLghStwQJW6IEjdEiRuixA1R4oYocUOUuCFK3BAlbogSN0SJG6LEDVHihihxQ5S4IUrcECVuiBI3RIkbosQNUadf+M7M5TykudwQJW6IEjdEiRuixA1R4oYocUOUuCFK3BAlbogSN0SJG6LEDVHihihxQ5S4IUrcECVuiBI3RIkbosQNUeKGKHFDlLghStwQJW6IEjdEiRuixA1R4oao0y98d/dyHtJcbogSN0SJG6LEDVHihihxQ5S4IUrcECVuiBI3RIkbosQNUeKGKHFDlLghStwQJW6IEjdEiRuixA1R4oYocUOUuCFK3BAlbogSN0SJG6LEDVHihihxQ5S4IUrcECVuiBI3RIkbosQNUeKGKHFDlLghStwQJW6IEjdEiRuixA1R4oYocUOUuCFK3BAlbogSN0SJG6LEDVHihihxQ5S4IUrcECVuiBI3RIkbosQNUeKGKHFDlLghStwQJW6IEjdEiRuixA1R4oYocUOUuCFK3BAlbogSN0SJG6LEDVHihihxQ5S4IUrcECVuiBI3RIkbosQNUeKGKHFDlLghStwQJW6IEjdEiRuixA1R4oYocUOUuCFK3BAlbogSN0SJG6LEDVHihihxQ5S4IUrcECVuiBI3RIkbosQNUeKGKHFDlLghStwQJW6IEjdEiRuixA1R4oYocUOUuCFK3BAlbogSN0S9KOQL8AoYtzUAAAAASUVORK5CYII=\" y=\"-21.494596\"/>\n   </g>\n   <g id=\"matplotlib.axis_1\">\n    <g id=\"xtick_1\">\n     <g id=\"line2d_1\">\n      <defs>\n       <path d=\"M 0 0 \nL 0 3.5 \n\" id=\"m52bb5fc63b\" style=\"stroke:#000000;stroke-width:0.8;\"/>\n      </defs>\n      <g>\n       <use style=\"stroke:#000000;stroke-width:0.8;\" x=\"35.948529\" xlink:href=\"#m52bb5fc63b\" y=\"268.494596\"/>\n      </g>\n     </g>\n     <g id=\"text_1\">\n      <!-- 0 -->\n      <g transform=\"translate(32.767279 283.093033)scale(0.1 -0.1)\">\n       <defs>\n        <path d=\"M 2034 4250 \nQ 1547 4250 1301 3770 \nQ 1056 3291 1056 2328 \nQ 1056 1369 1301 889 \nQ 1547 409 2034 409 \nQ 2525 409 2770 889 \nQ 3016 1369 3016 2328 \nQ 3016 3291 2770 3770 \nQ 2525 4250 2034 4250 \nz\nM 2034 4750 \nQ 2819 4750 3233 4129 \nQ 3647 3509 3647 2328 \nQ 3647 1150 3233 529 \nQ 2819 -91 2034 -91 \nQ 1250 -91 836 529 \nQ 422 1150 422 2328 \nQ 422 3509 836 4129 \nQ 1250 4750 2034 4750 \nz\n\" id=\"DejaVuSans-30\" transform=\"scale(0.015625)\"/>\n       </defs>\n       <use xlink:href=\"#DejaVuSans-30\"/>\n      </g>\n     </g>\n    </g>\n    <g id=\"xtick_2\">\n     <g id=\"line2d_2\">\n      <g>\n       <use style=\"stroke:#000000;stroke-width:0.8;\" x=\"66.720588\" xlink:href=\"#m52bb5fc63b\" y=\"268.494596\"/>\n      </g>\n     </g>\n     <g id=\"text_2\">\n      <!-- 1 -->\n      <g transform=\"translate(63.539338 283.093033)scale(0.1 -0.1)\">\n       <defs>\n        <path d=\"M 794 531 \nL 1825 531 \nL 1825 4091 \nL 703 3866 \nL 703 4441 \nL 1819 4666 \nL 2450 4666 \nL 2450 531 \nL 3481 531 \nL 3481 0 \nL 794 0 \nL 794 531 \nz\n\" id=\"DejaVuSans-31\" transform=\"scale(0.015625)\"/>\n       </defs>\n       <use xlink:href=\"#DejaVuSans-31\"/>\n      </g>\n     </g>\n    </g>\n    <g id=\"xtick_3\">\n     <g id=\"line2d_3\">\n      <g>\n       <use style=\"stroke:#000000;stroke-width:0.8;\" x=\"97.492647\" xlink:href=\"#m52bb5fc63b\" y=\"268.494596\"/>\n      </g>\n     </g>\n     <g id=\"text_3\">\n      <!-- 2 -->\n      <g transform=\"translate(94.311397 283.093033)scale(0.1 -0.1)\">\n       <defs>\n        <path d=\"M 1228 531 \nL 3431 531 \nL 3431 0 \nL 469 0 \nL 469 531 \nQ 828 903 1448 1529 \nQ 2069 2156 2228 2338 \nQ 2531 2678 2651 2914 \nQ 2772 3150 2772 3378 \nQ 2772 3750 2511 3984 \nQ 2250 4219 1831 4219 \nQ 1534 4219 1204 4116 \nQ 875 4013 500 3803 \nL 500 4441 \nQ 881 4594 1212 4672 \nQ 1544 4750 1819 4750 \nQ 2544 4750 2975 4387 \nQ 3406 4025 3406 3419 \nQ 3406 3131 3298 2873 \nQ 3191 2616 2906 2266 \nQ 2828 2175 2409 1742 \nQ 1991 1309 1228 531 \nz\n\" id=\"DejaVuSans-32\" transform=\"scale(0.015625)\"/>\n       </defs>\n       <use xlink:href=\"#DejaVuSans-32\"/>\n      </g>\n     </g>\n    </g>\n    <g id=\"xtick_4\">\n     <g id=\"line2d_4\">\n      <g>\n       <use style=\"stroke:#000000;stroke-width:0.8;\" x=\"128.264706\" xlink:href=\"#m52bb5fc63b\" y=\"268.494596\"/>\n      </g>\n     </g>\n     <g id=\"text_4\">\n      <!-- 3 -->\n      <g transform=\"translate(125.083456 283.093033)scale(0.1 -0.1)\">\n       <defs>\n        <path d=\"M 2597 2516 \nQ 3050 2419 3304 2112 \nQ 3559 1806 3559 1356 \nQ 3559 666 3084 287 \nQ 2609 -91 1734 -91 \nQ 1441 -91 1130 -33 \nQ 819 25 488 141 \nL 488 750 \nQ 750 597 1062 519 \nQ 1375 441 1716 441 \nQ 2309 441 2620 675 \nQ 2931 909 2931 1356 \nQ 2931 1769 2642 2001 \nQ 2353 2234 1838 2234 \nL 1294 2234 \nL 1294 2753 \nL 1863 2753 \nQ 2328 2753 2575 2939 \nQ 2822 3125 2822 3475 \nQ 2822 3834 2567 4026 \nQ 2313 4219 1838 4219 \nQ 1578 4219 1281 4162 \nQ 984 4106 628 3988 \nL 628 4550 \nQ 988 4650 1302 4700 \nQ 1616 4750 1894 4750 \nQ 2613 4750 3031 4423 \nQ 3450 4097 3450 3541 \nQ 3450 3153 3228 2886 \nQ 3006 2619 2597 2516 \nz\n\" id=\"DejaVuSans-33\" transform=\"scale(0.015625)\"/>\n       </defs>\n       <use xlink:href=\"#DejaVuSans-33\"/>\n      </g>\n     </g>\n    </g>\n    <g id=\"xtick_5\">\n     <g id=\"line2d_5\">\n      <g>\n       <use style=\"stroke:#000000;stroke-width:0.8;\" x=\"159.036765\" xlink:href=\"#m52bb5fc63b\" y=\"268.494596\"/>\n      </g>\n     </g>\n     <g id=\"text_5\">\n      <!-- 4 -->\n      <g transform=\"translate(155.855515 283.093033)scale(0.1 -0.1)\">\n       <defs>\n        <path d=\"M 2419 4116 \nL 825 1625 \nL 2419 1625 \nL 2419 4116 \nz\nM 2253 4666 \nL 3047 4666 \nL 3047 1625 \nL 3713 1625 \nL 3713 1100 \nL 3047 1100 \nL 3047 0 \nL 2419 0 \nL 2419 1100 \nL 313 1100 \nL 313 1709 \nL 2253 4666 \nz\n\" id=\"DejaVuSans-34\" transform=\"scale(0.015625)\"/>\n       </defs>\n       <use xlink:href=\"#DejaVuSans-34\"/>\n      </g>\n     </g>\n    </g>\n    <g id=\"xtick_6\">\n     <g id=\"line2d_6\">\n      <g>\n       <use style=\"stroke:#000000;stroke-width:0.8;\" x=\"189.808824\" xlink:href=\"#m52bb5fc63b\" y=\"268.494596\"/>\n      </g>\n     </g>\n     <g id=\"text_6\">\n      <!-- 5 -->\n      <g transform=\"translate(186.627574 283.093033)scale(0.1 -0.1)\">\n       <defs>\n        <path d=\"M 691 4666 \nL 3169 4666 \nL 3169 4134 \nL 1269 4134 \nL 1269 2991 \nQ 1406 3038 1543 3061 \nQ 1681 3084 1819 3084 \nQ 2600 3084 3056 2656 \nQ 3513 2228 3513 1497 \nQ 3513 744 3044 326 \nQ 2575 -91 1722 -91 \nQ 1428 -91 1123 -41 \nQ 819 9 494 109 \nL 494 744 \nQ 775 591 1075 516 \nQ 1375 441 1709 441 \nQ 2250 441 2565 725 \nQ 2881 1009 2881 1497 \nQ 2881 1984 2565 2268 \nQ 2250 2553 1709 2553 \nQ 1456 2553 1204 2497 \nQ 953 2441 691 2322 \nL 691 4666 \nz\n\" id=\"DejaVuSans-35\" transform=\"scale(0.015625)\"/>\n       </defs>\n       <use xlink:href=\"#DejaVuSans-35\"/>\n      </g>\n     </g>\n    </g>\n    <g id=\"xtick_7\">\n     <g id=\"line2d_7\">\n      <g>\n       <use style=\"stroke:#000000;stroke-width:0.8;\" x=\"220.580882\" xlink:href=\"#m52bb5fc63b\" y=\"268.494596\"/>\n      </g>\n     </g>\n     <g id=\"text_7\">\n      <!-- 6 -->\n      <g transform=\"translate(217.399632 283.093033)scale(0.1 -0.1)\">\n       <defs>\n        <path d=\"M 2113 2584 \nQ 1688 2584 1439 2293 \nQ 1191 2003 1191 1497 \nQ 1191 994 1439 701 \nQ 1688 409 2113 409 \nQ 2538 409 2786 701 \nQ 3034 994 3034 1497 \nQ 3034 2003 2786 2293 \nQ 2538 2584 2113 2584 \nz\nM 3366 4563 \nL 3366 3988 \nQ 3128 4100 2886 4159 \nQ 2644 4219 2406 4219 \nQ 1781 4219 1451 3797 \nQ 1122 3375 1075 2522 \nQ 1259 2794 1537 2939 \nQ 1816 3084 2150 3084 \nQ 2853 3084 3261 2657 \nQ 3669 2231 3669 1497 \nQ 3669 778 3244 343 \nQ 2819 -91 2113 -91 \nQ 1303 -91 875 529 \nQ 447 1150 447 2328 \nQ 447 3434 972 4092 \nQ 1497 4750 2381 4750 \nQ 2619 4750 2861 4703 \nQ 3103 4656 3366 4563 \nz\n\" id=\"DejaVuSans-36\" transform=\"scale(0.015625)\"/>\n       </defs>\n       <use xlink:href=\"#DejaVuSans-36\"/>\n      </g>\n     </g>\n    </g>\n    <g id=\"xtick_8\">\n     <g id=\"line2d_8\">\n      <g>\n       <use style=\"stroke:#000000;stroke-width:0.8;\" x=\"251.352941\" xlink:href=\"#m52bb5fc63b\" y=\"268.494596\"/>\n      </g>\n     </g>\n     <g id=\"text_8\">\n      <!-- 7 -->\n      <g transform=\"translate(248.171691 283.093033)scale(0.1 -0.1)\">\n       <defs>\n        <path d=\"M 525 4666 \nL 3525 4666 \nL 3525 4397 \nL 1831 0 \nL 1172 0 \nL 2766 4134 \nL 525 4134 \nL 525 4666 \nz\n\" id=\"DejaVuSans-37\" transform=\"scale(0.015625)\"/>\n       </defs>\n       <use xlink:href=\"#DejaVuSans-37\"/>\n      </g>\n     </g>\n    </g>\n   </g>\n   <g id=\"matplotlib.axis_2\">\n    <g id=\"ytick_1\">\n     <g id=\"line2d_9\">\n      <defs>\n       <path d=\"M 0 0 \nL -3.5 0 \n\" id=\"m2305186d81\" style=\"stroke:#000000;stroke-width:0.8;\"/>\n      </defs>\n      <g>\n       <use style=\"stroke:#000000;stroke-width:0.8;\" x=\"20.5625\" xlink:href=\"#m2305186d81\" y=\"37.704154\"/>\n      </g>\n     </g>\n     <g id=\"text_9\">\n      <!-- 0 -->\n      <g transform=\"translate(7.2 41.503373)scale(0.1 -0.1)\">\n       <use xlink:href=\"#DejaVuSans-30\"/>\n      </g>\n     </g>\n    </g>\n    <g id=\"ytick_2\">\n     <g id=\"line2d_10\">\n      <g>\n       <use style=\"stroke:#000000;stroke-width:0.8;\" x=\"20.5625\" xlink:href=\"#m2305186d81\" y=\"68.476213\"/>\n      </g>\n     </g>\n     <g id=\"text_10\">\n      <!-- 1 -->\n      <g transform=\"translate(7.2 72.275432)scale(0.1 -0.1)\">\n       <use xlink:href=\"#DejaVuSans-31\"/>\n      </g>\n     </g>\n    </g>\n    <g id=\"ytick_3\">\n     <g id=\"line2d_11\">\n      <g>\n       <use style=\"stroke:#000000;stroke-width:0.8;\" x=\"20.5625\" xlink:href=\"#m2305186d81\" y=\"99.248272\"/>\n      </g>\n     </g>\n     <g id=\"text_11\">\n      <!-- 2 -->\n      <g transform=\"translate(7.2 103.047491)scale(0.1 -0.1)\">\n       <use xlink:href=\"#DejaVuSans-32\"/>\n      </g>\n     </g>\n    </g>\n    <g id=\"ytick_4\">\n     <g id=\"line2d_12\">\n      <g>\n       <use style=\"stroke:#000000;stroke-width:0.8;\" x=\"20.5625\" xlink:href=\"#m2305186d81\" y=\"130.020331\"/>\n      </g>\n     </g>\n     <g id=\"text_12\">\n      <!-- 3 -->\n      <g transform=\"translate(7.2 133.81955)scale(0.1 -0.1)\">\n       <use xlink:href=\"#DejaVuSans-33\"/>\n      </g>\n     </g>\n    </g>\n    <g id=\"ytick_5\">\n     <g id=\"line2d_13\">\n      <g>\n       <use style=\"stroke:#000000;stroke-width:0.8;\" x=\"20.5625\" xlink:href=\"#m2305186d81\" y=\"160.79239\"/>\n      </g>\n     </g>\n     <g id=\"text_13\">\n      <!-- 4 -->\n      <g transform=\"translate(7.2 164.591608)scale(0.1 -0.1)\">\n       <use xlink:href=\"#DejaVuSans-34\"/>\n      </g>\n     </g>\n    </g>\n    <g id=\"ytick_6\">\n     <g id=\"line2d_14\">\n      <g>\n       <use style=\"stroke:#000000;stroke-width:0.8;\" x=\"20.5625\" xlink:href=\"#m2305186d81\" y=\"191.564449\"/>\n      </g>\n     </g>\n     <g id=\"text_14\">\n      <!-- 5 -->\n      <g transform=\"translate(7.2 195.363667)scale(0.1 -0.1)\">\n       <use xlink:href=\"#DejaVuSans-35\"/>\n      </g>\n     </g>\n    </g>\n    <g id=\"ytick_7\">\n     <g id=\"line2d_15\">\n      <g>\n       <use style=\"stroke:#000000;stroke-width:0.8;\" x=\"20.5625\" xlink:href=\"#m2305186d81\" y=\"222.336507\"/>\n      </g>\n     </g>\n     <g id=\"text_15\">\n      <!-- 6 -->\n      <g transform=\"translate(7.2 226.135726)scale(0.1 -0.1)\">\n       <use xlink:href=\"#DejaVuSans-36\"/>\n      </g>\n     </g>\n    </g>\n    <g id=\"ytick_8\">\n     <g id=\"line2d_16\">\n      <g>\n       <use style=\"stroke:#000000;stroke-width:0.8;\" x=\"20.5625\" xlink:href=\"#m2305186d81\" y=\"253.108566\"/>\n      </g>\n     </g>\n     <g id=\"text_16\">\n      <!-- 7 -->\n      <g transform=\"translate(7.2 256.907785)scale(0.1 -0.1)\">\n       <use xlink:href=\"#DejaVuSans-37\"/>\n      </g>\n     </g>\n    </g>\n   </g>\n   <g id=\"patch_3\">\n    <path d=\"M 20.5625 268.494596 \nL 20.5625 22.318125 \n\" style=\"fill:none;stroke:#000000;stroke-linecap:square;stroke-linejoin:miter;stroke-width:0.8;\"/>\n   </g>\n   <g id=\"patch_4\">\n    <path d=\"M 266.738971 268.494596 \nL 266.738971 22.318125 \n\" style=\"fill:none;stroke:#000000;stroke-linecap:square;stroke-linejoin:miter;stroke-width:0.8;\"/>\n   </g>\n   <g id=\"patch_5\">\n    <path d=\"M 20.5625 268.494596 \nL 266.738971 268.494596 \n\" style=\"fill:none;stroke:#000000;stroke-linecap:square;stroke-linejoin:miter;stroke-width:0.8;\"/>\n   </g>\n   <g id=\"patch_6\">\n    <path d=\"M 20.5625 22.318125 \nL 266.738971 22.318125 \n\" style=\"fill:none;stroke:#000000;stroke-linecap:square;stroke-linejoin:miter;stroke-width:0.8;\"/>\n   </g>\n   <g id=\"text_17\">\n    <!-- Input -->\n    <g transform=\"translate(128.114485 16.318125)scale(0.12 -0.12)\">\n     <defs>\n      <path d=\"M 628 4666 \nL 1259 4666 \nL 1259 0 \nL 628 0 \nL 628 4666 \nz\n\" id=\"DejaVuSans-49\" transform=\"scale(0.015625)\"/>\n      <path d=\"M 3513 2113 \nL 3513 0 \nL 2938 0 \nL 2938 2094 \nQ 2938 2591 2744 2837 \nQ 2550 3084 2163 3084 \nQ 1697 3084 1428 2787 \nQ 1159 2491 1159 1978 \nL 1159 0 \nL 581 0 \nL 581 3500 \nL 1159 3500 \nL 1159 2956 \nQ 1366 3272 1645 3428 \nQ 1925 3584 2291 3584 \nQ 2894 3584 3203 3211 \nQ 3513 2838 3513 2113 \nz\n\" id=\"DejaVuSans-6e\" transform=\"scale(0.015625)\"/>\n      <path d=\"M 1159 525 \nL 1159 -1331 \nL 581 -1331 \nL 581 3500 \nL 1159 3500 \nL 1159 2969 \nQ 1341 3281 1617 3432 \nQ 1894 3584 2278 3584 \nQ 2916 3584 3314 3078 \nQ 3713 2572 3713 1747 \nQ 3713 922 3314 415 \nQ 2916 -91 2278 -91 \nQ 1894 -91 1617 61 \nQ 1341 213 1159 525 \nz\nM 3116 1747 \nQ 3116 2381 2855 2742 \nQ 2594 3103 2138 3103 \nQ 1681 3103 1420 2742 \nQ 1159 2381 1159 1747 \nQ 1159 1113 1420 752 \nQ 1681 391 2138 391 \nQ 2594 391 2855 752 \nQ 3116 1113 3116 1747 \nz\n\" id=\"DejaVuSans-70\" transform=\"scale(0.015625)\"/>\n      <path d=\"M 544 1381 \nL 544 3500 \nL 1119 3500 \nL 1119 1403 \nQ 1119 906 1312 657 \nQ 1506 409 1894 409 \nQ 2359 409 2629 706 \nQ 2900 1003 2900 1516 \nL 2900 3500 \nL 3475 3500 \nL 3475 0 \nL 2900 0 \nL 2900 538 \nQ 2691 219 2414 64 \nQ 2138 -91 1772 -91 \nQ 1169 -91 856 284 \nQ 544 659 544 1381 \nz\nM 1991 3584 \nL 1991 3584 \nz\n\" id=\"DejaVuSans-75\" transform=\"scale(0.015625)\"/>\n      <path d=\"M 1172 4494 \nL 1172 3500 \nL 2356 3500 \nL 2356 3053 \nL 1172 3053 \nL 1172 1153 \nQ 1172 725 1289 603 \nQ 1406 481 1766 481 \nL 2356 481 \nL 2356 0 \nL 1766 0 \nQ 1100 0 847 248 \nQ 594 497 594 1153 \nL 594 3053 \nL 172 3053 \nL 172 3500 \nL 594 3500 \nL 594 4494 \nL 1172 4494 \nz\n\" id=\"DejaVuSans-74\" transform=\"scale(0.015625)\"/>\n     </defs>\n     <use xlink:href=\"#DejaVuSans-49\"/>\n     <use x=\"29.492188\" xlink:href=\"#DejaVuSans-6e\"/>\n     <use x=\"92.871094\" xlink:href=\"#DejaVuSans-70\"/>\n     <use x=\"156.347656\" xlink:href=\"#DejaVuSans-75\"/>\n     <use x=\"219.726562\" xlink:href=\"#DejaVuSans-74\"/>\n    </g>\n   </g>\n  </g>\n  <g id=\"axes_2\">\n   <g id=\"patch_7\">\n    <path d=\"M 315.974265 206.950478 \nL 562.150735 206.950478 \nL 562.150735 83.862243 \nL 315.974265 83.862243 \nz\n\" style=\"fill:#ffffff;\"/>\n   </g>\n   <g clip-path=\"url(#pf092eb7ff1)\">\n    <image height=\"124\" id=\"image0010afc8e6\" transform=\"scale(1 -1)translate(0 -124)\" width=\"247\" x=\"315.974265\" xlink:href=\"data:image/png;base64,\niVBORw0KGgoAAAANSUhEUgAAAPcAAAB8CAYAAAC1+yZIAAAB3ElEQVR4nO3dMZFCQRRFwZlVgjRMkGIAExj5IT5+hA1WBfuqznYbuMmceuHs8zw/a8jlcpmaHnW9Xkd2n8/nyO5/9n6/x7Z/xpaBrxI3RIkbosQNUeKGKHFDlLghStwQJW6IEjdEiRuixA1R4oYocUOUuCFK3BAlbogSN0SJG6LEDVHihihxQ5S4IUrcECVuiBI3RIkbosQNUeKGKHFD1F5rjX3hO+nxeIxt3263se0pn8/cM9t7j22f5zm27XJDlLghStwQJW6IEjdEiRuixA1R4oYocUOUuCFK3BAlbogSN0SJG6LEDVHihihxQ5S4IUrcECVuiBI3RIkbosQNUeKGKHFDlLghStwQJW6IEjdEiRui9v1+H/tb9fV6TU2v4zjGtuEvuNwQJW6IEjdEiRuixA1R4oYocUOUuCFK3BAlbogSN0SJG6LEDVHihihxQ5S4IUrcECVuiBI3RIkbosQNUeKGKHFDlLghStwQJW6IEjdEiRuixA1R4oaovdYa+8IX+B6XG6LEDVHihihxQ5S4IUrcECVuiBI3RIkbosQNUeKGKHFDlLghStwQJW6IEjdEiRuixA1R4oYocUOUuCFK3BAlbogSN0SJG6LEDVHihihxQ5S4IUrcEPULHAIcQ0sPEhkAAAAASUVORK5CYII=\" y=\"-82.950478\"/>\n   </g>\n   <g id=\"matplotlib.axis_3\">\n    <g id=\"xtick_9\">\n     <g id=\"line2d_17\">\n      <g>\n       <use style=\"stroke:#000000;stroke-width:0.8;\" x=\"331.360294\" xlink:href=\"#m52bb5fc63b\" y=\"206.950478\"/>\n      </g>\n     </g>\n     <g id=\"text_18\">\n      <!-- 0 -->\n      <g transform=\"translate(328.179044 221.548915)scale(0.1 -0.1)\">\n       <use xlink:href=\"#DejaVuSans-30\"/>\n      </g>\n     </g>\n    </g>\n    <g id=\"xtick_10\">\n     <g id=\"line2d_18\">\n      <g>\n       <use style=\"stroke:#000000;stroke-width:0.8;\" x=\"362.132353\" xlink:href=\"#m52bb5fc63b\" y=\"206.950478\"/>\n      </g>\n     </g>\n     <g id=\"text_19\">\n      <!-- 1 -->\n      <g transform=\"translate(358.951103 221.548915)scale(0.1 -0.1)\">\n       <use xlink:href=\"#DejaVuSans-31\"/>\n      </g>\n     </g>\n    </g>\n    <g id=\"xtick_11\">\n     <g id=\"line2d_19\">\n      <g>\n       <use style=\"stroke:#000000;stroke-width:0.8;\" x=\"392.904412\" xlink:href=\"#m52bb5fc63b\" y=\"206.950478\"/>\n      </g>\n     </g>\n     <g id=\"text_20\">\n      <!-- 2 -->\n      <g transform=\"translate(389.723162 221.548915)scale(0.1 -0.1)\">\n       <use xlink:href=\"#DejaVuSans-32\"/>\n      </g>\n     </g>\n    </g>\n    <g id=\"xtick_12\">\n     <g id=\"line2d_20\">\n      <g>\n       <use style=\"stroke:#000000;stroke-width:0.8;\" x=\"423.676471\" xlink:href=\"#m52bb5fc63b\" y=\"206.950478\"/>\n      </g>\n     </g>\n     <g id=\"text_21\">\n      <!-- 3 -->\n      <g transform=\"translate(420.495221 221.548915)scale(0.1 -0.1)\">\n       <use xlink:href=\"#DejaVuSans-33\"/>\n      </g>\n     </g>\n    </g>\n    <g id=\"xtick_13\">\n     <g id=\"line2d_21\">\n      <g>\n       <use style=\"stroke:#000000;stroke-width:0.8;\" x=\"454.448529\" xlink:href=\"#m52bb5fc63b\" y=\"206.950478\"/>\n      </g>\n     </g>\n     <g id=\"text_22\">\n      <!-- 4 -->\n      <g transform=\"translate(451.267279 221.548915)scale(0.1 -0.1)\">\n       <use xlink:href=\"#DejaVuSans-34\"/>\n      </g>\n     </g>\n    </g>\n    <g id=\"xtick_14\">\n     <g id=\"line2d_22\">\n      <g>\n       <use style=\"stroke:#000000;stroke-width:0.8;\" x=\"485.220588\" xlink:href=\"#m52bb5fc63b\" y=\"206.950478\"/>\n      </g>\n     </g>\n     <g id=\"text_23\">\n      <!-- 5 -->\n      <g transform=\"translate(482.039338 221.548915)scale(0.1 -0.1)\">\n       <use xlink:href=\"#DejaVuSans-35\"/>\n      </g>\n     </g>\n    </g>\n    <g id=\"xtick_15\">\n     <g id=\"line2d_23\">\n      <g>\n       <use style=\"stroke:#000000;stroke-width:0.8;\" x=\"515.992647\" xlink:href=\"#m52bb5fc63b\" y=\"206.950478\"/>\n      </g>\n     </g>\n     <g id=\"text_24\">\n      <!-- 6 -->\n      <g transform=\"translate(512.811397 221.548915)scale(0.1 -0.1)\">\n       <use xlink:href=\"#DejaVuSans-36\"/>\n      </g>\n     </g>\n    </g>\n    <g id=\"xtick_16\">\n     <g id=\"line2d_24\">\n      <g>\n       <use style=\"stroke:#000000;stroke-width:0.8;\" x=\"546.764706\" xlink:href=\"#m52bb5fc63b\" y=\"206.950478\"/>\n      </g>\n     </g>\n     <g id=\"text_25\">\n      <!-- 7 -->\n      <g transform=\"translate(543.583456 221.548915)scale(0.1 -0.1)\">\n       <use xlink:href=\"#DejaVuSans-37\"/>\n      </g>\n     </g>\n    </g>\n   </g>\n   <g id=\"matplotlib.axis_4\">\n    <g id=\"ytick_9\">\n     <g id=\"line2d_25\">\n      <g>\n       <use style=\"stroke:#000000;stroke-width:0.8;\" x=\"315.974265\" xlink:href=\"#m2305186d81\" y=\"99.248272\"/>\n      </g>\n     </g>\n     <g id=\"text_26\">\n      <!-- 0 -->\n      <g transform=\"translate(302.611765 103.047491)scale(0.1 -0.1)\">\n       <use xlink:href=\"#DejaVuSans-30\"/>\n      </g>\n     </g>\n    </g>\n    <g id=\"ytick_10\">\n     <g id=\"line2d_26\">\n      <g>\n       <use style=\"stroke:#000000;stroke-width:0.8;\" x=\"315.974265\" xlink:href=\"#m2305186d81\" y=\"130.020331\"/>\n      </g>\n     </g>\n     <g id=\"text_27\">\n      <!-- 1 -->\n      <g transform=\"translate(302.611765 133.81955)scale(0.1 -0.1)\">\n       <use xlink:href=\"#DejaVuSans-31\"/>\n      </g>\n     </g>\n    </g>\n    <g id=\"ytick_11\">\n     <g id=\"line2d_27\">\n      <g>\n       <use style=\"stroke:#000000;stroke-width:0.8;\" x=\"315.974265\" xlink:href=\"#m2305186d81\" y=\"160.79239\"/>\n      </g>\n     </g>\n     <g id=\"text_28\">\n      <!-- 2 -->\n      <g transform=\"translate(302.611765 164.591608)scale(0.1 -0.1)\">\n       <use xlink:href=\"#DejaVuSans-32\"/>\n      </g>\n     </g>\n    </g>\n    <g id=\"ytick_12\">\n     <g id=\"line2d_28\">\n      <g>\n       <use style=\"stroke:#000000;stroke-width:0.8;\" x=\"315.974265\" xlink:href=\"#m2305186d81\" y=\"191.564449\"/>\n      </g>\n     </g>\n     <g id=\"text_29\">\n      <!-- 3 -->\n      <g transform=\"translate(302.611765 195.363667)scale(0.1 -0.1)\">\n       <use xlink:href=\"#DejaVuSans-33\"/>\n      </g>\n     </g>\n    </g>\n   </g>\n   <g id=\"patch_8\">\n    <path d=\"M 315.974265 206.950478 \nL 315.974265 83.862243 \n\" style=\"fill:none;stroke:#000000;stroke-linecap:square;stroke-linejoin:miter;stroke-width:0.8;\"/>\n   </g>\n   <g id=\"patch_9\">\n    <path d=\"M 562.150735 206.950478 \nL 562.150735 83.862243 \n\" style=\"fill:none;stroke:#000000;stroke-linecap:square;stroke-linejoin:miter;stroke-width:0.8;\"/>\n   </g>\n   <g id=\"patch_10\">\n    <path d=\"M 315.974265 206.950478 \nL 562.150735 206.950478 \n\" style=\"fill:none;stroke:#000000;stroke-linecap:square;stroke-linejoin:miter;stroke-width:0.8;\"/>\n   </g>\n   <g id=\"patch_11\">\n    <path d=\"M 315.974265 83.862243 \nL 562.150735 83.862243 \n\" style=\"fill:none;stroke:#000000;stroke-linecap:square;stroke-linejoin:miter;stroke-width:0.8;\"/>\n   </g>\n   <g id=\"text_30\">\n    <!-- Feature -->\n    <g transform=\"translate(416.394687 77.862243)scale(0.12 -0.12)\">\n     <defs>\n      <path d=\"M 628 4666 \nL 3309 4666 \nL 3309 4134 \nL 1259 4134 \nL 1259 2759 \nL 3109 2759 \nL 3109 2228 \nL 1259 2228 \nL 1259 0 \nL 628 0 \nL 628 4666 \nz\n\" id=\"DejaVuSans-46\" transform=\"scale(0.015625)\"/>\n      <path d=\"M 3597 1894 \nL 3597 1613 \nL 953 1613 \nQ 991 1019 1311 708 \nQ 1631 397 2203 397 \nQ 2534 397 2845 478 \nQ 3156 559 3463 722 \nL 3463 178 \nQ 3153 47 2828 -22 \nQ 2503 -91 2169 -91 \nQ 1331 -91 842 396 \nQ 353 884 353 1716 \nQ 353 2575 817 3079 \nQ 1281 3584 2069 3584 \nQ 2775 3584 3186 3129 \nQ 3597 2675 3597 1894 \nz\nM 3022 2063 \nQ 3016 2534 2758 2815 \nQ 2500 3097 2075 3097 \nQ 1594 3097 1305 2825 \nQ 1016 2553 972 2059 \nL 3022 2063 \nz\n\" id=\"DejaVuSans-65\" transform=\"scale(0.015625)\"/>\n      <path d=\"M 2194 1759 \nQ 1497 1759 1228 1600 \nQ 959 1441 959 1056 \nQ 959 750 1161 570 \nQ 1363 391 1709 391 \nQ 2188 391 2477 730 \nQ 2766 1069 2766 1631 \nL 2766 1759 \nL 2194 1759 \nz\nM 3341 1997 \nL 3341 0 \nL 2766 0 \nL 2766 531 \nQ 2569 213 2275 61 \nQ 1981 -91 1556 -91 \nQ 1019 -91 701 211 \nQ 384 513 384 1019 \nQ 384 1609 779 1909 \nQ 1175 2209 1959 2209 \nL 2766 2209 \nL 2766 2266 \nQ 2766 2663 2505 2880 \nQ 2244 3097 1772 3097 \nQ 1472 3097 1187 3025 \nQ 903 2953 641 2809 \nL 641 3341 \nQ 956 3463 1253 3523 \nQ 1550 3584 1831 3584 \nQ 2591 3584 2966 3190 \nQ 3341 2797 3341 1997 \nz\n\" id=\"DejaVuSans-61\" transform=\"scale(0.015625)\"/>\n      <path d=\"M 2631 2963 \nQ 2534 3019 2420 3045 \nQ 2306 3072 2169 3072 \nQ 1681 3072 1420 2755 \nQ 1159 2438 1159 1844 \nL 1159 0 \nL 581 0 \nL 581 3500 \nL 1159 3500 \nL 1159 2956 \nQ 1341 3275 1631 3429 \nQ 1922 3584 2338 3584 \nQ 2397 3584 2469 3576 \nQ 2541 3569 2628 3553 \nL 2631 2963 \nz\n\" id=\"DejaVuSans-72\" transform=\"scale(0.015625)\"/>\n     </defs>\n     <use xlink:href=\"#DejaVuSans-46\"/>\n     <use x=\"52.019531\" xlink:href=\"#DejaVuSans-65\"/>\n     <use x=\"113.542969\" xlink:href=\"#DejaVuSans-61\"/>\n     <use x=\"174.822266\" xlink:href=\"#DejaVuSans-74\"/>\n     <use x=\"214.03125\" xlink:href=\"#DejaVuSans-75\"/>\n     <use x=\"277.410156\" xlink:href=\"#DejaVuSans-72\"/>\n     <use x=\"316.273438\" xlink:href=\"#DejaVuSans-65\"/>\n    </g>\n   </g>\n  </g>\n  <g id=\"axes_3\">\n   <g id=\"patch_12\">\n    <path d=\"M 611.386029 206.003645 \nL 857.5625 206.003645 \nL 857.5625 84.809075 \nL 611.386029 84.809075 \nz\n\" style=\"fill:#ffffff;\"/>\n   </g>\n   <g clip-path=\"url(#pf0b9ea3012)\">\n    <image height=\"122\" id=\"image6cf92a87e0\" transform=\"scale(1 -1)translate(0 -122)\" width=\"247\" x=\"611.386029\" xlink:href=\"data:image/png;base64,\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\" y=\"-84.003645\"/>\n   </g>\n   <g id=\"matplotlib.axis_5\">\n    <g id=\"xtick_17\">\n     <g id=\"line2d_29\">\n      <g>\n       <use style=\"stroke:#000000;stroke-width:0.8;\" x=\"613.279695\" xlink:href=\"#m52bb5fc63b\" y=\"206.003645\"/>\n      </g>\n     </g>\n     <g id=\"text_31\">\n      <!-- 0 -->\n      <g transform=\"translate(610.098445 220.602083)scale(0.1 -0.1)\">\n       <use xlink:href=\"#DejaVuSans-30\"/>\n      </g>\n     </g>\n    </g>\n    <g id=\"xtick_18\">\n     <g id=\"line2d_30\">\n      <g>\n       <use style=\"stroke:#000000;stroke-width:0.8;\" x=\"651.152998\" xlink:href=\"#m52bb5fc63b\" y=\"206.003645\"/>\n      </g>\n     </g>\n     <g id=\"text_32\">\n      <!-- 10 -->\n      <g transform=\"translate(644.790498 220.602083)scale(0.1 -0.1)\">\n       <use xlink:href=\"#DejaVuSans-31\"/>\n       <use x=\"63.623047\" xlink:href=\"#DejaVuSans-30\"/>\n      </g>\n     </g>\n    </g>\n    <g id=\"xtick_19\">\n     <g id=\"line2d_31\">\n      <g>\n       <use style=\"stroke:#000000;stroke-width:0.8;\" x=\"689.026301\" xlink:href=\"#m52bb5fc63b\" y=\"206.003645\"/>\n      </g>\n     </g>\n     <g id=\"text_33\">\n      <!-- 20 -->\n      <g transform=\"translate(682.663801 220.602083)scale(0.1 -0.1)\">\n       <use xlink:href=\"#DejaVuSans-32\"/>\n       <use x=\"63.623047\" xlink:href=\"#DejaVuSans-30\"/>\n      </g>\n     </g>\n    </g>\n    <g id=\"xtick_20\">\n     <g id=\"line2d_32\">\n      <g>\n       <use style=\"stroke:#000000;stroke-width:0.8;\" x=\"726.899604\" xlink:href=\"#m52bb5fc63b\" y=\"206.003645\"/>\n      </g>\n     </g>\n     <g id=\"text_34\">\n      <!-- 30 -->\n      <g transform=\"translate(720.537104 220.602083)scale(0.1 -0.1)\">\n       <use xlink:href=\"#DejaVuSans-33\"/>\n       <use x=\"63.623047\" xlink:href=\"#DejaVuSans-30\"/>\n      </g>\n     </g>\n    </g>\n    <g id=\"xtick_21\">\n     <g id=\"line2d_33\">\n      <g>\n       <use style=\"stroke:#000000;stroke-width:0.8;\" x=\"764.772907\" xlink:href=\"#m52bb5fc63b\" y=\"206.003645\"/>\n      </g>\n     </g>\n     <g id=\"text_35\">\n      <!-- 40 -->\n      <g transform=\"translate(758.410407 220.602083)scale(0.1 -0.1)\">\n       <use xlink:href=\"#DejaVuSans-34\"/>\n       <use x=\"63.623047\" xlink:href=\"#DejaVuSans-30\"/>\n      </g>\n     </g>\n    </g>\n    <g id=\"xtick_22\">\n     <g id=\"line2d_34\">\n      <g>\n       <use style=\"stroke:#000000;stroke-width:0.8;\" x=\"802.64621\" xlink:href=\"#m52bb5fc63b\" y=\"206.003645\"/>\n      </g>\n     </g>\n     <g id=\"text_36\">\n      <!-- 50 -->\n      <g transform=\"translate(796.28371 220.602083)scale(0.1 -0.1)\">\n       <use xlink:href=\"#DejaVuSans-35\"/>\n       <use x=\"63.623047\" xlink:href=\"#DejaVuSans-30\"/>\n      </g>\n     </g>\n    </g>\n    <g id=\"xtick_23\">\n     <g id=\"line2d_35\">\n      <g>\n       <use style=\"stroke:#000000;stroke-width:0.8;\" x=\"840.519514\" xlink:href=\"#m52bb5fc63b\" y=\"206.003645\"/>\n      </g>\n     </g>\n     <g id=\"text_37\">\n      <!-- 60 -->\n      <g transform=\"translate(834.157014 220.602083)scale(0.1 -0.1)\">\n       <use xlink:href=\"#DejaVuSans-36\"/>\n       <use x=\"63.623047\" xlink:href=\"#DejaVuSans-30\"/>\n      </g>\n     </g>\n    </g>\n   </g>\n   <g id=\"matplotlib.axis_6\">\n    <g id=\"ytick_13\">\n     <g id=\"line2d_36\">\n      <g>\n       <use style=\"stroke:#000000;stroke-width:0.8;\" x=\"611.386029\" xlink:href=\"#m2305186d81\" y=\"86.70274\"/>\n      </g>\n     </g>\n     <g id=\"text_38\">\n      <!-- 0 -->\n      <g transform=\"translate(598.023529 90.501959)scale(0.1 -0.1)\">\n       <use xlink:href=\"#DejaVuSans-30\"/>\n      </g>\n     </g>\n    </g>\n    <g id=\"ytick_14\">\n     <g id=\"line2d_37\">\n      <g>\n       <use style=\"stroke:#000000;stroke-width:0.8;\" x=\"611.386029\" xlink:href=\"#m2305186d81\" y=\"124.576044\"/>\n      </g>\n     </g>\n     <g id=\"text_39\">\n      <!-- 10 -->\n      <g transform=\"translate(591.661029 128.375262)scale(0.1 -0.1)\">\n       <use xlink:href=\"#DejaVuSans-31\"/>\n       <use x=\"63.623047\" xlink:href=\"#DejaVuSans-30\"/>\n      </g>\n     </g>\n    </g>\n    <g id=\"ytick_15\">\n     <g id=\"line2d_38\">\n      <g>\n       <use style=\"stroke:#000000;stroke-width:0.8;\" x=\"611.386029\" xlink:href=\"#m2305186d81\" y=\"162.449347\"/>\n      </g>\n     </g>\n     <g id=\"text_40\">\n      <!-- 20 -->\n      <g transform=\"translate(591.661029 166.248565)scale(0.1 -0.1)\">\n       <use xlink:href=\"#DejaVuSans-32\"/>\n       <use x=\"63.623047\" xlink:href=\"#DejaVuSans-30\"/>\n      </g>\n     </g>\n    </g>\n    <g id=\"ytick_16\">\n     <g id=\"line2d_39\">\n      <g>\n       <use style=\"stroke:#000000;stroke-width:0.8;\" x=\"611.386029\" xlink:href=\"#m2305186d81\" y=\"200.32265\"/>\n      </g>\n     </g>\n     <g id=\"text_41\">\n      <!-- 30 -->\n      <g transform=\"translate(591.661029 204.121869)scale(0.1 -0.1)\">\n       <use xlink:href=\"#DejaVuSans-33\"/>\n       <use x=\"63.623047\" xlink:href=\"#DejaVuSans-30\"/>\n      </g>\n     </g>\n    </g>\n   </g>\n   <g id=\"patch_13\">\n    <path d=\"M 611.386029 206.003645 \nL 611.386029 84.809075 \n\" style=\"fill:none;stroke:#000000;stroke-linecap:square;stroke-linejoin:miter;stroke-width:0.8;\"/>\n   </g>\n   <g id=\"patch_14\">\n    <path d=\"M 857.5625 206.003645 \nL 857.5625 84.809075 \n\" style=\"fill:none;stroke:#000000;stroke-linecap:square;stroke-linejoin:miter;stroke-width:0.8;\"/>\n   </g>\n   <g id=\"patch_15\">\n    <path d=\"M 611.386029 206.003645 \nL 857.5625 206.003645 \n\" style=\"fill:none;stroke:#000000;stroke-linecap:square;stroke-linejoin:miter;stroke-width:0.8;\"/>\n   </g>\n   <g id=\"patch_16\">\n    <path d=\"M 611.386029 84.809075 \nL 857.5625 84.809075 \n\" style=\"fill:none;stroke:#000000;stroke-linecap:square;stroke-linejoin:miter;stroke-width:0.8;\"/>\n   </g>\n   <g id=\"text_42\">\n    <!-- Receptive fields -->\n    <g transform=\"translate(686.841765 78.809075)scale(0.12 -0.12)\">\n     <defs>\n      <path d=\"M 2841 2188 \nQ 3044 2119 3236 1894 \nQ 3428 1669 3622 1275 \nL 4263 0 \nL 3584 0 \nL 2988 1197 \nQ 2756 1666 2539 1819 \nQ 2322 1972 1947 1972 \nL 1259 1972 \nL 1259 0 \nL 628 0 \nL 628 4666 \nL 2053 4666 \nQ 2853 4666 3247 4331 \nQ 3641 3997 3641 3322 \nQ 3641 2881 3436 2590 \nQ 3231 2300 2841 2188 \nz\nM 1259 4147 \nL 1259 2491 \nL 2053 2491 \nQ 2509 2491 2742 2702 \nQ 2975 2913 2975 3322 \nQ 2975 3731 2742 3939 \nQ 2509 4147 2053 4147 \nL 1259 4147 \nz\n\" id=\"DejaVuSans-52\" transform=\"scale(0.015625)\"/>\n      <path d=\"M 3122 3366 \nL 3122 2828 \nQ 2878 2963 2633 3030 \nQ 2388 3097 2138 3097 \nQ 1578 3097 1268 2742 \nQ 959 2388 959 1747 \nQ 959 1106 1268 751 \nQ 1578 397 2138 397 \nQ 2388 397 2633 464 \nQ 2878 531 3122 666 \nL 3122 134 \nQ 2881 22 2623 -34 \nQ 2366 -91 2075 -91 \nQ 1284 -91 818 406 \nQ 353 903 353 1747 \nQ 353 2603 823 3093 \nQ 1294 3584 2113 3584 \nQ 2378 3584 2631 3529 \nQ 2884 3475 3122 3366 \nz\n\" id=\"DejaVuSans-63\" transform=\"scale(0.015625)\"/>\n      <path d=\"M 603 3500 \nL 1178 3500 \nL 1178 0 \nL 603 0 \nL 603 3500 \nz\nM 603 4863 \nL 1178 4863 \nL 1178 4134 \nL 603 4134 \nL 603 4863 \nz\n\" id=\"DejaVuSans-69\" transform=\"scale(0.015625)\"/>\n      <path d=\"M 191 3500 \nL 800 3500 \nL 1894 563 \nL 2988 3500 \nL 3597 3500 \nL 2284 0 \nL 1503 0 \nL 191 3500 \nz\n\" id=\"DejaVuSans-76\" transform=\"scale(0.015625)\"/>\n      <path id=\"DejaVuSans-20\" transform=\"scale(0.015625)\"/>\n      <path d=\"M 2375 4863 \nL 2375 4384 \nL 1825 4384 \nQ 1516 4384 1395 4259 \nQ 1275 4134 1275 3809 \nL 1275 3500 \nL 2222 3500 \nL 2222 3053 \nL 1275 3053 \nL 1275 0 \nL 697 0 \nL 697 3053 \nL 147 3053 \nL 147 3500 \nL 697 3500 \nL 697 3744 \nQ 697 4328 969 4595 \nQ 1241 4863 1831 4863 \nL 2375 4863 \nz\n\" id=\"DejaVuSans-66\" transform=\"scale(0.015625)\"/>\n      <path d=\"M 603 4863 \nL 1178 4863 \nL 1178 0 \nL 603 0 \nL 603 4863 \nz\n\" id=\"DejaVuSans-6c\" transform=\"scale(0.015625)\"/>\n      <path d=\"M 2906 2969 \nL 2906 4863 \nL 3481 4863 \nL 3481 0 \nL 2906 0 \nL 2906 525 \nQ 2725 213 2448 61 \nQ 2172 -91 1784 -91 \nQ 1150 -91 751 415 \nQ 353 922 353 1747 \nQ 353 2572 751 3078 \nQ 1150 3584 1784 3584 \nQ 2172 3584 2448 3432 \nQ 2725 3281 2906 2969 \nz\nM 947 1747 \nQ 947 1113 1208 752 \nQ 1469 391 1925 391 \nQ 2381 391 2643 752 \nQ 2906 1113 2906 1747 \nQ 2906 2381 2643 2742 \nQ 2381 3103 1925 3103 \nQ 1469 3103 1208 2742 \nQ 947 2381 947 1747 \nz\n\" id=\"DejaVuSans-64\" transform=\"scale(0.015625)\"/>\n      <path d=\"M 2834 3397 \nL 2834 2853 \nQ 2591 2978 2328 3040 \nQ 2066 3103 1784 3103 \nQ 1356 3103 1142 2972 \nQ 928 2841 928 2578 \nQ 928 2378 1081 2264 \nQ 1234 2150 1697 2047 \nL 1894 2003 \nQ 2506 1872 2764 1633 \nQ 3022 1394 3022 966 \nQ 3022 478 2636 193 \nQ 2250 -91 1575 -91 \nQ 1294 -91 989 -36 \nQ 684 19 347 128 \nL 347 722 \nQ 666 556 975 473 \nQ 1284 391 1588 391 \nQ 1994 391 2212 530 \nQ 2431 669 2431 922 \nQ 2431 1156 2273 1281 \nQ 2116 1406 1581 1522 \nL 1381 1569 \nQ 847 1681 609 1914 \nQ 372 2147 372 2553 \nQ 372 3047 722 3315 \nQ 1072 3584 1716 3584 \nQ 2034 3584 2315 3537 \nQ 2597 3491 2834 3397 \nz\n\" id=\"DejaVuSans-73\" transform=\"scale(0.015625)\"/>\n     </defs>\n     <use xlink:href=\"#DejaVuSans-52\"/>\n     <use x=\"64.982422\" xlink:href=\"#DejaVuSans-65\"/>\n     <use x=\"126.505859\" xlink:href=\"#DejaVuSans-63\"/>\n     <use x=\"181.486328\" xlink:href=\"#DejaVuSans-65\"/>\n     <use x=\"243.009766\" xlink:href=\"#DejaVuSans-70\"/>\n     <use x=\"306.486328\" xlink:href=\"#DejaVuSans-74\"/>\n     <use x=\"345.695312\" xlink:href=\"#DejaVuSans-69\"/>\n     <use x=\"373.478516\" xlink:href=\"#DejaVuSans-76\"/>\n     <use x=\"432.658203\" xlink:href=\"#DejaVuSans-65\"/>\n     <use x=\"494.181641\" xlink:href=\"#DejaVuSans-20\"/>\n     <use x=\"525.96875\" xlink:href=\"#DejaVuSans-66\"/>\n     <use x=\"561.173828\" xlink:href=\"#DejaVuSans-69\"/>\n     <use x=\"588.957031\" xlink:href=\"#DejaVuSans-65\"/>\n     <use x=\"650.480469\" xlink:href=\"#DejaVuSans-6c\"/>\n     <use x=\"678.263672\" xlink:href=\"#DejaVuSans-64\"/>\n     <use x=\"741.740234\" xlink:href=\"#DejaVuSans-73\"/>\n    </g>\n   </g>\n  </g>\n </g>\n <defs>\n  <clipPath id=\"p01bcc91209\">\n   <rect height=\"246.176471\" width=\"246.176471\" x=\"20.5625\" y=\"22.318125\"/>\n  </clipPath>\n  <clipPath id=\"pf092eb7ff1\">\n   <rect height=\"123.088235\" width=\"246.176471\" x=\"315.974265\" y=\"83.862243\"/>\n  </clipPath>\n  <clipPath id=\"pf0b9ea3012\">\n   <rect height=\"121.19457\" width=\"246.176471\" x=\"611.386029\" y=\"84.809075\"/>\n  </clipPath>\n </defs>\n</svg>\n",
      "image/png": "[encoded data removed]"
     },
     "metadata": {
      "needs_background": "light"
     }
    }
   ],
   "source": [
    "import matplotlib.pyplot as plt\n",
    "\n",
    "plt.figure(figsize=(15, 10))\n",
    "plt.subplot(131)\n",
    "plt.imshow(input_r.T, interpolation='nearest', cmap=plt.cm.gray)\n",
    "plt.title('Input')\n",
    "plt.subplot(132)\n",
    "plt.imshow(feature_r.T, interpolation='nearest', cmap=plt.cm.gray)\n",
    "plt.title('Feature')\n",
    "plt.subplot(133)\n",
    "plt.imshow(weights.T, interpolation='nearest', cmap=plt.cm.gray)\n",
    "plt.title('Receptive fields')\n",
    "plt.show()"
   ]
  },
  {
   "cell_type": "markdown",
   "metadata": {},
   "source": [
    "In the file `BarLearning.py`, a visualization class using `pyqtgraph` is\n",
    "imported from `Viz.py`, but the user is free to use whatever method he prefers to\n",
    "visualize the result of learning.\n",
    "\n",
    "```python\n",
    "from Viz import Viewer\n",
    "view = Viewer(func=trial)\n",
    "view.run()\n",
    "```"
   ]
  }
 ],
 "metadata": {
  "kernelspec": {
   "display_name": "Python 3 (ipykernel)",
   "language": "python",
   "name": "python3"
  },
  "language_info": {
   "codemirror_mode": {
    "name": "ipython",
    "version": 3
   },
   "file_extension": ".py",
   "mimetype": "text/x-python",
   "name": "python",
   "nbconvert_exporter": "python",
   "pygments_lexer": "ipython3",
   "version": "3.9.7-final"
  }
 },
 "nbformat": 4,
 "nbformat_minor": 4
}