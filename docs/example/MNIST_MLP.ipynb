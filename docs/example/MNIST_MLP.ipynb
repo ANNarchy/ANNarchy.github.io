{
 "cells": [
  {
   "attachments": {},
   "cell_type": "markdown",
   "metadata": {},
   "source": [
    "# ANN-to-SNN Conversion for a Multilayer Perceptron (MLP)\n",
    "\n",
    "Download the Jupyter notebook : [MNIST_MLP.ipynb](https://raw.githubusercontent.com/ANNarchy/ANNarchy.github.io/master/docs/example/MNIST_MLP.ipynb)"
   ]
  },
  {
   "attachments": {},
   "cell_type": "markdown",
   "metadata": {},
   "source": [
    "This script will demonstrate the required steps to transform a multilayer perceptron trained on MNIST using TensorFlow into an SNN network usable in ANNarchy."
   ]
  },
  {
   "cell_type": "code",
   "execution_count": null,
   "metadata": {},
   "outputs": [],
   "source": [
    "import matplotlib.pyplot as plt\n",
    "import tensorflow as tf"
   ]
  },
  {
   "attachments": {},
   "cell_type": "markdown",
   "metadata": {},
   "source": [
    "## Load MNIST\n",
    "\n",
    "First we need to load the MNIST test and training which is already provided by tensorflow."
   ]
  },
  {
   "cell_type": "code",
   "execution_count": 2,
   "metadata": {},
   "outputs": [
    {
     "name": "stdout",
     "output_type": "stream",
     "text": [
      "Downloading data from https://storage.googleapis.com/tensorflow/tf-keras-datasets/mnist.npz\n",
      "11490434/11490434 [==============================] - 1s 0us/step\n"
     ]
    }
   ],
   "source": [
    "(X_train, t_train), (X_test, t_test) = tf.keras.datasets.mnist.load_data()\n",
    "X_train = X_train.reshape(X_train.shape[0], 784).astype('float32') / 255.\n",
    "X_test = X_test.reshape(X_test.shape[0], 784).astype('float32') / 255.\n",
    "T_train = tf.keras.utils.to_categorical(t_train, 10)\n",
    "T_test = tf.keras.utils.to_categorical(t_test, 10)"
   ]
  },
  {
   "attachments": {},
   "cell_type": "markdown",
   "metadata": {},
   "source": [
    "## TensorFlow MLP Architecture\n",
    "\n",
    "The TensorFlow network was build with the functional API as follow:\n",
    "\n",
    "```\n",
    "inputs = tf.keras.layers.Input(shape=(784,))\n",
    "h1= tf.keras.layers.Dense(64,use_bias=False, activation='relu')(inputs)\n",
    "h2= tf.keras.layers.Dense(128,use_bias=False,activation='relu')(h1)\n",
    "h3= tf.keras.layers.Dense(128,use_bias=False,activation='relu')(h2)\n",
    "output=tf.keras.layers.Dense(10,use_bias=False,activation='softmax')(h3)\n",
    "\n",
    "model= tf.keras.Model(inputs,output)\n",
    "\n",
    "```\n",
    "\n",
    "We used the standard gradient descent (SGD) optimizer and used the categorical crossentropy loss."
   ]
  },
  {
   "cell_type": "code",
   "execution_count": 3,
   "metadata": {},
   "outputs": [
    {
     "name": "stdout",
     "output_type": "stream",
     "text": [
      "Model: \"model\"\n",
      "_________________________________________________________________\n",
      " Layer (type)                Output Shape              Param #   \n",
      "=================================================================\n",
      " input_1 (InputLayer)        [(None, 784)]             0         \n",
      "                                                                 \n",
      " dense (Dense)               (None, 128)               100352    \n",
      "                                                                 \n",
      " dense_1 (Dense)             (None, 128)               16384     \n",
      "                                                                 \n",
      " dense_2 (Dense)             (None, 10)                1280      \n",
      "                                                                 \n",
      "=================================================================\n",
      "Total params: 118016 (461.00 KB)\n",
      "Trainable params: 118016 (461.00 KB)\n",
      "Non-trainable params: 0 (0.00 Byte)\n",
      "_________________________________________________________________\n",
      "None\n"
     ]
    }
   ],
   "source": [
    "inputs = tf.keras.layers.Input(shape=(784,))\n",
    "x= tf.keras.layers.Dense(128, \n",
    "                          use_bias=False, \n",
    "                          activation='relu')(inputs)\n",
    "x= tf.keras.layers.Dense(128, \n",
    "                          use_bias=False,\n",
    "                          activation='relu')(x)\n",
    "x=tf.keras.layers.Dense(10, \n",
    "                          use_bias=False,\n",
    "                          activation='softmax')(x)\n",
    "\n",
    "model= tf.keras.Model(inputs, x)\n",
    "optimizer = tf.keras.optimizers.SGD(learning_rate=0.001)\n",
    "\n",
    "# Loss function\n",
    "model.compile(\n",
    "    loss='categorical_crossentropy', # loss function\n",
    "    optimizer=optimizer, # learning rule\n",
    "    metrics=['accuracy'] # show accuracy\n",
    ")\n",
    "print(model.summary())"
   ]
  },
  {
   "attachments": {},
   "cell_type": "markdown",
   "metadata": {},
   "source": [
    "## Train the network"
   ]
  },
  {
   "cell_type": "code",
   "execution_count": 4,
   "metadata": {},
   "outputs": [
    {
     "name": "stderr",
     "output_type": "stream",
     "text": [
      "2023-07-20 16:10:48.598899: W tensorflow/tsl/framework/cpu_allocator_impl.cc:83] Allocation of 169344000 exceeds 10% of free system memory.\n"
     ]
    },
    {
     "name": "stdout",
     "output_type": "stream",
     "text": [
      "Epoch 1/20\n",
      "826/844 [============================>.] - ETA: 0s - loss: 2.1354 - accuracy: 0.3164"
     ]
    },
    {
     "name": "stderr",
     "output_type": "stream",
     "text": [
      "2023-07-20 16:10:52.254454: W tensorflow/tsl/framework/cpu_allocator_impl.cc:83] Allocation of 18816000 exceeds 10% of free system memory.\n"
     ]
    },
    {
     "name": "stdout",
     "output_type": "stream",
     "text": [
      "844/844 [==============================] - 4s 3ms/step - loss: 2.1315 - accuracy: 0.3208 - val_loss: 1.9358 - val_accuracy: 0.5408\n",
      "Epoch 2/20\n",
      "844/844 [==============================] - 2s 3ms/step - loss: 1.7377 - accuracy: 0.6115 - val_loss: 1.4785 - val_accuracy: 0.6995\n",
      "Epoch 3/20\n",
      "844/844 [==============================] - 3s 3ms/step - loss: 1.3065 - accuracy: 0.7200 - val_loss: 1.0661 - val_accuracy: 0.7888\n",
      "Epoch 4/20\n",
      "844/844 [==============================] - 3s 3ms/step - loss: 0.9844 - accuracy: 0.7823 - val_loss: 0.8050 - val_accuracy: 0.8437\n",
      "Epoch 5/20\n",
      "844/844 [==============================] - 3s 3ms/step - loss: 0.7908 - accuracy: 0.8158 - val_loss: 0.6517 - val_accuracy: 0.8690\n",
      "Epoch 6/20\n",
      "844/844 [==============================] - 3s 3ms/step - loss: 0.6738 - accuracy: 0.8351 - val_loss: 0.5573 - val_accuracy: 0.8798\n",
      "Epoch 7/20\n",
      "844/844 [==============================] - 3s 4ms/step - loss: 0.5979 - accuracy: 0.8498 - val_loss: 0.4945 - val_accuracy: 0.8877\n",
      "Epoch 8/20\n",
      "844/844 [==============================] - 3s 3ms/step - loss: 0.5450 - accuracy: 0.8594 - val_loss: 0.4503 - val_accuracy: 0.8962\n",
      "Epoch 9/20\n",
      "844/844 [==============================] - 3s 4ms/step - loss: 0.5063 - accuracy: 0.8671 - val_loss: 0.4174 - val_accuracy: 0.9003\n",
      "Epoch 10/20\n",
      "844/844 [==============================] - 3s 4ms/step - loss: 0.4766 - accuracy: 0.8730 - val_loss: 0.3927 - val_accuracy: 0.9027\n",
      "Epoch 11/20\n",
      "844/844 [==============================] - 3s 3ms/step - loss: 0.4531 - accuracy: 0.8776 - val_loss: 0.3725 - val_accuracy: 0.9062\n",
      "Epoch 12/20\n",
      "844/844 [==============================] - 3s 4ms/step - loss: 0.4340 - accuracy: 0.8822 - val_loss: 0.3567 - val_accuracy: 0.9088\n",
      "Epoch 13/20\n",
      "844/844 [==============================] - 3s 3ms/step - loss: 0.4182 - accuracy: 0.8854 - val_loss: 0.3433 - val_accuracy: 0.9120\n",
      "Epoch 14/20\n",
      "844/844 [==============================] - 3s 3ms/step - loss: 0.4047 - accuracy: 0.8884 - val_loss: 0.3322 - val_accuracy: 0.9128\n",
      "Epoch 15/20\n",
      "844/844 [==============================] - 3s 3ms/step - loss: 0.3930 - accuracy: 0.8910 - val_loss: 0.3219 - val_accuracy: 0.9153\n",
      "Epoch 16/20\n",
      "844/844 [==============================] - 3s 3ms/step - loss: 0.3829 - accuracy: 0.8929 - val_loss: 0.3138 - val_accuracy: 0.9178\n",
      "Epoch 17/20\n",
      "844/844 [==============================] - 3s 3ms/step - loss: 0.3740 - accuracy: 0.8950 - val_loss: 0.3068 - val_accuracy: 0.9193\n",
      "Epoch 18/20\n",
      "844/844 [==============================] - 3s 3ms/step - loss: 0.3658 - accuracy: 0.8972 - val_loss: 0.3003 - val_accuracy: 0.9182\n",
      "Epoch 19/20\n",
      "844/844 [==============================] - 3s 3ms/step - loss: 0.3585 - accuracy: 0.8990 - val_loss: 0.2936 - val_accuracy: 0.9205\n",
      "Epoch 20/20\n",
      "844/844 [==============================] - 3s 3ms/step - loss: 0.3518 - accuracy: 0.9002 - val_loss: 0.2883 - val_accuracy: 0.9220\n"
     ]
    },
    {
     "name": "stderr",
     "output_type": "stream",
     "text": [
      "/home/hdin/.local/lib/python3.10/site-packages/keras/src/engine/training.py:3000: UserWarning: You are saving your model as an HDF5 file via `model.save()`. This file format is considered legacy. We recommend using instead the native Keras format, e.g. `model.save('my_model.keras')`.\n",
      "  saving_api.save_model(\n"
     ]
    }
   ],
   "source": [
    "history = model.fit(\n",
    "    X_train, T_train,       # training data\n",
    "    batch_size=64,          # batch size\n",
    "    epochs=20,              # Maximum number of epochs\n",
    "    validation_split=0.1,   # Percentage of training data used for validation\n",
    ")\n",
    "model.save(\"mlp.h5\")"
   ]
  },
  {
   "cell_type": "code",
   "execution_count": 5,
   "metadata": {},
   "outputs": [
    {
     "data": {
      "image/png": "[encoded data removed]",
      "text/plain": [
       "<Figure size 1080x432 with 2 Axes>"
      ]
     },
     "metadata": {
      "needs_background": "light"
     },
     "output_type": "display_data"
    }
   ],
   "source": [
    "plt.figure(figsize=(15, 6))\n",
    "\n",
    "plt.subplot(121)\n",
    "plt.plot(history.history['loss'], '-r', label=\"Training\")\n",
    "plt.plot(history.history['val_loss'], '-b', label=\"Validation\")\n",
    "plt.xlabel('Epoch #')\n",
    "plt.ylabel('Loss')\n",
    "plt.legend()\n",
    "\n",
    "plt.subplot(122)\n",
    "plt.plot(history.history['accuracy'], '-r', label=\"Training\")\n",
    "plt.plot(history.history['val_accuracy'], '-b', label=\"Validation\")\n",
    "plt.xlabel('Epoch #')\n",
    "plt.ylabel('Accuracy')\n",
    "plt.legend()\n",
    "\n",
    "plt.show()"
   ]
  },
  {
   "cell_type": "code",
   "execution_count": 6,
   "metadata": {},
   "outputs": [
    {
     "name": "stdout",
     "output_type": "stream",
     "text": [
      "  1/313 [..............................] - ETA: 32s"
     ]
    },
    {
     "name": "stderr",
     "output_type": "stream",
     "text": [
      "2023-07-20 16:11:47.267385: W tensorflow/tsl/framework/cpu_allocator_impl.cc:83] Allocation of 31360000 exceeds 10% of free system memory.\n"
     ]
    },
    {
     "name": "stdout",
     "output_type": "stream",
     "text": [
      "313/313 [==============================] - 1s 2ms/step\n",
      " 59/313 [====>.........................] - ETA: 0s - loss: 0.4051 - accuracy: 0.8861"
     ]
    },
    {
     "name": "stderr",
     "output_type": "stream",
     "text": [
      "2023-07-20 16:11:48.736018: W tensorflow/tsl/framework/cpu_allocator_impl.cc:83] Allocation of 31360000 exceeds 10% of free system memory.\n"
     ]
    },
    {
     "name": "stdout",
     "output_type": "stream",
     "text": [
      "313/313 [==============================] - 1s 2ms/step - loss: 0.3289 - accuracy: 0.9064\n",
      "Test accuracy: 0.9064000248908997\n"
     ]
    }
   ],
   "source": [
    "predictions_keras = model.predict(X_test)\n",
    "test_loss, test_accuracy = model.evaluate(X_test, T_test)\n",
    "print(f\"Test accuracy: {test_accuracy}\")"
   ]
  },
  {
   "attachments": {},
   "cell_type": "markdown",
   "metadata": {},
   "source": [
    "## Initialize the Converter\n",
    "\n",
    "As the first step, we create an instance of the ANN-to-SNN conversion tool. The function receives the *input_encoding* parameter, which is the type of input encoding we want to use. By default, there are *intrinsically bursting* (\"IB\"), *phase shift oscillation* (\"PSO\") and *Poisson* (\"poisson\") available."
   ]
  },
  {
   "cell_type": "code",
   "execution_count": 7,
   "metadata": {},
   "outputs": [
    {
     "name": "stdout",
     "output_type": "stream",
     "text": [
      "ANNarchy 4.7 (4.7.3b) on linux (posix).\n"
     ]
    }
   ],
   "source": [
    "from ANNarchy.extensions.ann_to_snn_conversion import ANNtoSNNConverter\n",
    "snn_converter = ANNtoSNNConverter(input_encoding='IB')"
   ]
  },
  {
   "attachments": {},
   "cell_type": "markdown",
   "metadata": {},
   "source": [
    "After that, we provide the TensorFlow model stored as h5py file to the conversion tool. The print-out of the network structure of the imported network is suppressed when *show_info*=False is provided to *init_from_keras_model*."
   ]
  },
  {
   "cell_type": "code",
   "execution_count": 8,
   "metadata": {},
   "outputs": [
    {
     "name": "stdout",
     "output_type": "stream",
     "text": [
      "\n",
      "Selected In/Out\n",
      "----------------------\n",
      "input encoding: IB\n",
      "hidden neuron: IaF neuron\n",
      "read-out method: spike_count\n",
      "\n",
      "Show populations/layer\n",
      "----------------------\n",
      "dense geometry =  128\n",
      "dense_1 geometry =  128\n",
      "dense_2 geometry =  10\n",
      "\n",
      "Show Connections/Projections\n",
      "----------------------\n",
      "--------\n",
      "input_1  ->  dense\n",
      "(784,) (128,)\n",
      "weight_m : (128, 784)\n",
      "--------\n",
      "dense  ->  dense_1\n",
      "(128,) (128,)\n",
      "weight_m : (128, 128)\n",
      "--------\n",
      "dense_1  ->  dense_2\n",
      "(128,) (10,)\n",
      "weight_m : (10, 128)\n",
      "WARNING: Dense representation is an experimental feature for spiking models, we greatly appreciate bug reports. \n",
      "Compiling network 1...  OK \n"
     ]
    },
    {
     "data": {
      "text/plain": [
       "<ANNarchy.core.Network.Network at 0x7f2e85512ef0>"
      ]
     },
     "execution_count": 8,
     "metadata": {},
     "output_type": "execute_result"
    }
   ],
   "source": [
    "snn_converter.init_from_keras_model(\"mlp.h5\")"
   ]
  },
  {
   "attachments": {},
   "cell_type": "markdown",
   "metadata": {},
   "source": [
    "## Inference for 10k Samples\n",
    "\n",
    "When the network has been built successfully, we can perform a test using all MNIST training samples. Using *duration_per_sample* the number of steps for one image can be adjusted."
   ]
  },
  {
   "cell_type": "code",
   "execution_count": 9,
   "metadata": {},
   "outputs": [
    {
     "name": "stderr",
     "output_type": "stream",
     "text": [
      "100%|████████████████████████████████████| 10000/10000 [00:35<00:00, 285.65it/s]\n"
     ]
    }
   ],
   "source": [
    "predictions_snn = snn_converter.predict(X_test, duration_per_sample=100)"
   ]
  },
  {
   "attachments": {},
   "cell_type": "markdown",
   "metadata": {},
   "source": [
    "Dependent on the selected read-out method it may happen that multiple neurons are selected. In the following, we select one of the candidates randomly.\n"
   ]
  },
  {
   "cell_type": "code",
   "execution_count": 10,
   "metadata": {},
   "outputs": [],
   "source": [
    "from numpy.random import choice\n",
    "predictions_snn = [ [choice(p)] for p in predictions_snn ]\n"
   ]
  },
  {
   "attachments": {},
   "cell_type": "markdown",
   "metadata": {},
   "source": [
    "## SNN\n",
    "\n",
    "Using the recorded predictions, we can now compute the accuracy using scikit-learn for all presented samples."
   ]
  },
  {
   "cell_type": "code",
   "execution_count": 11,
   "metadata": {},
   "outputs": [
    {
     "name": "stdout",
     "output_type": "stream",
     "text": [
      "              precision    recall  f1-score   support\n",
      "\n",
      "           0       0.93      0.97      0.95       980\n",
      "           1       0.95      0.97      0.96      1135\n",
      "           2       0.92      0.85      0.88      1032\n",
      "           3       0.87      0.88      0.87      1010\n",
      "           4       0.88      0.90      0.89       982\n",
      "           5       0.87      0.80      0.83       892\n",
      "           6       0.89      0.94      0.92       958\n",
      "           7       0.92      0.90      0.91      1028\n",
      "           8       0.83      0.85      0.84       974\n",
      "           9       0.87      0.85      0.86      1009\n",
      "\n",
      "    accuracy                           0.89     10000\n",
      "   macro avg       0.89      0.89      0.89     10000\n",
      "weighted avg       0.89      0.89      0.89     10000\n",
      "\n",
      "0.8929\n"
     ]
    }
   ],
   "source": [
    "from sklearn.metrics import classification_report, accuracy_score\n",
    "\n",
    "print(classification_report(t_test, predictions_snn))\n",
    "print(accuracy_score(t_test, predictions_snn))\n"
   ]
  },
  {
   "attachments": {},
   "cell_type": "markdown",
   "metadata": {},
   "source": [
    "## ANN\n",
    "\n",
    "As ground-truth we can also analyze the predictions from the original ANN"
   ]
  },
  {
   "cell_type": "code",
   "execution_count": 12,
   "metadata": {},
   "outputs": [
    {
     "name": "stdout",
     "output_type": "stream",
     "text": [
      "              precision    recall  f1-score   support\n",
      "\n",
      "           0       0.93      0.97      0.95       980\n",
      "           1       0.96      0.97      0.97      1135\n",
      "           2       0.91      0.88      0.89      1032\n",
      "           3       0.90      0.89      0.89      1010\n",
      "           4       0.89      0.92      0.91       982\n",
      "           5       0.88      0.83      0.85       892\n",
      "           6       0.92      0.93      0.93       958\n",
      "           7       0.92      0.91      0.91      1028\n",
      "           8       0.85      0.86      0.86       974\n",
      "           9       0.90      0.88      0.89      1009\n",
      "\n",
      "    accuracy                           0.91     10000\n",
      "   macro avg       0.91      0.90      0.90     10000\n",
      "weighted avg       0.91      0.91      0.91     10000\n",
      "\n",
      "0.9064\n"
     ]
    }
   ],
   "source": [
    "print(classification_report(t_test, predictions_keras.argmax(axis=1)))\n",
    "print(accuracy_score(t_test, predictions_keras.argmax(axis=1)))"
   ]
  },
  {
   "attachments": {},
   "cell_type": "markdown",
   "metadata": {},
   "source": [
    "## ANN vs. SNN\n",
    "\n",
    "A comparison between the predictions made by the ANN and SNN reveals potential different behavior."
   ]
  },
  {
   "cell_type": "code",
   "execution_count": 13,
   "metadata": {},
   "outputs": [
    {
     "name": "stdout",
     "output_type": "stream",
     "text": [
      "              precision    recall  f1-score   support\n",
      "\n",
      "           0       0.98      0.98      0.98      1025\n",
      "           1       0.98      0.99      0.98      1155\n",
      "           2       0.97      0.93      0.95       993\n",
      "           3       0.93      0.94      0.93      1004\n",
      "           4       0.94      0.93      0.93      1022\n",
      "           5       0.93      0.92      0.92       839\n",
      "           6       0.94      0.99      0.96       968\n",
      "           7       0.96      0.95      0.96      1016\n",
      "           8       0.92      0.92      0.92       987\n",
      "           9       0.92      0.92      0.92       991\n",
      "\n",
      "    accuracy                           0.95     10000\n",
      "   macro avg       0.95      0.95      0.95     10000\n",
      "weighted avg       0.95      0.95      0.95     10000\n",
      "\n",
      "0.9464\n"
     ]
    }
   ],
   "source": [
    "\n",
    "print(classification_report(predictions_keras.argmax(axis=1), predictions_snn))\n",
    "print(accuracy_score(predictions_keras.argmax(axis=1), predictions_snn))"
   ]
  },
  {
   "cell_type": "code",
   "execution_count": 14,
   "metadata": {},
   "outputs": [
    {
     "data": {
      "text/plain": [
       "array([[1001,    0,    3,    3,    0,    8,    7,    1,    1,    1],\n",
       "       [   0, 1138,    1,    2,    0,    2,    0,    1,   10,    1],\n",
       "       [   2,   11,  923,   21,    3,    0,   13,    5,   11,    4],\n",
       "       [   2,    1,    7,  946,    1,   26,    1,    2,   16,    2],\n",
       "       [   1,    1,    0,    0,  948,    3,   21,    2,    9,   37],\n",
       "       [   7,    0,    0,   23,    5,  769,    8,    0,   24,    3],\n",
       "       [   2,    2,    2,    0,    2,    2,  954,    0,    4,    0],\n",
       "       [   4,    4,    5,    4,    5,    0,    0,  969,    1,   24],\n",
       "       [   1,    4,   11,   19,    7,   17,   11,    2,  908,    7],\n",
       "       [   1,    0,    3,    3,   37,    0,    0,   31,    8,  908]])"
      ]
     },
     "execution_count": 14,
     "metadata": {},
     "output_type": "execute_result"
    }
   ],
   "source": [
    "from sklearn.metrics import confusion_matrix\n",
    "\n",
    "confusion_matrix(predictions_keras.argmax(axis=1), predictions_snn)"
   ]
  }
 ],
 "metadata": {
  "interpreter": {
   "hash": "3d24234067c217f49dc985cbc60012ce72928059d528f330ba9cb23ce737906d"
  },
  "kernelspec": {
   "display_name": "Python 3 (ipykernel)",
   "language": "python",
   "name": "python3"
  },
  "language_info": {
   "codemirror_mode": {
    "name": "ipython",
    "version": 3
   },
   "file_extension": ".py",
   "mimetype": "text/x-python",
   "name": "python",
   "nbconvert_exporter": "python",
   "pygments_lexer": "ipython3",
   "version": "3.10.6"
  }
 },
 "nbformat": 4,
 "nbformat_minor": 4
}
