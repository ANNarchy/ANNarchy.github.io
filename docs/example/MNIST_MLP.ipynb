{
 "cells": [
  {
   "attachments": {},
   "cell_type": "markdown",
   "metadata": {},
   "source": [
    "# ANN-to-SNN Conversion for a Multilayer Perceptron (MLP)\n",
    "\n",
    "Download the Jupyter notebook : [MNIST_MLP.ipynb](https://raw.githubusercontent.com/ANNarchy/ANNarchy.github.io/master/docs/example/MNIST_MLP.ipynb)"
   ]
  },
  {
   "attachments": {},
   "cell_type": "markdown",
   "metadata": {},
   "source": [
    "This script demonstrates how to transform a multilayer perceptron trained on MNIST using Tensorflow/Keras into an SNN network usable in ANNarchy."
   ]
  },
  {
   "cell_type": "code",
   "execution_count": 1,
   "metadata": {},
   "outputs": [
    {
     "name": "stdout",
     "output_type": "stream",
     "text": [
      "ANNarchy 4.7 (4.7.3b) on darwin (posix).\n"
     ]
    }
   ],
   "source": [
    "import numpy as np\n",
    "import matplotlib.pyplot as plt\n",
    "import tensorflow as tf\n",
    "import ANNarchy as ann"
   ]
  },
  {
   "attachments": {},
   "cell_type": "markdown",
   "metadata": {},
   "source": [
    "## Load MNIST\n",
    "\n",
    "First we need to download and process the MNIST dataset provided by tensorflow."
   ]
  },
  {
   "cell_type": "code",
   "execution_count": 2,
   "metadata": {},
   "outputs": [],
   "source": [
    "# Download data\n",
    "(X_train, t_train), (X_test, t_test) = tf.keras.datasets.mnist.load_data()\n",
    "\n",
    "# Normalize inputs\n",
    "X_train = X_train.reshape(X_train.shape[0], 784).astype('float32') / 255.\n",
    "X_test = X_test.reshape(X_test.shape[0], 784).astype('float32') / 255.\n",
    "\n",
    "# One-hot output vectors\n",
    "T_train = tf.keras.utils.to_categorical(t_train, 10)\n",
    "T_test = tf.keras.utils.to_categorical(t_test, 10)"
   ]
  },
  {
   "attachments": {},
   "cell_type": "markdown",
   "metadata": {},
   "source": [
    "## TensorFlow MLP Architecture\n",
    "\n",
    "The TensorFlow network is build using the functional API. It has two fully connected layers with ReLU, **no bias**, and a softmax output layer. We use the standard SGD optimizer and the categorical crossentropy loss for classification."
   ]
  },
  {
   "cell_type": "code",
   "execution_count": 3,
   "metadata": {},
   "outputs": [
    {
     "name": "stderr",
     "output_type": "stream",
     "text": [
      "2024-03-12 09:26:58.814615: I metal_plugin/src/device/metal_device.cc:1154] Metal device set to: Apple M1 Pro\n",
      "2024-03-12 09:26:58.814638: I metal_plugin/src/device/metal_device.cc:296] systemMemory: 16.00 GB\n",
      "2024-03-12 09:26:58.814642: I metal_plugin/src/device/metal_device.cc:313] maxCacheSize: 5.33 GB\n",
      "2024-03-12 09:26:58.814673: I tensorflow/core/common_runtime/pluggable_device/pluggable_device_factory.cc:306] Could not identify NUMA node of platform GPU ID 0, defaulting to 0. Your kernel may not have been built with NUMA support.\n",
      "2024-03-12 09:26:58.814689: I tensorflow/core/common_runtime/pluggable_device/pluggable_device_factory.cc:272] Created TensorFlow device (/job:localhost/replica:0/task:0/device:GPU:0 with 0 MB memory) -> physical PluggableDevice (device: 0, name: METAL, pci bus id: <undefined>)\n",
      "WARNING:absl:At this time, the v2.11+ optimizer `tf.keras.optimizers.SGD` runs slowly on M1/M2 Macs, please use the legacy Keras optimizer instead, located at `tf.keras.optimizers.legacy.SGD`.\n"
     ]
    },
    {
     "name": "stdout",
     "output_type": "stream",
     "text": [
      "Model: \"model\"\n",
      "_________________________________________________________________\n",
      " Layer (type)                Output Shape              Param #   \n",
      "=================================================================\n",
      " input_1 (InputLayer)        [(None, 784)]             0         \n",
      "                                                                 \n",
      " dense (Dense)               (None, 128)               100352    \n",
      "                                                                 \n",
      " dense_1 (Dense)             (None, 128)               16384     \n",
      "                                                                 \n",
      " dense_2 (Dense)             (None, 10)                1280      \n",
      "                                                                 \n",
      "=================================================================\n",
      "Total params: 118016 (461.00 KB)\n",
      "Trainable params: 118016 (461.00 KB)\n",
      "Non-trainable params: 0 (0.00 Byte)\n",
      "_________________________________________________________________\n",
      "None\n"
     ]
    }
   ],
   "source": [
    "# Model\n",
    "inputs = tf.keras.layers.Input(shape=(784,))\n",
    "x= tf.keras.layers.Dense(128, \n",
    "                          use_bias=False, \n",
    "                          activation='relu')(inputs)\n",
    "x= tf.keras.layers.Dense(128, \n",
    "                          use_bias=False,\n",
    "                          activation='relu')(x)\n",
    "x=tf.keras.layers.Dense(10, \n",
    "                          use_bias=False,\n",
    "                          activation='softmax')(x)\n",
    "\n",
    "model= tf.keras.Model(inputs, x)\n",
    "\n",
    "# Optimizer\n",
    "optimizer = tf.keras.optimizers.SGD(learning_rate=0.001)\n",
    "\n",
    "# Loss function\n",
    "model.compile(\n",
    "    loss='categorical_crossentropy', # loss function\n",
    "    optimizer=optimizer, # learning rule\n",
    "    metrics=['accuracy'] # show accuracy\n",
    ")\n",
    "print(model.summary())"
   ]
  },
  {
   "attachments": {},
   "cell_type": "markdown",
   "metadata": {},
   "source": [
    "We can now train the network for 20 epochs and save the weights in `runs/mlp.keras`."
   ]
  },
  {
   "cell_type": "code",
   "execution_count": 4,
   "metadata": {},
   "outputs": [
    {
     "name": "stdout",
     "output_type": "stream",
     "text": [
      "Epoch 1/20\n",
      "  7/844 [..............................] - ETA: 8s - loss: 2.3571 - accuracy: 0.0647  "
     ]
    },
    {
     "name": "stderr",
     "output_type": "stream",
     "text": [
      "2024-03-12 09:26:59.148902: I tensorflow/core/grappler/optimizers/custom_graph_optimizer_registry.cc:117] Plugin optimizer for device_type GPU is enabled.\n",
      "2024-03-12 09:26:59.161713: E tensorflow/core/grappler/optimizers/meta_optimizer.cc:961] model_pruner failed: INVALID_ARGUMENT: Graph does not contain terminal node SGD/AssignVariableOp.\n"
     ]
    },
    {
     "name": "stdout",
     "output_type": "stream",
     "text": [
      "844/844 [==============================] - 10s 11ms/step - loss: 2.1379 - accuracy: 0.3032 - val_loss: 1.9157 - val_accuracy: 0.5438\n",
      "Epoch 2/20\n",
      "844/844 [==============================] - 9s 11ms/step - loss: 1.6916 - accuracy: 0.6376 - val_loss: 1.4117 - val_accuracy: 0.7430\n",
      "Epoch 3/20\n",
      "844/844 [==============================] - 9s 11ms/step - loss: 1.2335 - accuracy: 0.7484 - val_loss: 0.9935 - val_accuracy: 0.8162\n",
      "Epoch 4/20\n",
      "844/844 [==============================] - 9s 11ms/step - loss: 0.9223 - accuracy: 0.8016 - val_loss: 0.7503 - val_accuracy: 0.8513\n",
      "Epoch 5/20\n",
      "844/844 [==============================] - 9s 11ms/step - loss: 0.7456 - accuracy: 0.8285 - val_loss: 0.6126 - val_accuracy: 0.8700\n",
      "Epoch 6/20\n",
      "844/844 [==============================] - 9s 11ms/step - loss: 0.6406 - accuracy: 0.8454 - val_loss: 0.5267 - val_accuracy: 0.8822\n",
      "Epoch 7/20\n",
      "844/844 [==============================] - 9s 11ms/step - loss: 0.5722 - accuracy: 0.8566 - val_loss: 0.4698 - val_accuracy: 0.8910\n",
      "Epoch 8/20\n",
      "844/844 [==============================] - 9s 11ms/step - loss: 0.5244 - accuracy: 0.8645 - val_loss: 0.4292 - val_accuracy: 0.8957\n",
      "Epoch 9/20\n",
      "844/844 [==============================] - 9s 11ms/step - loss: 0.4892 - accuracy: 0.8715 - val_loss: 0.3988 - val_accuracy: 0.9012\n",
      "Epoch 10/20\n",
      "844/844 [==============================] - 9s 11ms/step - loss: 0.4622 - accuracy: 0.8761 - val_loss: 0.3758 - val_accuracy: 0.9063\n",
      "Epoch 11/20\n",
      "844/844 [==============================] - 9s 11ms/step - loss: 0.4408 - accuracy: 0.8802 - val_loss: 0.3580 - val_accuracy: 0.9067\n",
      "Epoch 12/20\n",
      "844/844 [==============================] - 9s 11ms/step - loss: 0.4234 - accuracy: 0.8838 - val_loss: 0.3425 - val_accuracy: 0.9100\n",
      "Epoch 13/20\n",
      "844/844 [==============================] - 9s 11ms/step - loss: 0.4088 - accuracy: 0.8865 - val_loss: 0.3301 - val_accuracy: 0.9120\n",
      "Epoch 14/20\n",
      "844/844 [==============================] - 9s 11ms/step - loss: 0.3964 - accuracy: 0.8894 - val_loss: 0.3203 - val_accuracy: 0.9123\n",
      "Epoch 15/20\n",
      "844/844 [==============================] - 9s 11ms/step - loss: 0.3857 - accuracy: 0.8917 - val_loss: 0.3107 - val_accuracy: 0.9148\n",
      "Epoch 16/20\n",
      "844/844 [==============================] - 9s 11ms/step - loss: 0.3763 - accuracy: 0.8939 - val_loss: 0.3035 - val_accuracy: 0.9157\n",
      "Epoch 17/20\n",
      "844/844 [==============================] - 9s 11ms/step - loss: 0.3680 - accuracy: 0.8961 - val_loss: 0.2964 - val_accuracy: 0.9172\n",
      "Epoch 18/20\n",
      "844/844 [==============================] - 9s 11ms/step - loss: 0.3605 - accuracy: 0.8979 - val_loss: 0.2908 - val_accuracy: 0.9190\n",
      "Epoch 19/20\n",
      "844/844 [==============================] - 9s 11ms/step - loss: 0.3537 - accuracy: 0.8996 - val_loss: 0.2848 - val_accuracy: 0.9217\n",
      "Epoch 20/20\n",
      "844/844 [==============================] - 9s 11ms/step - loss: 0.3475 - accuracy: 0.9010 - val_loss: 0.2797 - val_accuracy: 0.9217\n"
     ]
    }
   ],
   "source": [
    "history = model.fit(\n",
    "    X_train, T_train,       # training data\n",
    "    batch_size=64,          # batch size\n",
    "    epochs=20,              # Maximum number of epochs\n",
    "    validation_split=0.1,   # Percentage of training data used for validation\n",
    ")\n",
    "model.save(\"runs/mlp.keras\")"
   ]
  },
  {
   "cell_type": "code",
   "execution_count": 5,
   "metadata": {},
   "outputs": [
    {
     "data": {
      "image/png": "[encoded data removed]",
      "text/plain": [
       "<Figure size 1500x600 with 2 Axes>"
      ]
     },
     "metadata": {},
     "output_type": "display_data"
    }
   ],
   "source": [
    "plt.figure(figsize=(15, 6))\n",
    "\n",
    "plt.subplot(121)\n",
    "plt.plot(history.history['loss'], '-r', label=\"Training\")\n",
    "plt.plot(history.history['val_loss'], '-b', label=\"Validation\")\n",
    "plt.xlabel('Epoch #')\n",
    "plt.ylabel('Loss')\n",
    "plt.legend()\n",
    "\n",
    "plt.subplot(122)\n",
    "plt.plot(history.history['accuracy'], '-r', label=\"Training\")\n",
    "plt.plot(history.history['val_accuracy'], '-b', label=\"Validation\")\n",
    "plt.xlabel('Epoch #')\n",
    "plt.ylabel('Accuracy')\n",
    "plt.legend()\n",
    "\n",
    "plt.show()"
   ]
  },
  {
   "cell_type": "markdown",
   "metadata": {},
   "source": [
    "Let's evaluate the performance on the test set:"
   ]
  },
  {
   "cell_type": "code",
   "execution_count": 6,
   "metadata": {},
   "outputs": [
    {
     "name": "stdout",
     "output_type": "stream",
     "text": [
      "Test accuracy: 0.9072999954223633\n"
     ]
    }
   ],
   "source": [
    "test_loss, test_accuracy = model.evaluate(X_test, T_test, verbose=0)\n",
    "print(f\"Test accuracy: {test_accuracy}\")"
   ]
  },
  {
   "attachments": {},
   "cell_type": "markdown",
   "metadata": {},
   "source": [
    "## Initialize the ANN-to-SNN converter\n",
    "\n",
    "We first create an instance of the ANN-to-SNN conversion object. The function receives the *input_encoding* parameter, which is the type of input encoding we want to use. \n",
    "\n",
    "By default, there are *intrinsically bursting* (`IB`), *phase shift oscillation* (`PSO`) and *Poisson* (`poisson`) available."
   ]
  },
  {
   "cell_type": "code",
   "execution_count": 7,
   "metadata": {},
   "outputs": [],
   "source": [
    "from ANNarchy.extensions.ann_to_snn_conversion import ANNtoSNNConverter\n",
    "snn_converter = ANNtoSNNConverter(input_encoding='IB')"
   ]
  },
  {
   "attachments": {},
   "cell_type": "markdown",
   "metadata": {},
   "source": [
    "After that, we provide the TensorFlow model stored as h5py file to the conversion tool. The print-out of the network structure of the imported network is suppressed when *show_info*=False is provided to *init_from_keras_model*."
   ]
  },
  {
   "cell_type": "code",
   "execution_count": 10,
   "metadata": {},
   "outputs": [
    {
     "name": "stdout",
     "output_type": "stream",
     "text": [
      "\n",
      "Selected In/Out\n",
      "----------------------\n",
      "input encoding: IB\n",
      "hidden neuron: IaF neuron\n",
      "read-out method: spike_count\n",
      "\n",
      "Show populations/layer\n",
      "----------------------\n",
      "input_1 geometry = 784\n",
      "dense geometry = 128\n",
      "dense_1 geometry = 128\n",
      "dense_2 geometry = 10\n",
      "\n",
      "Show Connections/Projections\n",
      "----------------------\n",
      "--------\n",
      "input_1  ->  dense\n",
      "(784,) (128,)\n",
      "weight_m : (128, 784)\n",
      "--------\n",
      "dense  ->  dense_1\n",
      "(128,) (128,)\n",
      "weight_m : (128, 128)\n",
      "--------\n",
      "dense_1  ->  dense_2\n",
      "(128,) (10,)\n",
      "weight_m : (10, 128)\n",
      "WARNING: Dense representation is an experimental feature for spiking models, we greatly appreciate bug reports. \n",
      "Compiling network 1...  OK \n"
     ]
    },
    {
     "data": {
      "text/plain": [
       "<ANNarchy.core.Network.Network at 0x2cd4d2810>"
      ]
     },
     "execution_count": 10,
     "metadata": {},
     "output_type": "execute_result"
    }
   ],
   "source": [
    "snn_converter.init_from_keras_model(\"runs/mlp.h5\")"
   ]
  },
  {
   "attachments": {},
   "cell_type": "markdown",
   "metadata": {},
   "source": [
    "## Inference for 10k Samples\n",
    "\n",
    "When the network has been built successfully, we can perform a test using all MNIST training samples. Using *duration_per_sample* the number of steps for one image can be adjusted."
   ]
  },
  {
   "cell_type": "code",
   "execution_count": null,
   "metadata": {},
   "outputs": [
    {
     "name": "stderr",
     "output_type": "stream",
     "text": [
      "100%|████████████████████████████████████| 10000/10000 [00:35<00:00, 285.65it/s]\n"
     ]
    }
   ],
   "source": [
    "predictions_snn = snn_converter.predict(X_test, duration_per_sample=100)"
   ]
  },
  {
   "attachments": {},
   "cell_type": "markdown",
   "metadata": {},
   "source": [
    "Dependent on the selected read-out method it may happen that multiple neurons are selected. In the following, we select one of the candidates randomly.\n"
   ]
  },
  {
   "cell_type": "code",
   "execution_count": null,
   "metadata": {},
   "outputs": [],
   "source": [
    "predictions_snn = [ [np.random.choice(p)] for p in predictions_snn ]\n"
   ]
  },
  {
   "attachments": {},
   "cell_type": "markdown",
   "metadata": {},
   "source": [
    "## SNN\n",
    "\n",
    "Using the recorded predictions, we can now compute the accuracy using scikit-learn for all presented samples."
   ]
  },
  {
   "cell_type": "code",
   "execution_count": null,
   "metadata": {},
   "outputs": [
    {
     "name": "stdout",
     "output_type": "stream",
     "text": [
      "              precision    recall  f1-score   support\n",
      "\n",
      "           0       0.93      0.97      0.95       980\n",
      "           1       0.95      0.97      0.96      1135\n",
      "           2       0.92      0.85      0.88      1032\n",
      "           3       0.87      0.88      0.87      1010\n",
      "           4       0.88      0.90      0.89       982\n",
      "           5       0.87      0.80      0.83       892\n",
      "           6       0.89      0.94      0.92       958\n",
      "           7       0.92      0.90      0.91      1028\n",
      "           8       0.83      0.85      0.84       974\n",
      "           9       0.87      0.85      0.86      1009\n",
      "\n",
      "    accuracy                           0.89     10000\n",
      "   macro avg       0.89      0.89      0.89     10000\n",
      "weighted avg       0.89      0.89      0.89     10000\n",
      "\n",
      "0.8929\n"
     ]
    }
   ],
   "source": [
    "from sklearn.metrics import classification_report, accuracy_score\n",
    "\n",
    "print(classification_report(t_test, predictions_snn))\n",
    "print(accuracy_score(t_test, predictions_snn))\n"
   ]
  },
  {
   "attachments": {},
   "cell_type": "markdown",
   "metadata": {},
   "source": [
    "## ANN\n",
    "\n",
    "As ground-truth we can also analyze the predictions from the original ANN"
   ]
  },
  {
   "cell_type": "code",
   "execution_count": null,
   "metadata": {},
   "outputs": [
    {
     "name": "stdout",
     "output_type": "stream",
     "text": [
      "              precision    recall  f1-score   support\n",
      "\n",
      "           0       0.93      0.97      0.95       980\n",
      "           1       0.96      0.97      0.97      1135\n",
      "           2       0.91      0.88      0.89      1032\n",
      "           3       0.90      0.89      0.89      1010\n",
      "           4       0.89      0.92      0.91       982\n",
      "           5       0.88      0.83      0.85       892\n",
      "           6       0.92      0.93      0.93       958\n",
      "           7       0.92      0.91      0.91      1028\n",
      "           8       0.85      0.86      0.86       974\n",
      "           9       0.90      0.88      0.89      1009\n",
      "\n",
      "    accuracy                           0.91     10000\n",
      "   macro avg       0.91      0.90      0.90     10000\n",
      "weighted avg       0.91      0.91      0.91     10000\n",
      "\n",
      "0.9064\n"
     ]
    }
   ],
   "source": [
    "print(classification_report(t_test, predictions_keras.argmax(axis=1)))\n",
    "print(accuracy_score(t_test, predictions_keras.argmax(axis=1)))"
   ]
  },
  {
   "attachments": {},
   "cell_type": "markdown",
   "metadata": {},
   "source": [
    "## ANN vs. SNN\n",
    "\n",
    "A comparison between the predictions made by the ANN and SNN reveals potential different behavior."
   ]
  },
  {
   "cell_type": "code",
   "execution_count": null,
   "metadata": {},
   "outputs": [
    {
     "name": "stdout",
     "output_type": "stream",
     "text": [
      "              precision    recall  f1-score   support\n",
      "\n",
      "           0       0.98      0.98      0.98      1025\n",
      "           1       0.98      0.99      0.98      1155\n",
      "           2       0.97      0.93      0.95       993\n",
      "           3       0.93      0.94      0.93      1004\n",
      "           4       0.94      0.93      0.93      1022\n",
      "           5       0.93      0.92      0.92       839\n",
      "           6       0.94      0.99      0.96       968\n",
      "           7       0.96      0.95      0.96      1016\n",
      "           8       0.92      0.92      0.92       987\n",
      "           9       0.92      0.92      0.92       991\n",
      "\n",
      "    accuracy                           0.95     10000\n",
      "   macro avg       0.95      0.95      0.95     10000\n",
      "weighted avg       0.95      0.95      0.95     10000\n",
      "\n",
      "0.9464\n"
     ]
    }
   ],
   "source": [
    "\n",
    "print(classification_report(predictions_keras.argmax(axis=1), predictions_snn))\n",
    "print(accuracy_score(predictions_keras.argmax(axis=1), predictions_snn))"
   ]
  },
  {
   "cell_type": "code",
   "execution_count": null,
   "metadata": {},
   "outputs": [
    {
     "data": {
      "text/plain": [
       "array([[1001,    0,    3,    3,    0,    8,    7,    1,    1,    1],\n",
       "       [   0, 1138,    1,    2,    0,    2,    0,    1,   10,    1],\n",
       "       [   2,   11,  923,   21,    3,    0,   13,    5,   11,    4],\n",
       "       [   2,    1,    7,  946,    1,   26,    1,    2,   16,    2],\n",
       "       [   1,    1,    0,    0,  948,    3,   21,    2,    9,   37],\n",
       "       [   7,    0,    0,   23,    5,  769,    8,    0,   24,    3],\n",
       "       [   2,    2,    2,    0,    2,    2,  954,    0,    4,    0],\n",
       "       [   4,    4,    5,    4,    5,    0,    0,  969,    1,   24],\n",
       "       [   1,    4,   11,   19,    7,   17,   11,    2,  908,    7],\n",
       "       [   1,    0,    3,    3,   37,    0,    0,   31,    8,  908]])"
      ]
     },
     "execution_count": 14,
     "metadata": {},
     "output_type": "execute_result"
    }
   ],
   "source": [
    "from sklearn.metrics import confusion_matrix\n",
    "\n",
    "confusion_matrix(predictions_keras.argmax(axis=1), predictions_snn)"
   ]
  }
 ],
 "metadata": {
  "interpreter": {
   "hash": "3d24234067c217f49dc985cbc60012ce72928059d528f330ba9cb23ce737906d"
  },
  "kernelspec": {
   "display_name": "Python 3 (ipykernel)",
   "language": "python",
   "name": "python3"
  },
  "language_info": {
   "codemirror_mode": {
    "name": "ipython",
    "version": 3
   },
   "file_extension": ".py",
   "mimetype": "text/x-python",
   "name": "python",
   "nbconvert_exporter": "python",
   "pygments_lexer": "ipython3",
   "version": "3.11.8"
  }
 },
 "nbformat": 4,
 "nbformat_minor": 4
}
