{
 "cells": [
  {
   "attachments": {},
   "cell_type": "markdown",
   "metadata": {},
   "source": [
    "# ANN-to-SNN Conversion for a Multilayer Perceptron (MLP)\n",
    "\n",
    "Download the Jupyter notebook : [MNIST_MLP.ipynb](https://raw.githubusercontent.com/ANNarchy/ANNarchy.github.io/master/docs/example/MNIST_MLP.ipynb)"
   ]
  },
  {
   "attachments": {},
   "cell_type": "markdown",
   "metadata": {},
   "source": [
    "This script will demonstrate the required steps to transform a multilayer perceptron trained on MNIST using TensorFlow into an SNN network usable in ANNarchy."
   ]
  },
  {
   "cell_type": "code",
   "execution_count": 1,
   "metadata": {},
   "outputs": [],
   "source": [
    "import matplotlib.pyplot as plt\n",
    "import tensorflow as tf\n"
   ]
  },
  {
   "attachments": {},
   "cell_type": "markdown",
   "metadata": {},
   "source": [
    "## Load MNIST\n",
    "\n",
    "First we need to load the MNIST test and training which is already provided by tensorflow."
   ]
  },
  {
   "cell_type": "code",
   "execution_count": 2,
   "metadata": {},
   "outputs": [],
   "source": [
    "(X_train, t_train), (X_test, t_test) = tf.keras.datasets.mnist.load_data()\n",
    "X_train = X_train.reshape(X_train.shape[0], 784).astype('float32') / 255.\n",
    "X_test = X_test.reshape(X_test.shape[0], 784).astype('float32') / 255.\n",
    "T_train = tf.keras.utils.to_categorical(t_train, 10)\n",
    "T_test = tf.keras.utils.to_categorical(t_test, 10)"
   ]
  },
  {
   "attachments": {},
   "cell_type": "markdown",
   "metadata": {},
   "source": [
    "## TensorFlow MLP Architecture\n",
    "\n",
    "The TensorFlow network was build with the functional API as follow:\n",
    "\n",
    "```\n",
    "inputs = tf.keras.layers.Input(shape=(784,))\n",
    "h1= tf.keras.layers.Dense(64,use_bias=False, activation='relu')(inputs)\n",
    "h2= tf.keras.layers.Dense(128,use_bias=False,activation='relu')(h1)\n",
    "h3= tf.keras.layers.Dense(128,use_bias=False,activation='relu')(h2)\n",
    "output=tf.keras.layers.Dense(10,use_bias=False,activation='softmax')(h3)\n",
    "\n",
    "model= tf.keras.Model(inputs,output)\n",
    "\n",
    "```\n",
    "\n",
    "We used the standard gradient descent (SGD) optimizer and used the categorical crossentropy loss."
   ]
  },
  {
   "cell_type": "code",
   "execution_count": 3,
   "metadata": {},
   "outputs": [
    {
     "name": "stdout",
     "output_type": "stream",
     "text": [
      "Model: \"model\"\n",
      "_________________________________________________________________\n",
      " Layer (type)                Output Shape              Param #   \n",
      "=================================================================\n",
      " input_1 (InputLayer)        [(None, 784)]             0         \n",
      "                                                                 \n",
      " dense (Dense)               (None, 128)               100352    \n",
      "                                                                 \n",
      " dense_1 (Dense)             (None, 128)               16384     \n",
      "                                                                 \n",
      " dense_2 (Dense)             (None, 10)                1280      \n",
      "                                                                 \n",
      "=================================================================\n",
      "Total params: 118,016\n",
      "Trainable params: 118,016\n",
      "Non-trainable params: 0\n",
      "_________________________________________________________________\n",
      "None\n"
     ]
    }
   ],
   "source": [
    "inputs = tf.keras.layers.Input(shape=(784,))\n",
    "x= tf.keras.layers.Dense(128, \n",
    "                          use_bias=False, \n",
    "                          activation='relu')(inputs)\n",
    "x= tf.keras.layers.Dense(128, \n",
    "                          use_bias=False,\n",
    "                          activation='relu')(x)\n",
    "x=tf.keras.layers.Dense(10, \n",
    "                          use_bias=False,\n",
    "                          activation='softmax')(x)\n",
    "\n",
    "model= tf.keras.Model(inputs, x)\n",
    "optimizer = tf.keras.optimizers.SGD(learning_rate=0.001)\n",
    "\n",
    "# Loss function\n",
    "model.compile(\n",
    "    loss='categorical_crossentropy', # loss function\n",
    "    optimizer=optimizer, # learning rule\n",
    "    metrics=['accuracy'] # show accuracy\n",
    ")\n",
    "print(model.summary())"
   ]
  },
  {
   "attachments": {},
   "cell_type": "markdown",
   "metadata": {},
   "source": [
    "## Train the network"
   ]
  },
  {
   "cell_type": "code",
   "execution_count": 4,
   "metadata": {},
   "outputs": [
    {
     "name": "stdout",
     "output_type": "stream",
     "text": [
      "Epoch 1/20\n",
      "844/844 [==============================] - 2s 2ms/step - loss: 2.1470 - accuracy: 0.2679 - val_loss: 1.9424 - val_accuracy: 0.5258\n",
      "Epoch 2/20\n",
      "844/844 [==============================] - 2s 2ms/step - loss: 1.7387 - accuracy: 0.6002 - val_loss: 1.4718 - val_accuracy: 0.7128\n",
      "Epoch 3/20\n",
      "844/844 [==============================] - 2s 2ms/step - loss: 1.2911 - accuracy: 0.7227 - val_loss: 1.0457 - val_accuracy: 0.7947\n",
      "Epoch 4/20\n",
      "844/844 [==============================] - 2s 2ms/step - loss: 0.9628 - accuracy: 0.7854 - val_loss: 0.7804 - val_accuracy: 0.8410\n",
      "Epoch 5/20\n",
      "844/844 [==============================] - 2s 2ms/step - loss: 0.7694 - accuracy: 0.8179 - val_loss: 0.6285 - val_accuracy: 0.8638\n",
      "Epoch 6/20\n",
      "844/844 [==============================] - 2s 2ms/step - loss: 0.6547 - accuracy: 0.8379 - val_loss: 0.5359 - val_accuracy: 0.8768\n",
      "Epoch 7/20\n",
      "844/844 [==============================] - 2s 2ms/step - loss: 0.5811 - accuracy: 0.8501 - val_loss: 0.4749 - val_accuracy: 0.8875\n",
      "Epoch 8/20\n",
      "844/844 [==============================] - 2s 2ms/step - loss: 0.5305 - accuracy: 0.8608 - val_loss: 0.4327 - val_accuracy: 0.8945\n",
      "Epoch 9/20\n",
      "844/844 [==============================] - 2s 2ms/step - loss: 0.4937 - accuracy: 0.8679 - val_loss: 0.4012 - val_accuracy: 0.9017\n",
      "Epoch 10/20\n",
      "844/844 [==============================] - 2s 2ms/step - loss: 0.4656 - accuracy: 0.8739 - val_loss: 0.3772 - val_accuracy: 0.9050\n",
      "Epoch 11/20\n",
      "844/844 [==============================] - 2s 2ms/step - loss: 0.4434 - accuracy: 0.8785 - val_loss: 0.3588 - val_accuracy: 0.9082\n",
      "Epoch 12/20\n",
      "844/844 [==============================] - 2s 2ms/step - loss: 0.4253 - accuracy: 0.8826 - val_loss: 0.3434 - val_accuracy: 0.9107\n",
      "Epoch 13/20\n",
      "844/844 [==============================] - 2s 2ms/step - loss: 0.4104 - accuracy: 0.8861 - val_loss: 0.3308 - val_accuracy: 0.9127\n",
      "Epoch 14/20\n",
      "844/844 [==============================] - 2s 2ms/step - loss: 0.3977 - accuracy: 0.8896 - val_loss: 0.3200 - val_accuracy: 0.9150\n",
      "Epoch 15/20\n",
      "844/844 [==============================] - 2s 2ms/step - loss: 0.3866 - accuracy: 0.8919 - val_loss: 0.3108 - val_accuracy: 0.9172\n",
      "Epoch 16/20\n",
      "844/844 [==============================] - 2s 2ms/step - loss: 0.3770 - accuracy: 0.8943 - val_loss: 0.3028 - val_accuracy: 0.9180\n",
      "Epoch 17/20\n",
      "844/844 [==============================] - 2s 2ms/step - loss: 0.3684 - accuracy: 0.8967 - val_loss: 0.2956 - val_accuracy: 0.9203\n",
      "Epoch 18/20\n",
      "844/844 [==============================] - 2s 2ms/step - loss: 0.3607 - accuracy: 0.8986 - val_loss: 0.2895 - val_accuracy: 0.9213\n",
      "Epoch 19/20\n",
      "844/844 [==============================] - 2s 2ms/step - loss: 0.3537 - accuracy: 0.9005 - val_loss: 0.2841 - val_accuracy: 0.9222\n",
      "Epoch 20/20\n",
      "844/844 [==============================] - 2s 2ms/step - loss: 0.3473 - accuracy: 0.9020 - val_loss: 0.2786 - val_accuracy: 0.9228\n"
     ]
    }
   ],
   "source": [
    "history = model.fit(\n",
    "    X_train, T_train,       # training data\n",
    "    batch_size=64,          # batch size\n",
    "    epochs=20,              # Maximum number of epochs\n",
    "    validation_split=0.1,   # Percentage of training data used for validation\n",
    ")\n",
    "model.save(\"mlp.h5\")"
   ]
  },
  {
   "cell_type": "code",
   "execution_count": 5,
   "metadata": {},
   "outputs": [
    {
     "data": {
      "image/png": "[encoded data removed]",
      "text/plain": [
       "<Figure size 1080x432 with 2 Axes>"
      ]
     },
     "metadata": {
      "needs_background": "light"
     },
     "output_type": "display_data"
    }
   ],
   "source": [
    "plt.figure(figsize=(15, 6))\n",
    "\n",
    "plt.subplot(121)\n",
    "plt.plot(history.history['loss'], '-r', label=\"Training\")\n",
    "plt.plot(history.history['val_loss'], '-b', label=\"Validation\")\n",
    "plt.xlabel('Epoch #')\n",
    "plt.ylabel('Loss')\n",
    "plt.legend()\n",
    "\n",
    "plt.subplot(122)\n",
    "plt.plot(history.history['accuracy'], '-r', label=\"Training\")\n",
    "plt.plot(history.history['val_accuracy'], '-b', label=\"Validation\")\n",
    "plt.xlabel('Epoch #')\n",
    "plt.ylabel('Accuracy')\n",
    "plt.legend()\n",
    "\n",
    "plt.show()"
   ]
  },
  {
   "cell_type": "code",
   "execution_count": 6,
   "metadata": {},
   "outputs": [
    {
     "name": "stdout",
     "output_type": "stream",
     "text": [
      "313/313 [==============================] - 0s 833us/step\n",
      "313/313 [==============================] - 0s 1ms/step - loss: 0.3221 - accuracy: 0.9099\n",
      "Test accuracy: 0.9099000096321106\n"
     ]
    }
   ],
   "source": [
    "predictions_keras = model.predict(X_test)\n",
    "test_loss, test_accuracy = model.evaluate(X_test, T_test)\n",
    "print(f\"Test accuracy: {test_accuracy}\")"
   ]
  },
  {
   "attachments": {},
   "cell_type": "markdown",
   "metadata": {},
   "source": [
    "## Initialize the Converter\n",
    "\n",
    "As the first step, we create an instance of the ANN-to-SNN conversion tool. The function receives the *input_encoding* parameter, which is the type of input encoding we want to use. By default, there are *intrinsically bursting* (\"IB\"), *phase shift oscillation* (\"PSO\"), *Poisson* (\"poisson\"), and *chattering* (\"CH\") available."
   ]
  },
  {
   "cell_type": "code",
   "execution_count": 7,
   "metadata": {},
   "outputs": [
    {
     "name": "stdout",
     "output_type": "stream",
     "text": [
      "ANNarchy 4.7 (4.7.3b) on linux (posix).\n"
     ]
    }
   ],
   "source": [
    "from ANNarchy.extensions.ann_to_snn_conversion import ANNtoSNNConverter\n",
    "snn_converter = ANNtoSNNConverter(input_encoding='IB')"
   ]
  },
  {
   "attachments": {},
   "cell_type": "markdown",
   "metadata": {},
   "source": [
    "After that, we provide the TensorFlow model stored as h5py file to the conversion tool. The print-out of the network structure of the imported network is suppressed when *show_info*=False is provided to *init_from_keras_model*."
   ]
  },
  {
   "cell_type": "code",
   "execution_count": 8,
   "metadata": {},
   "outputs": [
    {
     "name": "stdout",
     "output_type": "stream",
     "text": [
      "\n",
      "Selected In/Out\n",
      "----------------------\n",
      "input encoding: IB\n",
      "read-out method: spike_count\n",
      "\n",
      "Show populations/layer\n",
      "----------------------\n",
      "dense geometry =  128\n",
      "dense_1 geometry =  128\n",
      "dense_2 geometry =  10\n",
      "\n",
      "Show Connections/Projections\n",
      "----------------------\n",
      "--------\n",
      "input_1  ->  dense\n",
      "(784,) (128,)\n",
      "weight_m : (128, 784)\n",
      "--------\n",
      "dense  ->  dense_1\n",
      "(128,) (128,)\n",
      "weight_m : (128, 128)\n",
      "--------\n",
      "dense_1  ->  dense_2\n",
      "(128,) (10,)\n",
      "weight_m : (10, 128)\n",
      "WARNING: Dense representation is an experimental feature for spiking models, we greatly appreciate bug reports. \n",
      "Compiling network 1...  OK \n"
     ]
    }
   ],
   "source": [
    "snn_converter.init_from_keras_model(\"mlp.h5\")"
   ]
  },
  {
   "attachments": {},
   "cell_type": "markdown",
   "metadata": {},
   "source": [
    "## Inference for 10k Samples\n",
    "\n",
    "When the network has been built successfully, we can perform a test using all MNIST training samples. Using *duration_per_sample* the number of steps for one image can be adjusted."
   ]
  },
  {
   "cell_type": "code",
   "execution_count": 9,
   "metadata": {},
   "outputs": [
    {
     "name": "stderr",
     "output_type": "stream",
     "text": [
      "100%|████████████████████████████████████| 10000/10000 [00:14<00:00, 672.86it/s]\n"
     ]
    }
   ],
   "source": [
    "predictions_snn = snn_converter.predict(X_test, duration_per_sample=100)"
   ]
  },
  {
   "attachments": {},
   "cell_type": "markdown",
   "metadata": {},
   "source": [
    "Dependent on the selected read-out method it may happen that multiple neurons are selected. In the following, we select one of the candidates randomly.\n"
   ]
  },
  {
   "cell_type": "code",
   "execution_count": 10,
   "metadata": {},
   "outputs": [],
   "source": [
    "from numpy.random import choice\n",
    "predictions_snn = [ [choice(p)] for p in predictions_snn ]\n"
   ]
  },
  {
   "attachments": {},
   "cell_type": "markdown",
   "metadata": {},
   "source": [
    "## SNN\n",
    "\n",
    "Using the recorded predictions, we can now compute the accuracy using scikit-learn for all presented samples."
   ]
  },
  {
   "cell_type": "code",
   "execution_count": 11,
   "metadata": {},
   "outputs": [
    {
     "name": "stdout",
     "output_type": "stream",
     "text": [
      "              precision    recall  f1-score   support\n",
      "\n",
      "           0       0.91      0.98      0.94       980\n",
      "           1       0.95      0.97      0.96      1135\n",
      "           2       0.90      0.88      0.89      1032\n",
      "           3       0.87      0.88      0.88      1010\n",
      "           4       0.89      0.88      0.88       982\n",
      "           5       0.89      0.77      0.82       892\n",
      "           6       0.91      0.93      0.92       958\n",
      "           7       0.91      0.89      0.90      1028\n",
      "           8       0.82      0.88      0.85       974\n",
      "           9       0.86      0.85      0.86      1009\n",
      "\n",
      "    accuracy                           0.89     10000\n",
      "   macro avg       0.89      0.89      0.89     10000\n",
      "weighted avg       0.89      0.89      0.89     10000\n",
      "\n",
      "0.8922\n"
     ]
    }
   ],
   "source": [
    "from sklearn.metrics import classification_report, accuracy_score\n",
    "\n",
    "print(classification_report(t_test, predictions_snn))\n",
    "print(accuracy_score(t_test, predictions_snn))\n"
   ]
  },
  {
   "attachments": {},
   "cell_type": "markdown",
   "metadata": {},
   "source": [
    "## ANN\n",
    "\n",
    "As ground-truth we can also analyze the predictions from the original ANN"
   ]
  },
  {
   "cell_type": "code",
   "execution_count": 12,
   "metadata": {},
   "outputs": [
    {
     "name": "stdout",
     "output_type": "stream",
     "text": [
      "              precision    recall  f1-score   support\n",
      "\n",
      "           0       0.93      0.98      0.95       980\n",
      "           1       0.96      0.98      0.97      1135\n",
      "           2       0.91      0.88      0.90      1032\n",
      "           3       0.90      0.89      0.89      1010\n",
      "           4       0.89      0.93      0.91       982\n",
      "           5       0.89      0.83      0.86       892\n",
      "           6       0.92      0.94      0.93       958\n",
      "           7       0.91      0.91      0.91      1028\n",
      "           8       0.87      0.87      0.87       974\n",
      "           9       0.90      0.87      0.88      1009\n",
      "\n",
      "    accuracy                           0.91     10000\n",
      "   macro avg       0.91      0.91      0.91     10000\n",
      "weighted avg       0.91      0.91      0.91     10000\n",
      "\n",
      "0.9099\n"
     ]
    }
   ],
   "source": [
    "print(classification_report(t_test, predictions_keras.argmax(axis=1)))\n",
    "print(accuracy_score(t_test, predictions_keras.argmax(axis=1)))"
   ]
  },
  {
   "attachments": {},
   "cell_type": "markdown",
   "metadata": {},
   "source": [
    "## ANN vs. SNN\n",
    "\n",
    "A comparison between the predictions made by the ANN and SNN reveals potential different behavior."
   ]
  },
  {
   "cell_type": "code",
   "execution_count": 13,
   "metadata": {},
   "outputs": [
    {
     "name": "stdout",
     "output_type": "stream",
     "text": [
      "              precision    recall  f1-score   support\n",
      "\n",
      "           0       0.96      0.98      0.97      1026\n",
      "           1       0.98      0.99      0.98      1151\n",
      "           2       0.95      0.95      0.95       998\n",
      "           3       0.93      0.94      0.93      1004\n",
      "           4       0.95      0.91      0.93      1020\n",
      "           5       0.94      0.86      0.90       837\n",
      "           6       0.95      0.96      0.96       981\n",
      "           7       0.96      0.94      0.95      1028\n",
      "           8       0.89      0.95      0.92       976\n",
      "           9       0.90      0.92      0.91       979\n",
      "\n",
      "    accuracy                           0.94     10000\n",
      "   macro avg       0.94      0.94      0.94     10000\n",
      "weighted avg       0.94      0.94      0.94     10000\n",
      "\n",
      "0.9415\n"
     ]
    }
   ],
   "source": [
    "\n",
    "print(classification_report(predictions_keras.argmax(axis=1), predictions_snn))\n",
    "print(accuracy_score(predictions_keras.argmax(axis=1), predictions_snn))"
   ]
  },
  {
   "cell_type": "code",
   "execution_count": 14,
   "metadata": {},
   "outputs": [
    {
     "data": {
      "text/plain": [
       "array([[1010,    0,    2,    2,    0,    5,    3,    2,    1,    1],\n",
       "       [   0, 1138,    1,    1,    0,    1,    0,    0,   10,    0],\n",
       "       [   3,    5,  950,   11,    3,    1,    9,    1,   12,    3],\n",
       "       [   4,    3,   11,  944,    1,   19,    0,    1,   19,    2],\n",
       "       [   0,    2,    5,    0,  927,    2,   16,    2,    8,   58],\n",
       "       [  16,    1,    3,   36,    2,  721,   12,    2,   38,    6],\n",
       "       [   9,    1,    9,    0,    5,    9,  938,    0,   10,    0],\n",
       "       [   2,    8,   10,    6,    1,    1,    0,  966,    5,   29],\n",
       "       [   3,    5,   10,   14,    2,    6,    5,    2,  925,    4],\n",
       "       [   1,    1,    3,    2,   33,    0,    0,   27,   16,  896]])"
      ]
     },
     "execution_count": 14,
     "metadata": {},
     "output_type": "execute_result"
    }
   ],
   "source": [
    "from sklearn.metrics import confusion_matrix\n",
    "\n",
    "confusion_matrix(predictions_keras.argmax(axis=1), predictions_snn)"
   ]
  }
 ],
 "metadata": {
  "interpreter": {
   "hash": "3d24234067c217f49dc985cbc60012ce72928059d528f330ba9cb23ce737906d"
  },
  "kernelspec": {
   "display_name": "Python 3 (ipykernel)",
   "language": "python",
   "name": "python3"
  },
  "language_info": {
   "codemirror_mode": {
    "name": "ipython",
    "version": 3
   },
   "file_extension": ".py",
   "mimetype": "text/x-python",
   "name": "python",
   "nbconvert_exporter": "python",
   "pygments_lexer": "ipython3",
   "version": "3.8.10"
  }
 },
 "nbformat": 4,
 "nbformat_minor": 4
}
