{
 "cells": [
  {
   "attachments": {},
   "cell_type": "markdown",
   "metadata": {},
   "source": [
    "# ANN-to-SNN Conversion for a Convolutional Neural Network (CNN)\n",
    "\n",
    "Download the Jupyter notebook : [MNIST_CNN.ipynb](https://raw.githubusercontent.com/ANNarchy/ANNarchy.github.io/master/docs/example/MNIST_CNN.ipynb)"
   ]
  },
  {
   "attachments": {},
   "cell_type": "markdown",
   "metadata": {},
   "source": [
    "This script will demonstrate the required steps to transform a convolutional neural network trained on MNIST using TensorFlow into an SNN network usable in ANNarchy."
   ]
  },
  {
   "cell_type": "code",
   "execution_count": 1,
   "metadata": {},
   "outputs": [],
   "source": [
    "import matplotlib.pyplot as plt\n",
    "import tensorflow as tf\n"
   ]
  },
  {
   "attachments": {},
   "cell_type": "markdown",
   "metadata": {},
   "source": [
    "## Load MNIST\n",
    "\n",
    "First we need to obain the MNIST test. The following code downloads the required data if not already in the directory *mnist_testset*."
   ]
  },
  {
   "cell_type": "code",
   "execution_count": 2,
   "metadata": {},
   "outputs": [],
   "source": [
    "(X_train, t_train), (X_test, t_test) = tf.keras.datasets.mnist.load_data()\n",
    "X_train = X_train.astype('float32') / 255.\n",
    "X_test = X_test.astype('float32') / 255.\n",
    "T_train = tf.keras.utils.to_categorical(t_train, 10)\n",
    "T_test = tf.keras.utils.to_categorical(t_test, 10)"
   ]
  },
  {
   "attachments": {},
   "cell_type": "markdown",
   "metadata": {},
   "source": [
    "## TensorFlow Network\n",
    "\n",
    "The TensorFlow network was build with the functional API as follow:\n",
    "\n",
    "```\n",
    "inputs = tf.keras.Input(shape = input_shape)\n",
    "cx = tf.keras.layers.Conv2D(12, kernel_size=(5,5), activation='relu', padding = 'same',use_bias=False)(inputs)\n",
    "cx = tf.keras.layers.MaxPooling2D(pool_size=(2, 2))(cx)\n",
    "cx = tf.keras.layers.Conv2D(64, kernel_size=(5,5), activation='relu', padding = 'same',use_bias=False)(cx)\n",
    "cx = tf.keras.layers.MaxPooling2D(pool_size=(2, 2))(cx)\n",
    "cx = tf.keras.layers.Conv2D(64, kernel_size=(5,5), activation='relu', padding = 'same',use_bias=False)(cx)\n",
    "cx = tf.keras.layers.MaxPooling2D(pool_size=(2, 2))(cx)\n",
    "cx = tf.keras.layers.Dropout(0.25)(cx)\n",
    "x = tf.keras.layers.Flatten()(cx)\n",
    "outputs = tf.keras.layers.Dense(num_classes, activation='softmax', use_bias=False)(x)\n",
    "\n",
    "model= tf.keras.Model(inputs,outputs)\n",
    "```\n",
    "\n",
    "We used the standard gradient descent (SGD) optimizer and used the categorical crossentropy loss. "
   ]
  },
  {
   "cell_type": "code",
   "execution_count": 3,
   "metadata": {},
   "outputs": [
    {
     "name": "stdout",
     "output_type": "stream",
     "text": [
      "Model: \"model\"\n",
      "_________________________________________________________________\n",
      " Layer (type)                Output Shape              Param #   \n",
      "=================================================================\n",
      " input_1 (InputLayer)        [(None, 28, 28, 1)]       0         \n",
      "                                                                 \n",
      " conv2d (Conv2D)             (None, 28, 28, 12)        300       \n",
      "                                                                 \n",
      " max_pooling2d (MaxPooling2D  (None, 14, 14, 12)       0         \n",
      " )                                                               \n",
      "                                                                 \n",
      " conv2d_1 (Conv2D)           (None, 14, 14, 64)        19200     \n",
      "                                                                 \n",
      " max_pooling2d_1 (MaxPooling  (None, 7, 7, 64)         0         \n",
      " 2D)                                                             \n",
      "                                                                 \n",
      " conv2d_2 (Conv2D)           (None, 7, 7, 64)          102400    \n",
      "                                                                 \n",
      " max_pooling2d_2 (MaxPooling  (None, 3, 3, 64)         0         \n",
      " 2D)                                                             \n",
      "                                                                 \n",
      " dropout (Dropout)           (None, 3, 3, 64)          0         \n",
      "                                                                 \n",
      " flatten (Flatten)           (None, 576)               0         \n",
      "                                                                 \n",
      " dense (Dense)               (None, 10)                5760      \n",
      "                                                                 \n",
      "=================================================================\n",
      "Total params: 127,660\n",
      "Trainable params: 127,660\n",
      "Non-trainable params: 0\n",
      "_________________________________________________________________\n",
      "None\n"
     ]
    }
   ],
   "source": [
    "inputs = tf.keras.Input(shape = (28,28,1))\n",
    "cx = tf.keras.layers.Conv2D(12, \n",
    "                            kernel_size=(5,5),\n",
    "                            activation='relu',\n",
    "                            padding = 'same',\n",
    "                            use_bias=False)(inputs)\n",
    "cx = tf.keras.layers.MaxPooling2D(pool_size=(2, 2))(cx)\n",
    "cx = tf.keras.layers.Conv2D(64,\n",
    "                            kernel_size=(5,5),\n",
    "                            activation='relu',\n",
    "                            padding = 'same',\n",
    "                            use_bias=False)(cx)\n",
    "cx = tf.keras.layers.MaxPooling2D(pool_size=(2, 2))(cx)\n",
    "cx = tf.keras.layers.Conv2D(64,\n",
    "                            kernel_size=(5,5),\n",
    "                            activation='relu',\n",
    "                            padding = 'same',\n",
    "                            use_bias=False)(cx)\n",
    "cx = tf.keras.layers.MaxPooling2D(pool_size=(2, 2))(cx)\n",
    "cx = tf.keras.layers.Dropout(0.25)(cx)\n",
    "x = tf.keras.layers.Flatten()(cx)\n",
    "outputs = tf.keras.layers.Dense(10,\n",
    "                                activation='softmax',\n",
    "                                use_bias=False)(x)\n",
    "\n",
    "model= tf.keras.Model(inputs,outputs)\n",
    "optimizer = tf.keras.optimizers.SGD(learning_rate=0.001)\n",
    "\n",
    "# Loss function\n",
    "model.compile(\n",
    "    loss='categorical_crossentropy', # loss function\n",
    "    optimizer=optimizer, # learning rule\n",
    "    metrics=['accuracy'] # show accuracy\n",
    ")\n",
    "print(model.summary())\n"
   ]
  },
  {
   "attachments": {},
   "cell_type": "markdown",
   "metadata": {},
   "source": [
    "## Train the network\n",
    "\n",
    "We trained the network for 50 epochs with a batch size of 128, and after training, the network was saved with the ``` model.save() ``` function."
   ]
  },
  {
   "cell_type": "code",
   "execution_count": 4,
   "metadata": {},
   "outputs": [
    {
     "name": "stdout",
     "output_type": "stream",
     "text": [
      "Epoch 1/50\n",
      "422/422 [==============================] - 20s 46ms/step - loss: 2.2792 - accuracy: 0.1866 - val_loss: 2.2462 - val_accuracy: 0.3307\n",
      "Epoch 2/50\n",
      "422/422 [==============================] - 19s 45ms/step - loss: 2.2124 - accuracy: 0.3295 - val_loss: 2.1577 - val_accuracy: 0.4845\n",
      "Epoch 3/50\n",
      "422/422 [==============================] - 19s 45ms/step - loss: 2.0810 - accuracy: 0.4471 - val_loss: 1.9457 - val_accuracy: 0.6758\n",
      "Epoch 4/50\n",
      "422/422 [==============================] - 19s 46ms/step - loss: 1.7805 - accuracy: 0.5437 - val_loss: 1.4756 - val_accuracy: 0.7463\n",
      "Epoch 5/50\n",
      "422/422 [==============================] - 26s 60ms/step - loss: 1.3324 - accuracy: 0.6330 - val_loss: 0.9566 - val_accuracy: 0.8203\n",
      "Epoch 6/50\n",
      "422/422 [==============================] - 26s 62ms/step - loss: 0.9588 - accuracy: 0.7251 - val_loss: 0.6487 - val_accuracy: 0.8672\n",
      "Epoch 7/50\n",
      "422/422 [==============================] - 26s 63ms/step - loss: 0.7373 - accuracy: 0.7826 - val_loss: 0.4861 - val_accuracy: 0.8965\n",
      "Epoch 8/50\n",
      "422/422 [==============================] - 27s 63ms/step - loss: 0.6081 - accuracy: 0.8196 - val_loss: 0.3990 - val_accuracy: 0.9117\n",
      "Epoch 9/50\n",
      "422/422 [==============================] - 27s 64ms/step - loss: 0.5257 - accuracy: 0.8434 - val_loss: 0.3422 - val_accuracy: 0.9190\n",
      "Epoch 10/50\n",
      "422/422 [==============================] - 27s 64ms/step - loss: 0.4676 - accuracy: 0.8614 - val_loss: 0.3028 - val_accuracy: 0.9280\n",
      "Epoch 11/50\n",
      "422/422 [==============================] - 27s 65ms/step - loss: 0.4256 - accuracy: 0.8739 - val_loss: 0.2744 - val_accuracy: 0.9318\n",
      "Epoch 12/50\n",
      "422/422 [==============================] - 27s 64ms/step - loss: 0.3892 - accuracy: 0.8839 - val_loss: 0.2501 - val_accuracy: 0.9377\n",
      "Epoch 13/50\n",
      "422/422 [==============================] - 27s 63ms/step - loss: 0.3588 - accuracy: 0.8923 - val_loss: 0.2314 - val_accuracy: 0.9400\n",
      "Epoch 14/50\n",
      "422/422 [==============================] - 27s 63ms/step - loss: 0.3380 - accuracy: 0.8993 - val_loss: 0.2185 - val_accuracy: 0.9440\n",
      "Epoch 15/50\n",
      "422/422 [==============================] - 27s 63ms/step - loss: 0.3149 - accuracy: 0.9064 - val_loss: 0.2036 - val_accuracy: 0.9472\n",
      "Epoch 16/50\n",
      "422/422 [==============================] - 27s 63ms/step - loss: 0.3007 - accuracy: 0.9102 - val_loss: 0.1929 - val_accuracy: 0.9493\n",
      "Epoch 17/50\n",
      "422/422 [==============================] - 27s 63ms/step - loss: 0.2852 - accuracy: 0.9146 - val_loss: 0.1828 - val_accuracy: 0.9520\n",
      "Epoch 18/50\n",
      "422/422 [==============================] - 27s 63ms/step - loss: 0.2737 - accuracy: 0.9180 - val_loss: 0.1743 - val_accuracy: 0.9563\n",
      "Epoch 19/50\n",
      "422/422 [==============================] - 27s 63ms/step - loss: 0.2617 - accuracy: 0.9215 - val_loss: 0.1666 - val_accuracy: 0.9575\n",
      "Epoch 20/50\n",
      "422/422 [==============================] - 27s 63ms/step - loss: 0.2495 - accuracy: 0.9256 - val_loss: 0.1589 - val_accuracy: 0.9595\n",
      "Epoch 21/50\n",
      "422/422 [==============================] - 27s 63ms/step - loss: 0.2419 - accuracy: 0.9270 - val_loss: 0.1533 - val_accuracy: 0.9610\n",
      "Epoch 22/50\n",
      "422/422 [==============================] - 29s 69ms/step - loss: 0.2330 - accuracy: 0.9304 - val_loss: 0.1500 - val_accuracy: 0.9622\n",
      "Epoch 23/50\n",
      "422/422 [==============================] - 31s 73ms/step - loss: 0.2259 - accuracy: 0.9318 - val_loss: 0.1434 - val_accuracy: 0.9625\n",
      "Epoch 24/50\n",
      "422/422 [==============================] - 28s 65ms/step - loss: 0.2185 - accuracy: 0.9346 - val_loss: 0.1377 - val_accuracy: 0.9642\n",
      "Epoch 25/50\n",
      "422/422 [==============================] - 27s 63ms/step - loss: 0.2111 - accuracy: 0.9373 - val_loss: 0.1348 - val_accuracy: 0.9653\n",
      "Epoch 26/50\n",
      "422/422 [==============================] - 27s 64ms/step - loss: 0.2046 - accuracy: 0.9389 - val_loss: 0.1310 - val_accuracy: 0.9658\n",
      "Epoch 27/50\n",
      "422/422 [==============================] - 27s 63ms/step - loss: 0.1992 - accuracy: 0.9396 - val_loss: 0.1270 - val_accuracy: 0.9672\n",
      "Epoch 28/50\n",
      "422/422 [==============================] - 26s 63ms/step - loss: 0.1940 - accuracy: 0.9419 - val_loss: 0.1245 - val_accuracy: 0.9667\n",
      "Epoch 29/50\n",
      "422/422 [==============================] - 27s 64ms/step - loss: 0.1873 - accuracy: 0.9440 - val_loss: 0.1215 - val_accuracy: 0.9692\n",
      "Epoch 30/50\n",
      "422/422 [==============================] - 27s 63ms/step - loss: 0.1850 - accuracy: 0.9447 - val_loss: 0.1186 - val_accuracy: 0.9698\n",
      "Epoch 31/50\n",
      "422/422 [==============================] - 27s 64ms/step - loss: 0.1819 - accuracy: 0.9457 - val_loss: 0.1160 - val_accuracy: 0.9703\n",
      "Epoch 32/50\n",
      "422/422 [==============================] - 27s 63ms/step - loss: 0.1739 - accuracy: 0.9479 - val_loss: 0.1135 - val_accuracy: 0.9693\n",
      "Epoch 33/50\n",
      "422/422 [==============================] - 27s 63ms/step - loss: 0.1707 - accuracy: 0.9493 - val_loss: 0.1106 - val_accuracy: 0.9705\n",
      "Epoch 34/50\n",
      "422/422 [==============================] - 27s 63ms/step - loss: 0.1678 - accuracy: 0.9505 - val_loss: 0.1089 - val_accuracy: 0.9720\n",
      "Epoch 35/50\n",
      "422/422 [==============================] - 27s 63ms/step - loss: 0.1656 - accuracy: 0.9501 - val_loss: 0.1062 - val_accuracy: 0.9722\n",
      "Epoch 36/50\n",
      "422/422 [==============================] - 27s 63ms/step - loss: 0.1604 - accuracy: 0.9519 - val_loss: 0.1045 - val_accuracy: 0.9722\n",
      "Epoch 37/50\n",
      "422/422 [==============================] - 26s 63ms/step - loss: 0.1598 - accuracy: 0.9522 - val_loss: 0.1035 - val_accuracy: 0.9738\n",
      "Epoch 38/50\n",
      "422/422 [==============================] - 27s 63ms/step - loss: 0.1553 - accuracy: 0.9537 - val_loss: 0.1012 - val_accuracy: 0.9738\n",
      "Epoch 39/50\n",
      "422/422 [==============================] - 27s 64ms/step - loss: 0.1523 - accuracy: 0.9540 - val_loss: 0.0998 - val_accuracy: 0.9743\n",
      "Epoch 40/50\n",
      "422/422 [==============================] - 27s 63ms/step - loss: 0.1493 - accuracy: 0.9557 - val_loss: 0.0987 - val_accuracy: 0.9747\n",
      "Epoch 41/50\n",
      "422/422 [==============================] - 27s 64ms/step - loss: 0.1477 - accuracy: 0.9550 - val_loss: 0.0965 - val_accuracy: 0.9757\n",
      "Epoch 42/50\n",
      "422/422 [==============================] - 27s 63ms/step - loss: 0.1446 - accuracy: 0.9563 - val_loss: 0.0960 - val_accuracy: 0.9763\n",
      "Epoch 43/50\n",
      "422/422 [==============================] - 27s 63ms/step - loss: 0.1436 - accuracy: 0.9577 - val_loss: 0.0934 - val_accuracy: 0.9763\n",
      "Epoch 44/50\n",
      "422/422 [==============================] - 27s 64ms/step - loss: 0.1405 - accuracy: 0.9583 - val_loss: 0.0927 - val_accuracy: 0.9765\n",
      "Epoch 45/50\n",
      "422/422 [==============================] - 27s 63ms/step - loss: 0.1375 - accuracy: 0.9590 - val_loss: 0.0918 - val_accuracy: 0.9760\n",
      "Epoch 46/50\n",
      "422/422 [==============================] - 26s 63ms/step - loss: 0.1352 - accuracy: 0.9602 - val_loss: 0.0896 - val_accuracy: 0.9770\n",
      "Epoch 47/50\n",
      "422/422 [==============================] - 27s 63ms/step - loss: 0.1356 - accuracy: 0.9593 - val_loss: 0.0916 - val_accuracy: 0.9750\n",
      "Epoch 48/50\n",
      "422/422 [==============================] - 27s 63ms/step - loss: 0.1319 - accuracy: 0.9612 - val_loss: 0.0882 - val_accuracy: 0.9763\n",
      "Epoch 49/50\n",
      "422/422 [==============================] - 27s 63ms/step - loss: 0.1307 - accuracy: 0.9606 - val_loss: 0.0871 - val_accuracy: 0.9772\n",
      "Epoch 50/50\n",
      "422/422 [==============================] - 27s 63ms/step - loss: 0.1287 - accuracy: 0.9610 - val_loss: 0.0874 - val_accuracy: 0.9757\n"
     ]
    }
   ],
   "source": [
    "history = model.fit(\n",
    "    X_train, T_train,       # training data\n",
    "    batch_size=128,         # batch size\n",
    "    epochs=50,              # Maximum number of epochs\n",
    "    validation_split=0.1,   # Percentage of training data used for validation\n",
    ")\n",
    "model.save(\"cnn.h5\")"
   ]
  },
  {
   "cell_type": "code",
   "execution_count": 5,
   "metadata": {},
   "outputs": [
    {
     "data": {
      "image/png": "[encoded data removed]",
      "text/plain": [
       "<Figure size 1080x432 with 2 Axes>"
      ]
     },
     "metadata": {
      "needs_background": "light"
     },
     "output_type": "display_data"
    }
   ],
   "source": [
    "plt.figure(figsize=(15, 6))\n",
    "\n",
    "plt.subplot(121)\n",
    "plt.plot(history.history['loss'], '-r', label=\"Training\")\n",
    "plt.plot(history.history['val_loss'], '-b', label=\"Validation\")\n",
    "plt.xlabel('Epoch #')\n",
    "plt.ylabel('Loss')\n",
    "plt.legend()\n",
    "\n",
    "plt.subplot(122)\n",
    "plt.plot(history.history['accuracy'], '-r', label=\"Training\")\n",
    "plt.plot(history.history['val_accuracy'], '-b', label=\"Validation\")\n",
    "plt.xlabel('Epoch #')\n",
    "plt.ylabel('Accuracy')\n",
    "plt.legend()\n",
    "\n",
    "plt.show()"
   ]
  },
  {
   "attachments": {},
   "cell_type": "markdown",
   "metadata": {},
   "source": [
    "## Initialize the Converter\n",
    "\n",
    "As the first step, we create an instance of the ANN-to-SNN conversion tool. The class receives the *input_encoding* parameter, which is the type of input encoding we want to use. By default, there are *intrinsically bursting* (\"IB\"), *phase shift oscillation* (\"PSO\"), *Poisson* (\"poisson\"), and *chattering* (\"CH\") available. "
   ]
  },
  {
   "cell_type": "code",
   "execution_count": 6,
   "metadata": {},
   "outputs": [
    {
     "name": "stdout",
     "output_type": "stream",
     "text": [
      "ANNarchy 4.7 (4.7.3b) on linux (posix).\n"
     ]
    }
   ],
   "source": [
    "from ANNarchy.extensions.ann_to_snn_conversion import ANNtoSNNConverter\n",
    "snn_converter = ANNtoSNNConverter(input_encoding='IB')\n"
   ]
  },
  {
   "attachments": {},
   "cell_type": "markdown",
   "metadata": {},
   "source": [
    "After that, we provide the TensorFlow model stored as h5py file to the conversion tool. The print-out of the network structure of the imported network is suppressed when *show_info*=False is provided to *init_from_keras_model*."
   ]
  },
  {
   "cell_type": "code",
   "execution_count": 8,
   "metadata": {},
   "outputs": [
    {
     "name": "stdout",
     "output_type": "stream",
     "text": [
      "\n",
      "Selected In/Out\n",
      "----------------------\n",
      "input encoding: IB\n",
      "read-out method: spike_count\n",
      "\n",
      "Show populations/layer\n",
      "----------------------\n",
      "conv2d geometry =  (28, 28, 12)\n",
      "max_pooling2d geometry = (14, 14, 12)\n",
      "conv2d_1 geometry =  (14, 14, 64)\n",
      "max_pooling2d_1 geometry = (7, 7, 64)\n",
      "conv2d_2 geometry =  (7, 7, 64)\n",
      "max_pooling2d_2 geometry = (3, 3, 64)\n",
      "dense geometry =  10\n",
      "\n",
      "Show Connections/Projections\n",
      "----------------------\n",
      "--------\n",
      "input_1  ->  conv2d\n",
      "(28, 28) (28, 28, 12)\n",
      "weight_m : (12, 5, 5)\n",
      "--------\n",
      "conv2d  ->  max_pooling2d operation =  max\n",
      "--------\n",
      "max_pooling2d  ->  conv2d_1\n",
      "(14, 14, 12) (14, 14, 64)\n",
      "weight_m : (64, 5, 5, 12)\n",
      "--------\n",
      "conv2d_1  ->  max_pooling2d_1 operation =  max\n",
      "--------\n",
      "max_pooling2d_1  ->  conv2d_2\n",
      "(7, 7, 64) (7, 7, 64)\n",
      "weight_m : (64, 5, 5, 64)\n",
      "--------\n",
      "conv2d_2  ->  max_pooling2d_2 operation =  max\n",
      "--------\n",
      "max_pooling2d_2  ->  dense\n",
      "(3, 3, 64) (10,)\n",
      "weight_m : (10, 576)\n",
      "WARNING: Dense representation is an experimental feature for spiking models, we greatly appreciate bug reports. \n",
      "Compiling network 1...  OK \n"
     ]
    }
   ],
   "source": [
    "snn_converter.init_from_keras_model(\"cnn.h5\")"
   ]
  },
  {
   "attachments": {},
   "cell_type": "markdown",
   "metadata": {},
   "source": [
    "## Inference for 200 Samples\n",
    "\n",
    "When the network has been built successfully, we can perform a test using 200 samples. Using *duration_per_sample* the number of steps for one image can be adjusted."
   ]
  },
  {
   "cell_type": "code",
   "execution_count": 9,
   "metadata": {},
   "outputs": [
    {
     "name": "stderr",
     "output_type": "stream",
     "text": [
      "100%|███████████████████████████████████| 10000/10000 [4:32:43<00:00,  1.64s/it]\n"
     ]
    }
   ],
   "source": [
    "predictions = snn_converter.predict(X_test, duration_per_sample=200)"
   ]
  },
  {
   "attachments": {},
   "cell_type": "markdown",
   "metadata": {},
   "source": [
    "Using the recored predictions, we can now compute the accuracy using scikit-learn for 200 samples."
   ]
  },
  {
   "cell_type": "code",
   "execution_count": null,
   "metadata": {},
   "outputs": [],
   "source": [
    "from sklearn.metrics import classification_report, accuracy_score\n",
    "classification_report(ab_labl[:200], predictions)\n",
    "accuracy_score(ab_labl[:200], predictions)\n"
   ]
  }
 ],
 "metadata": {
  "interpreter": {
   "hash": "3d24234067c217f49dc985cbc60012ce72928059d528f330ba9cb23ce737906d"
  },
  "kernelspec": {
   "display_name": "Python 3 (ipykernel)",
   "language": "python",
   "name": "python3"
  },
  "language_info": {
   "codemirror_mode": {
    "name": "ipython",
    "version": 3
   },
   "file_extension": ".py",
   "mimetype": "text/x-python",
   "name": "python",
   "nbconvert_exporter": "python",
   "pygments_lexer": "ipython3",
   "version": "3.8.10"
  }
 },
 "nbformat": 4,
 "nbformat_minor": 4
}
