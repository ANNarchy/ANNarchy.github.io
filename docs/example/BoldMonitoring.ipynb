{
 "cells": [
  {
   "cell_type": "markdown",
   "metadata": {},
   "source": [
    "# Recording BOLD signals\n",
    "\n",
    "Download the Jupyter notebook : [BoldMonitoring.ipynb](https://raw.githubusercontent.com/ANNarchy/ANNarchy.github.io/master/docs/example/BoldMonitoring.ipynb)\n",
    "\n",
    "This notebook demonstrates the usage of the BOLD monitoring extension. It has to be explicitly imported:"
   ]
  },
  {
   "cell_type": "code",
   "execution_count": 1,
   "metadata": {},
   "outputs": [
    {
     "name": "stdout",
     "output_type": "stream",
     "text": [
      "ANNarchy 4.7 (4.7.1b) on darwin (posix).\n"
     ]
    }
   ],
   "source": [
    "from ANNarchy import *\n",
    "from ANNarchy.extensions.bold import *"
   ]
  },
  {
   "cell_type": "markdown",
   "metadata": {},
   "source": [
    "## Background\n",
    "\n",
    "ANNarchy pre-implements some model variants of the BOLD models presented in Stephan et al. (2007) which are variations of the Balloon Model originally designed by Buxton et al. (1998). The four balloon variants model pre-implemented in ANNarchy follow the naming scheme of Stephan et al. (2007). The model name starts with *balloon_* followed by either *C* (i. e. classical coefficient) or *R* (i. e. revised coefficient) and then followed by either *N* which means non-linear BOLD equation or *L* which means linear bold equation.\n",
    "\n",
    "We only provide here the equations without much explanations, for more details please refer to the literature:\n",
    "\n",
    ">  Buxton, R. B., Wong, E. C., and Frank, L. R. (1998). Dynamics of blood flow and oxygenation changes during brain activation: the balloon model. Magnetic resonance in medicine 39, 855–864. doi:10.1002/mrm.1910390602\n",
    "\n",
    ">  Friston et al. (2000). Nonlinear responses in fMRI: the balloon model, volterra kernels, and other hemodynamics. NeuroImage 12, 466–477\n",
    "\n",
    ">  Buxton et al. (2004). Modeling the hemodynamic response to brain activation. Neuroimage 23, S220–S233. doi:10.1016/j.neuroimage.2004.07.013\n",
    "\n",
    ">  Stephan et al. (2007). Comparing hemodynamic models with DCM. Neuroimage 38, 387–401. doi:10.1016/j.neuroimage.2007.07.040\n",
    "\n",
    ">  Maith et al. (2021) A computational model-based analysis of basal ganglia pathway changes in Parkinson’s disease inferred from resting-state fMRI. European Journal of Neuroscience. 2021; 53: 2278– 2295. doi:10.1111/ejn.14868 \n",
    "\n",
    "\n",
    "## Single input Balloon model\n",
    "\n",
    "This script shows a simple example for the application of one of the default models (the *balloon_RN* model) on a simple network. The *balloon_RN* model is described by the following equations:\n",
    "\n",
    "$$\n",
    "    \\tau \\cdot \\frac{ds}{dt} = \\phi \\cdot I_\\text{CBF} - \\kappa \\cdot s - \\gamma \\cdot (f_{in} - 1)\n",
    "$$\n",
    "\n",
    "$$\n",
    "    \\frac{df_{in}}{dt} = s\n",
    "$$\n",
    "\n",
    "$$\n",
    "    E = 1 - (1 - E_{0})^{ \\frac{1}{f_{in}} }\n",
    "$$\n",
    "\n",
    "$$\n",
    "    \\tau \\cdot \\frac{dv}{dt} = \\frac{1}{\\tau_0} \\cdot (f_{in} - f_{out})\n",
    "$$\n",
    "\n",
    "$$\n",
    "    f_{out} = v^{\\frac{1}{\\alpha}}\n",
    "$$\n",
    "\n",
    "$$\n",
    "    \\tau \\cdot \\frac{dq}{dt} = \\frac{1}{\\tau_0} \\cdot ( f_{in} \\cdot \\frac{E}{E_0} - \\frac{q}{v} \\cdot f_{out} )\n",
    "$$\n",
    "\n",
    "with revised coefficients and non-linear bold equation:\n",
    "\n",
    "$$k_1            = 4.3 \\, v_0 \\, E_0 \\, \\text{TE}$$\n",
    "\n",
    "$$k_2            = \\epsilon \\, r_0 \\, E_0 \\, \\text{TE}$$\n",
    "\n",
    "$$k_3            = 1 - \\epsilon$$\n",
    "\n",
    "$$\n",
    "    BOLD = v_0 \\cdot ( k_1 \\cdot (1-q) + k_2 \\cdot (1 - \\dfrac{q}{v}) + k_3 \\cdot (1 - v) )\n",
    "$$\n",
    "\n",
    "There are two important variables in that model: `BOLD` which is the output of the model and `I_CBF` which is the input signal, reflecting the mean firing rate of the input populations.\n",
    "\n",
    "As the BOLD model reflects the change of activity levels in the recorded area, we will implement the following experiment. We record from two populations with 100 Izhikevich neurons each. After a short period of time we raise the activity level of one population for a fixed time window. For simplicity, we do not use connections between the neurons but simply increase the noise term in the Izhikevich model. This should lead to a noticeable BOLD signal."
   ]
  },
  {
   "cell_type": "markdown",
   "metadata": {},
   "source": [
    "### Populations\n",
    "\n",
    "We first create two populations of Izhikevich neurons:"
   ]
  },
  {
   "cell_type": "code",
   "execution_count": 2,
   "metadata": {},
   "outputs": [],
   "source": [
    "clear()\n",
    "\n",
    "pop0 = Population(100, neuron=Izhikevich)\n",
    "pop1 = Population(100, neuron=Izhikevich)"
   ]
  },
  {
   "cell_type": "markdown",
   "metadata": {},
   "source": [
    "As we will not have any connections between the neurons, we need to increase the noise to create some baseline activity:"
   ]
  },
  {
   "cell_type": "code",
   "execution_count": 3,
   "metadata": {},
   "outputs": [],
   "source": [
    "# Set noise to create some baseline activity\n",
    "pop0.noise = 5.0; pop1.noise = 5.0"
   ]
  },
  {
   "cell_type": "markdown",
   "metadata": {},
   "source": [
    "The mean firing rate of the neurons will be used as an input to the BOLD model. This need to be activated explicitly as the computation of this value is quite expensive. In our example, the mean firing rate should be computed across a time window of 100 ms. The resulting value will be stored in the `r` attribute of the populations and can be easily recorded."
   ]
  },
  {
   "cell_type": "code",
   "execution_count": 4,
   "metadata": {},
   "outputs": [],
   "source": [
    "# Compute mean firing rate in Hz on 100ms window\n",
    "pop0.compute_firing_rate(window=100.0)\n",
    "pop1.compute_firing_rate(window=100.0)\n",
    "\n",
    "# Record the mean firing rate\n",
    "mon_pop0 = Monitor(pop0, [\"r\"], start=False)\n",
    "mon_pop1 = Monitor(pop1, [\"r\"], start=False)"
   ]
  },
  {
   "cell_type": "markdown",
   "metadata": {},
   "source": [
    "### BOLD Monitor definition\n",
    "\n",
    "The BOLD monitor expects a list of populations which we want to record (in our case `pop0` and `pop1`). A BOLD model should be specified, here we take `balloon_RN` which is the default. We then specify the mapping from the population variable that should influence the BOLD signal, in our case the mean firing rate `r`, to the input variable of the BOLD model `I_CBF`. \n",
    "\n",
    "The mean firing rate is normalized over a time window of 2000 ms and we record both input and output signals:"
   ]
  },
  {
   "cell_type": "code",
   "execution_count": 5,
   "metadata": {},
   "outputs": [],
   "source": [
    "m_bold = BoldMonitor(\n",
    "    \n",
    "    populations = [pop0, pop1], # recorded populations\n",
    "    \n",
    "    bold_model = balloon_RN(), # BOLD model to use (default is balloon_RN)\n",
    "    \n",
    "    mapping = {'I_CBF': 'r'}, # mapping from pop.r to I_CBF\n",
    "    \n",
    "    normalize_input = 2000,  # time window to compute baseline.\n",
    "    \n",
    "    recorded_variables = [\"I_CBF\", \"BOLD\"]  # variables to be recorded\n",
    ")"
   ]
  },
  {
   "cell_type": "markdown",
   "metadata": {},
   "source": [
    "Now we can compile and initialize the network:"
   ]
  },
  {
   "cell_type": "code",
   "execution_count": 6,
   "metadata": {},
   "outputs": [
    {
     "name": "stdout",
     "output_type": "stream",
     "text": [
      "Compiling ...  OK \n"
     ]
    }
   ],
   "source": [
    "compile()"
   ]
  },
  {
   "cell_type": "markdown",
   "metadata": {},
   "source": [
    "### Simulation\n",
    "\n",
    "We first simulate 1 second biological time to ensure that the network reaches a stable firing rate:"
   ]
  },
  {
   "cell_type": "code",
   "execution_count": 7,
   "metadata": {},
   "outputs": [],
   "source": [
    "# Ramp up time\n",
    "simulate(1000)"
   ]
  },
  {
   "cell_type": "markdown",
   "metadata": {},
   "source": [
    "We then enable the recording of all monitors:"
   ]
  },
  {
   "cell_type": "code",
   "execution_count": 8,
   "metadata": {},
   "outputs": [],
   "source": [
    "# Start recording\n",
    "mon_pop0.start()\n",
    "mon_pop1.start()\n",
    "m_bold.start()"
   ]
  },
  {
   "cell_type": "markdown",
   "metadata": {},
   "source": [
    "We simulate for 5 seconds with lower noise and we increase the noise in `pop0` for 5 seconds before decreasing it again:"
   ]
  },
  {
   "cell_type": "code",
   "execution_count": 9,
   "metadata": {},
   "outputs": [],
   "source": [
    "# We manipulate the noise for the half of the neurons\n",
    "simulate(5000)      # 5s with low noise\n",
    "pop0.noise = 7.5\n",
    "simulate(5000)      # 5s with higher noise (one population)\n",
    "pop0.noise = 5\n",
    "simulate(10000)     # 10s with low noise\n",
    "\n",
    "# Retrieve the recordings\n",
    "mean_fr1 = np.mean(mon_pop0.get(\"r\"), axis=1)\n",
    "mean_fr2 = np.mean(mon_pop1.get(\"r\"), axis=1)\n",
    "\n",
    "input_data = m_bold.get(\"I_CBF\")\n",
    "bold_data = m_bold.get(\"BOLD\")"
   ]
  },
  {
   "cell_type": "markdown",
   "metadata": {},
   "source": [
    "### Evaluation\n",
    "\n",
    "We can now plot:\n",
    "\n",
    "* the mean firing rate in the input populations.\n",
    "* the recorded activity `I` which serves as an input to the BOLD model.\n",
    "* the resulting BOLD signal."
   ]
  },
  {
   "cell_type": "code",
   "execution_count": 10,
   "metadata": {},
   "outputs": [
    {
     "data": {
      "image/png": "[encoded data removed]",
      "text/plain": [
       "<Figure size 1440x432 with 3 Axes>"
      ]
     },
     "metadata": {
      "needs_background": "light"
     },
     "output_type": "display_data"
    }
   ],
   "source": [
    "import matplotlib.pyplot as plt\n",
    "\n",
    "plt.figure(figsize=(20,6))\n",
    "grid = plt.GridSpec(1, 3, left=0.05, right=0.95)\n",
    "\n",
    "# mean firing rate\n",
    "ax1 = plt.subplot(grid[0, 0])\n",
    "\n",
    "ax1.plot(mean_fr1, label=\"pop0\")\n",
    "ax1.plot(mean_fr2, label=\"pop1\")\n",
    "plt.legend()\n",
    "ax1.set_ylabel(\"Average mean firing rate [Hz]\", fontweight=\"bold\", fontsize=18)\n",
    "\n",
    "# BOLD input signal\n",
    "ax2 = plt.subplot(grid[0, 1])\n",
    "\n",
    "ax2.plot(input_data)\n",
    "ax2.set_ylabel(\"BOLD input I_CBF\", fontweight=\"bold\", fontsize=18)\n",
    "\n",
    "# BOLD output signal\n",
    "ax3 = plt.subplot(grid[0, 2])\n",
    "\n",
    "ax3.plot(bold_data*100.0)\n",
    "ax3.set_ylabel(\"BOLD [%]\", fontweight=\"bold\", fontsize=18)\n",
    "\n",
    "# x-axis labels as seconds\n",
    "for ax in [ax1, ax2, ax3]:\n",
    "    ax.set_xticks(np.arange(0,21,2)*1000)\n",
    "    ax.set_xticklabels(np.arange(0,21,2))\n",
    "    ax.set_xlabel(\"time [s]\", fontweight=\"bold\", fontsize=18)\n",
    "\n",
    "plt.show()"
   ]
  },
  {
   "cell_type": "markdown",
   "metadata": {},
   "source": [
    "## Davis model\n",
    "\n",
    "Let's now demonstrate how to define a custom BOLD model. The default Ballon model is defined by the following code:\n",
    "\n",
    "```python\n",
    "balloon_RN = BoldModel(\n",
    "    parameters = \"\"\"\n",
    "        phi       = 1.0         ;   kappa     = 1/1.54\n",
    "        gamma     = 1/2.46      ;   E_0       = 0.34\n",
    "        tau       = 0.98        ;   alpha     = 0.33\n",
    "        V_0       = 0.02        ;   v_0       = 40.3\n",
    "        TE        = 40/1000.    ;   epsilon   = 1.43\n",
    "        r_0       = 25.         ;   second    = 1000.0\n",
    "    \"\"\",\n",
    "    equations = \"\"\"\n",
    "        # CBF input\n",
    "        I_CBF          = sum(I_CBF)       \n",
    "        ds/dt          = (phi * I_CBF - kappa * s - gamma * (f_in - 1))/second  \n",
    "        df_in/dt       = s / second                                                : init=1, min=0.01\n",
    "\n",
    "        # Balloon model\n",
    "        E              = 1 - (1 - E_0)**(1 / f_in)                                 : init=0.3424\n",
    "        dq/dt          = (f_in * E / E_0 - (q / v) * f_out)/(tau*second)           : init=1, min=0.01\n",
    "        dv/dt          = (f_in - f_out)/(tau*second)                               : init=1, min=0.01\n",
    "        f_out          = v**(1 / alpha)                                            : init=1, min=0.01\n",
    "\n",
    "        # Revised coefficients\n",
    "        k_1            = 4.3 * v_0 * E_0 * TE\n",
    "        k_2            = epsilon * r_0 * E_0 * TE\n",
    "        k_3            = 1.0 - epsilon\n",
    "\n",
    "        # Non-linear BOLD equation\n",
    "        BOLD           = V_0 * (k_1 * (1 - q) + k_2 * (1 - (q / v)) + k_3 * (1 - v))\n",
    "    \"\"\",\n",
    "    inputs=['I_CBF']\n",
    ")\n",
    "```\n",
    "\n",
    "It is very similar to the interface of a Neuron model, with parameters and equations defined in two multi-line strings. The input signal `I_CBF` has to be explicitly defined in the `inputs` argument to help the BOLD monitor create the mapping. \n",
    "\n",
    "To demonstrate how to create a custom BOLD model, let's suppose we want a model that computes both the BOLD signal of the Balloon model and the one of the Davis model:\n",
    "\n",
    "> Davis, T. L., Kwong, K. K., Weisskoff, R. M., and Rosen, B. R. (1998). Calibrated functional MRI: mapping the dynamics of oxidative metabolism. Proceedings of the National Academy of Sciences 95, 1834–1839\n",
    "\n",
    "Without going into too many details, the Davis model computes the BOLD signal directly using `f_in` and `E`, without introducing a differential equation for the BOLD signal. Its implementation using the BOLD model would be:\n",
    "\n",
    "```python\n",
    "DavisModel = BoldModel(\n",
    "    parameters = \"\"\"\n",
    "        second = 1000.0\n",
    "        \n",
    "        phi    = 1.0    # Friston et al. (2000)\n",
    "        kappa  = 1/1.54\n",
    "        gamma  = 1/2.46\n",
    "        E_0    = 0.34\n",
    "        \n",
    "        M      = 0.149   # Griffeth & Buxton (2011)\n",
    "        alpha  = 0.14\n",
    "        beta   = 0.91\n",
    "    \"\"\",\n",
    "    equations = \"\"\"\n",
    "        # CBF-driving input as in Friston et al. (2000)\n",
    "        I_CBF    = sum(I_CBF)                                             : init=0\n",
    "        ds/dt    = (phi * I_CBF - kappa * s - gamma * (f_in - 1))/second  : init=0\n",
    "        df_in/dt = s  / second                                            : init=1, min=0.01\n",
    "    ​\n",
    "        # Using part of the Balloon model to calculate r (normalized CMRO2) as in Buxton et al. (2004)\n",
    "        E        = 1 - (1 - E_0)**(1 / f_in)                              : init=0.34\n",
    "        r        = f_in * E / E_0\n",
    "        \n",
    "        # Davis model\n",
    "        BOLD     = M * (1 - f_in**alpha * (r / f_in)**beta)               : init=0\n",
    "    \"\"\",\n",
    "    inputs=['I_CBF']\n",
    ")\n",
    "```\n",
    "\n",
    "Note that we could simply define two BOLD monitors using different models, but let's create a complex model that does both for the sake of demonstration.\n",
    "\n",
    "Let's first redefine the populations of the previous section:\n"
   ]
  },
  {
   "cell_type": "code",
   "execution_count": 11,
   "metadata": {},
   "outputs": [],
   "source": [
    "clear()\n",
    "\n",
    "# Two populations of 100 izhikevich neurons\n",
    "pop0 = Population(100, neuron=Izhikevich)\n",
    "pop1 = Population(100, neuron=Izhikevich)\n",
    "\n",
    "# Set noise to create some baseline activity\n",
    "pop0.noise = 5.0; pop1.noise = 5.0\n",
    "\n",
    "# Compute mean firing rate in Hz on 100ms window\n",
    "pop0.compute_firing_rate(window=100.0)\n",
    "pop1.compute_firing_rate(window=100.0)\n",
    "\n",
    "# Create required monitors\n",
    "mon_pop0 = Monitor(pop0, [\"r\"], start=False)\n",
    "mon_pop1 = Monitor(pop1, [\"r\"], start=False)"
   ]
  },
  {
   "cell_type": "markdown",
   "metadata": {},
   "source": [
    "We can now create a hybrid model computing both the Balloon RN model of Stephan et al. (2007) and the Davis model:"
   ]
  },
  {
   "cell_type": "code",
   "execution_count": 12,
   "metadata": {},
   "outputs": [],
   "source": [
    "balloon_Davis = BoldModel(\n",
    "    parameters = \"\"\"\n",
    "        phi       = 1.0         ;   kappa     = 1/1.54\n",
    "        gamma     = 1/2.46      ;   E_0       = 0.34\n",
    "        tau       = 0.98        ;   alpha     = 0.33\n",
    "        V_0       = 0.02        ;   v_0       = 40.3\n",
    "        TE        = 40/1000.    ;   epsilon   = 1.43\n",
    "        r_0       = 25.         ;   second    = 1000.0\n",
    "        M         = 0.062       ;   alpha2    = 0.14\n",
    "        beta      = 0.91\n",
    "    \"\"\",\n",
    "    equations = \"\"\"\n",
    "        # CBF input\n",
    "        I_CBF          = sum(I_CBF)       \n",
    "        ds/dt          = (phi * I_CBF - kappa * s - gamma * (f_in - 1))/second  \n",
    "        df_in/dt       = s / second                                                : init=1, min=0.01\n",
    "\n",
    "        # Balloon model\n",
    "        E              = 1 - (1 - E_0)**(1 / f_in)                                 : init=0.3424\n",
    "        dq/dt          = (f_in * E / E_0 - (q / v) * f_out)/(tau*second)           : init=1, min=0.01\n",
    "        dv/dt          = (f_in - f_out)/(tau*second)                               : init=1, min=0.01\n",
    "        f_out          = v**(1 / alpha)                                            : init=1, min=0.01\n",
    "\n",
    "        # Revised coefficients\n",
    "        k_1            = 4.3 * v_0 * E_0 * TE\n",
    "        k_2            = epsilon * r_0 * E_0 * TE\n",
    "        k_3            = 1.0 - epsilon\n",
    "\n",
    "        # Non-linear BOLD equation\n",
    "        BOLD           = V_0 * (k_1 * (1 - q) + k_2 * (1 - (q / v)) + k_3 * (1 - v))\n",
    "        \n",
    "        # Davis model\n",
    "        r = f_in * E / E_0                                                         : init=1, min=0.01\n",
    "        BOLD_Davis =  M * (1 - f_in**alpha2 * (r / f_in)**beta) \n",
    "    \"\"\",\n",
    "    inputs=['I_CBF']\n",
    ")"
   ]
  },
  {
   "cell_type": "markdown",
   "metadata": {},
   "source": [
    "We now only need to pass that new object to the BOLD monitor, and specify that we want to record both `BOLD` and `BOLD_Davis`:"
   ]
  },
  {
   "cell_type": "code",
   "execution_count": null,
   "metadata": {},
   "outputs": [
    {
     "name": "stdout",
     "output_type": "stream",
     "text": [
      "Compiling ...  "
     ]
    }
   ],
   "source": [
    "m_bold = BoldMonitor(\n",
    "    \n",
    "    populations = [pop0, pop1],  \n",
    "    \n",
    "    bold_model = balloon_Davis,\n",
    "    \n",
    "    mapping={'I_CBF': 'r'},            \n",
    "    \n",
    "    normalize_input=2000, \n",
    "    \n",
    "    recorded_variables=[\"I_CBF\", \"BOLD\", \"BOLD_Davis\"]\n",
    ")\n",
    "\n",
    "compile()"
   ]
  },
  {
   "cell_type": "markdown",
   "metadata": {},
   "source": [
    "We run the same simulation protocol and compare the two BOLD signals. Note that the value of `M` has been modified to give a similar amplitude to both signals:"
   ]
  },
  {
   "cell_type": "code",
   "execution_count": null,
   "metadata": {},
   "outputs": [],
   "source": [
    "# Ramp up time\n",
    "simulate(1000)\n",
    "\n",
    "# Start recording\n",
    "mon_pop0.start()\n",
    "mon_pop1.start()\n",
    "m_bold.start()\n",
    "\n",
    "# we manipulate the noise for the half of the neurons\n",
    "simulate(5000)      # 5s with low noise\n",
    "pop0.noise = 7.5\n",
    "simulate(5000)      # 5s with higher noise (one population)\n",
    "pop0.noise = 5\n",
    "simulate(10000)     # 10s with low noise\n",
    "\n",
    "# retrieve the recordings\n",
    "mean_fr1 = np.mean(mon_pop0.get(\"r\"), axis=1)\n",
    "mean_fr2 = np.mean(mon_pop1.get(\"r\"), axis=1)\n",
    "\n",
    "If_data = m_bold.get(\"I_CBF\")\n",
    "bold_data = m_bold.get(\"BOLD\")\n",
    "davis_data = m_bold.get(\"BOLD_Davis\")"
   ]
  },
  {
   "cell_type": "code",
   "execution_count": null,
   "metadata": {},
   "outputs": [],
   "source": [
    "plt.figure(figsize=(20,8))\n",
    "grid = plt.GridSpec(1, 2, left=0.05, right=0.95)\n",
    "\n",
    "# mean firing rate\n",
    "ax1 = plt.subplot(grid[0, 0])\n",
    "ax1.plot(mean_fr1, label=\"pop0\")\n",
    "ax1.plot(mean_fr2, label=\"pop1\")\n",
    "plt.legend()\n",
    "ax1.set_ylabel(\"Average firing rate [Hz]\", fontweight=\"bold\", fontsize=18)\n",
    "\n",
    "# BOLD input signal as percent\n",
    "ax2 = plt.subplot(grid[0, 1])\n",
    "ax2.plot(bold_data*100.0, label=\"Balloon_RN\")\n",
    "ax2.plot(davis_data*100.0, label=\"Davis\")\n",
    "plt.legend()\n",
    "ax2.set_ylabel(\"BOLD [%]\", fontweight=\"bold\", fontsize=18)\n",
    "\n",
    "# x-axis labels as seconds\n",
    "for ax in [ax1, ax2]:\n",
    "    ax.set_xticks(np.arange(0,21,2)*1000)\n",
    "    ax.set_xticklabels(np.arange(0,21,2))\n",
    "    ax.set_xlabel(\"time [s]\", fontweight=\"bold\", fontsize=18)\n",
    "\n",
    "plt.show()"
   ]
  },
  {
   "cell_type": "code",
   "execution_count": null,
   "metadata": {},
   "outputs": [],
   "source": []
  }
 ],
 "metadata": {
  "kernelspec": {
   "display_name": "Python 3.9.7 64-bit ('base': conda)",
   "language": "python",
   "name": "python397jvsc74a57bd03d24234067c217f49dc985cbc60012ce72928059d528f330ba9cb23ce737906d"
  },
  "language_info": {
   "codemirror_mode": {
    "name": "ipython",
    "version": 3
   },
   "file_extension": ".py",
   "mimetype": "text/x-python",
   "name": "python",
   "nbconvert_exporter": "python",
   "pygments_lexer": "ipython3",
   "version": "3.9.9"
  }
 },
 "nbformat": 4,
 "nbformat_minor": 4
}
